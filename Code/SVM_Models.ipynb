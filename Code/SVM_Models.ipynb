{
 "cells": [
  {
   "cell_type": "code",
   "execution_count": 1,
   "id": "e2e5cdaa-0119-40e7-a185-da19f84d7137",
   "metadata": {},
   "outputs": [],
   "source": [
    "from _Setup import *"
   ]
  },
  {
   "cell_type": "code",
   "execution_count": 2,
   "id": "9a675ef5-932c-495c-a4af-e760f9334ed0",
   "metadata": {},
   "outputs": [],
   "source": [
    "train = pd.read_csv(missForestTrainFile)\n",
    "test = pd.read_csv(missForestTestFile)\n",
    "submission_data = pd.read_csv(rawSubmissionFile)"
   ]
  },
  {
   "cell_type": "code",
   "execution_count": 11,
   "id": "556e609e-e7a3-4c28-b12e-ae198b857162",
   "metadata": {},
   "outputs": [],
   "source": [
    "#Separating columns \n",
    "#X = train.drop(columns=['Unit2','Unnamed: 0', 'HospAdmTime','SepsisLabel', 'time']) \n",
    "X = train.drop(columns=['Unit2','Unnamed: 0', 'HospAdmTime', 'time'])  \n",
    "y = train['SepsisLabel']"
   ]
  },
  {
   "cell_type": "code",
   "execution_count": 12,
   "id": "40367dfe-a660-45e0-9f91-7e2362f07254",
   "metadata": {},
   "outputs": [
    {
     "data": {
      "text/html": [
       "<div>\n",
       "<style scoped>\n",
       "    .dataframe tbody tr th:only-of-type {\n",
       "        vertical-align: middle;\n",
       "    }\n",
       "\n",
       "    .dataframe tbody tr th {\n",
       "        vertical-align: top;\n",
       "    }\n",
       "\n",
       "    .dataframe thead th {\n",
       "        text-align: right;\n",
       "    }\n",
       "</style>\n",
       "<table border=\"1\" class=\"dataframe\">\n",
       "  <thead>\n",
       "    <tr style=\"text-align: right;\">\n",
       "      <th></th>\n",
       "      <th>HR</th>\n",
       "      <th>O2Sat</th>\n",
       "      <th>Temp</th>\n",
       "      <th>SBP</th>\n",
       "      <th>MAP</th>\n",
       "      <th>DBP</th>\n",
       "      <th>Resp</th>\n",
       "      <th>BaseExcess</th>\n",
       "      <th>FiO2</th>\n",
       "      <th>pH</th>\n",
       "      <th>...</th>\n",
       "      <th>Hct</th>\n",
       "      <th>Hgb</th>\n",
       "      <th>WBC</th>\n",
       "      <th>Platelets</th>\n",
       "      <th>Age</th>\n",
       "      <th>patient</th>\n",
       "      <th>Gender</th>\n",
       "      <th>Unit1</th>\n",
       "      <th>ICULOS</th>\n",
       "      <th>SepsisLabel</th>\n",
       "    </tr>\n",
       "  </thead>\n",
       "  <tbody>\n",
       "    <tr>\n",
       "      <th>0</th>\n",
       "      <td>-0.432220</td>\n",
       "      <td>0.749512</td>\n",
       "      <td>-2.124421</td>\n",
       "      <td>-0.621283</td>\n",
       "      <td>0.146051</td>\n",
       "      <td>0.420292</td>\n",
       "      <td>-1.294263</td>\n",
       "      <td>0.045536</td>\n",
       "      <td>0.073114</td>\n",
       "      <td>0.340467</td>\n",
       "      <td>...</td>\n",
       "      <td>0.422033</td>\n",
       "      <td>0.740608</td>\n",
       "      <td>0.373687</td>\n",
       "      <td>-0.431184</td>\n",
       "      <td>-0.299413</td>\n",
       "      <td>16426</td>\n",
       "      <td>1.0</td>\n",
       "      <td>0.0</td>\n",
       "      <td>1.0</td>\n",
       "      <td>0.0</td>\n",
       "    </tr>\n",
       "    <tr>\n",
       "      <th>1</th>\n",
       "      <td>-0.432220</td>\n",
       "      <td>0.749512</td>\n",
       "      <td>-2.124421</td>\n",
       "      <td>-0.621283</td>\n",
       "      <td>0.146051</td>\n",
       "      <td>0.420292</td>\n",
       "      <td>-1.294263</td>\n",
       "      <td>0.045536</td>\n",
       "      <td>0.073114</td>\n",
       "      <td>0.340467</td>\n",
       "      <td>...</td>\n",
       "      <td>0.422033</td>\n",
       "      <td>0.740608</td>\n",
       "      <td>0.373687</td>\n",
       "      <td>-0.431184</td>\n",
       "      <td>-0.299413</td>\n",
       "      <td>16426</td>\n",
       "      <td>1.0</td>\n",
       "      <td>0.0</td>\n",
       "      <td>2.0</td>\n",
       "      <td>0.0</td>\n",
       "    </tr>\n",
       "    <tr>\n",
       "      <th>2</th>\n",
       "      <td>-0.320708</td>\n",
       "      <td>0.592277</td>\n",
       "      <td>-0.914129</td>\n",
       "      <td>-0.428503</td>\n",
       "      <td>0.299849</td>\n",
       "      <td>0.716228</td>\n",
       "      <td>-1.294263</td>\n",
       "      <td>0.045536</td>\n",
       "      <td>-0.000054</td>\n",
       "      <td>0.710267</td>\n",
       "      <td>...</td>\n",
       "      <td>0.422033</td>\n",
       "      <td>0.740608</td>\n",
       "      <td>0.373687</td>\n",
       "      <td>-0.431184</td>\n",
       "      <td>-0.299413</td>\n",
       "      <td>16426</td>\n",
       "      <td>1.0</td>\n",
       "      <td>0.0</td>\n",
       "      <td>3.0</td>\n",
       "      <td>0.0</td>\n",
       "    </tr>\n",
       "    <tr>\n",
       "      <th>3</th>\n",
       "      <td>-0.376464</td>\n",
       "      <td>0.906747</td>\n",
       "      <td>-0.531932</td>\n",
       "      <td>-0.471343</td>\n",
       "      <td>0.053772</td>\n",
       "      <td>0.346308</td>\n",
       "      <td>-1.294263</td>\n",
       "      <td>-0.768098</td>\n",
       "      <td>-0.000054</td>\n",
       "      <td>-0.029333</td>\n",
       "      <td>...</td>\n",
       "      <td>0.422033</td>\n",
       "      <td>0.740608</td>\n",
       "      <td>0.373687</td>\n",
       "      <td>-0.431184</td>\n",
       "      <td>-0.299413</td>\n",
       "      <td>16426</td>\n",
       "      <td>1.0</td>\n",
       "      <td>0.0</td>\n",
       "      <td>4.0</td>\n",
       "      <td>0.0</td>\n",
       "    </tr>\n",
       "    <tr>\n",
       "      <th>4</th>\n",
       "      <td>-0.710999</td>\n",
       "      <td>0.906747</td>\n",
       "      <td>-0.531932</td>\n",
       "      <td>-0.342823</td>\n",
       "      <td>-0.130785</td>\n",
       "      <td>0.050372</td>\n",
       "      <td>-1.479445</td>\n",
       "      <td>-0.768098</td>\n",
       "      <td>-0.014687</td>\n",
       "      <td>-0.029333</td>\n",
       "      <td>...</td>\n",
       "      <td>0.422033</td>\n",
       "      <td>0.740608</td>\n",
       "      <td>0.373687</td>\n",
       "      <td>-0.431184</td>\n",
       "      <td>-0.299413</td>\n",
       "      <td>16426</td>\n",
       "      <td>1.0</td>\n",
       "      <td>0.0</td>\n",
       "      <td>5.0</td>\n",
       "      <td>0.0</td>\n",
       "    </tr>\n",
       "  </tbody>\n",
       "</table>\n",
       "<p>5 rows × 27 columns</p>\n",
       "</div>"
      ],
      "text/plain": [
       "         HR     O2Sat      Temp       SBP       MAP       DBP      Resp  \\\n",
       "0 -0.432220  0.749512 -2.124421 -0.621283  0.146051  0.420292 -1.294263   \n",
       "1 -0.432220  0.749512 -2.124421 -0.621283  0.146051  0.420292 -1.294263   \n",
       "2 -0.320708  0.592277 -0.914129 -0.428503  0.299849  0.716228 -1.294263   \n",
       "3 -0.376464  0.906747 -0.531932 -0.471343  0.053772  0.346308 -1.294263   \n",
       "4 -0.710999  0.906747 -0.531932 -0.342823 -0.130785  0.050372 -1.479445   \n",
       "\n",
       "   BaseExcess      FiO2        pH  ...       Hct       Hgb       WBC  \\\n",
       "0    0.045536  0.073114  0.340467  ...  0.422033  0.740608  0.373687   \n",
       "1    0.045536  0.073114  0.340467  ...  0.422033  0.740608  0.373687   \n",
       "2    0.045536 -0.000054  0.710267  ...  0.422033  0.740608  0.373687   \n",
       "3   -0.768098 -0.000054 -0.029333  ...  0.422033  0.740608  0.373687   \n",
       "4   -0.768098 -0.014687 -0.029333  ...  0.422033  0.740608  0.373687   \n",
       "\n",
       "   Platelets       Age  patient  Gender  Unit1  ICULOS  SepsisLabel  \n",
       "0  -0.431184 -0.299413    16426     1.0    0.0     1.0          0.0  \n",
       "1  -0.431184 -0.299413    16426     1.0    0.0     2.0          0.0  \n",
       "2  -0.431184 -0.299413    16426     1.0    0.0     3.0          0.0  \n",
       "3  -0.431184 -0.299413    16426     1.0    0.0     4.0          0.0  \n",
       "4  -0.431184 -0.299413    16426     1.0    0.0     5.0          0.0  \n",
       "\n",
       "[5 rows x 27 columns]"
      ]
     },
     "execution_count": 12,
     "metadata": {},
     "output_type": "execute_result"
    }
   ],
   "source": [
    "X.head()"
   ]
  },
  {
   "cell_type": "code",
   "execution_count": 5,
   "id": "106c6906-f93b-4c5a-90e0-aa84e2f7b3f7",
   "metadata": {},
   "outputs": [],
   "source": [
    "#k = 10  # Adjust this number based on your needs\n",
    "#selector = SelectKBest(score_func=f_classif, k=k)\n",
    "#X_selected = selector.fit_transform(X, y)\n",
    "\n",
    "# Get the names of the selected features\n",
    "#selected_features = X.columns[selector.get_support()]\n",
    "#print(\"Selected Features:\", selected_features)"
   ]
  },
  {
   "cell_type": "code",
   "execution_count": 13,
   "id": "feeaf45f-915d-4841-97cb-5237321d55a2",
   "metadata": {},
   "outputs": [],
   "source": [
    "# take a sample from the data \n",
    "sampled_patient_ids = X['patient'].drop_duplicates().sample(frac=0.1, random_state=42) \n",
    "\n",
    "# Filter the original DataFrame to include only the sampled patient IDs\n",
    "sampled_data = X[X['patient'].isin(sampled_patient_ids)]\n",
    "y = sampled_data['SepsisLabel']"
   ]
  },
  {
   "cell_type": "code",
   "execution_count": 14,
   "id": "f8934154-2d3b-4c0b-9af8-4fb6c8f98c02",
   "metadata": {},
   "outputs": [],
   "source": [
    "selected_columns = ['ICULOS']\n",
    "X_selected = sampled_data[selected_columns]"
   ]
  },
  {
   "cell_type": "code",
   "execution_count": null,
   "id": "c3c6c672-e4b5-45a9-9813-2db1dfaddbb9",
   "metadata": {},
   "outputs": [],
   "source": [
    "from sklearn.svm import SVC\n",
    "\n",
    "model = SVC(kernel='linear') \n",
    "model.fit(X_selected, y)"
   ]
  },
  {
   "cell_type": "code",
   "execution_count": null,
   "id": "7ed1bd67-2caa-4695-b77e-9bed75ef42eb",
   "metadata": {},
   "outputs": [],
   "source": [
    "y_pred = model.predict(test)"
   ]
  },
  {
   "cell_type": "code",
   "execution_count": null,
   "id": "788d6531-7a2d-484d-b71f-9908f2df96f0",
   "metadata": {},
   "outputs": [],
   "source": [
    "from sklearn.svm import SVC\n",
    "from sklearn.model_selection import GridSearchCV\n",
    "\n",
    "param_grid = {\n",
    "    'C': [0.1, 1, 10],\n",
    "    'kernel': ['linear', 'rbf'],\n",
    "}\n",
    "\n",
    "grid_search = GridSearchCV(SVC(), param_grid, cv=5)\n",
    "grid_search.fit(X_selected, y)\n",
    "\n",
    "print(f\"Best parameters: {grid_search.best_params_}\")"
   ]
  },
  {
   "cell_type": "code",
   "execution_count": null,
   "id": "c346c796-cc08-4609-b00c-1feb90551d39",
   "metadata": {},
   "outputs": [],
   "source": [
    "submission_data['SepsisLabel'] = y_pred\n",
    "\n",
    "# Optionally, save the modified DataFrame to a CSV file\n",
    "# TODO : create a variable for this path in _Setup.py\n",
    "# submission_data.to_csv('submission_data_with_predictions.csv', index=False)\n",
    "\n",
    "# Display the updated DataFrame (optional)\n",
    "print(submission_data.head())"
   ]
  },
  {
   "cell_type": "code",
   "execution_count": null,
   "id": "5b2d1e86-19de-482c-aa20-accef5b67ca3",
   "metadata": {},
   "outputs": [],
   "source": [
    "num_rows = submission_data.shape[0]\n",
    "print(\"Number of rows in submission_data:\", num_rows)"
   ]
  },
  {
   "cell_type": "code",
   "execution_count": null,
   "id": "4498546a-85b5-4ec9-88df-3d33fd4e6030",
   "metadata": {},
   "outputs": [],
   "source": [
    "print(\"\\nClassification Report (Training):\\n\", classification_report(y, y_pred))"
   ]
  },
  {
   "cell_type": "code",
   "execution_count": null,
   "id": "4ea4c040-a028-4d94-8f84-206d285a375c",
   "metadata": {},
   "outputs": [],
   "source": [
    "f1 = f1_score(y_test, y_pred)\n",
    "print(f\"F1 Score: {f1:.2f}\")"
   ]
  },
  {
   "cell_type": "markdown",
   "id": "93e1d8fe-f7bf-4b99-947d-eb25f42fd652",
   "metadata": {},
   "source": [
    "## Logistic regression "
   ]
  },
  {
   "cell_type": "code",
   "execution_count": 10,
   "id": "a54fe59f-5437-4f67-88c4-bb8e7eb09206",
   "metadata": {},
   "outputs": [],
   "source": [
    "import pandas as pd\n",
    "from sklearn.model_selection import train_test_split\n",
    "from sklearn.preprocessing import StandardScaler\n",
    "from sklearn.linear_model import LogisticRegression\n",
    "from sklearn.metrics import classification_report, confusion_matrix"
   ]
  },
  {
   "cell_type": "code",
   "execution_count": 53,
   "id": "b7d13382-4021-4891-bf17-99fbe01fb12e",
   "metadata": {},
   "outputs": [],
   "source": [
    "columns_t = ['ICULOS', 'HR', 'O2Sat', 'Temp', 'Resp', 'BaseExcess', 'BUN', 'FiO2', 'Magnesium', 'Age', 'WBC', 'Platelets' , 'Calcium', 'Creatinine', \n",
    "            'MAP', 'SBP' , 'Hct', 'PaCO2']\n",
    "columns_test = ['ICULOS', 'HR', 'O2Sat', 'Temp', 'Resp', 'BaseExcess', 'BUN', 'FiO2', 'Magnesium', 'Age', 'WBC', 'Platelets' , 'Calcium', 'Creatinine', \n",
    "            'MAP', 'SBP' , 'Hct', 'PaCO2']\n",
    "\n",
    "x_train = train[columns_t]\n",
    "x_test = test[columns_test]"
   ]
  },
  {
   "cell_type": "code",
   "execution_count": 63,
   "id": "bd1e9745-8e5c-4b71-8e98-6d3281fbcf04",
   "metadata": {},
   "outputs": [
    {
     "name": "stdout",
     "output_type": "stream",
     "text": [
      "Optimization terminated successfully.\n",
      "         Current function value: 0.469206\n",
      "         Iterations 6\n",
      "                           Logit Regression Results                           \n",
      "==============================================================================\n",
      "Dep. Variable:            SepsisLabel   No. Observations:              1389147\n",
      "Model:                          Logit   Df Residuals:                  1389120\n",
      "Method:                           MLE   Df Model:                           26\n",
      "Date:                Thu, 31 Oct 2024   Pseudo R-squ.:                  0.1314\n",
      "Time:                        11:04:02   Log-Likelihood:            -6.5180e+05\n",
      "converged:                       True   LL-Null:                   -7.5042e+05\n",
      "Covariance Type:            nonrobust   LLR p-value:                     0.000\n",
      "==============================================================================\n",
      "                 coef    std err          z      P>|z|      [0.025      0.975]\n",
      "------------------------------------------------------------------------------\n",
      "const         -2.0513      0.006   -344.410      0.000      -2.063      -2.040\n",
      "HR             0.2457      0.002    101.250      0.000       0.241       0.250\n",
      "O2Sat          0.0318      0.002     14.235      0.000       0.027       0.036\n",
      "Temp           0.2529      0.002    105.315      0.000       0.248       0.258\n",
      "SBP           -0.0382      0.004    -10.407      0.000      -0.045      -0.031\n",
      "MAP           -0.0950      0.005    -17.408      0.000      -0.106      -0.084\n",
      "DBP           -0.1210      0.004    -27.656      0.000      -0.130      -0.112\n",
      "Resp           0.1403      0.002     63.936      0.000       0.136       0.145\n",
      "BaseExcess    -0.0936      0.005    -18.681      0.000      -0.103      -0.084\n",
      "FiO2          -0.0002      0.002     -0.126      0.900      -0.004       0.003\n",
      "pH             0.0659      0.005     13.114      0.000       0.056       0.076\n",
      "PaCO2          0.0804      0.005     17.422      0.000       0.071       0.089\n",
      "BUN            0.2070      0.003     73.404      0.000       0.201       0.213\n",
      "Calcium       -0.1290      0.002    -58.529      0.000      -0.133      -0.125\n",
      "Creatinine     0.0256      0.003      9.327      0.000       0.020       0.031\n",
      "Glucose        0.0676      0.002     31.549      0.000       0.063       0.072\n",
      "Magnesium      0.0043      0.002      1.890      0.059      -0.000       0.009\n",
      "Potassium     -0.0573      0.002    -23.959      0.000      -0.062      -0.053\n",
      "Hct            0.0195      0.007      2.986      0.003       0.007       0.032\n",
      "Hgb           -0.0554      0.007     -8.445      0.000      -0.068      -0.043\n",
      "WBC            0.1345      0.002     57.154      0.000       0.130       0.139\n",
      "Platelets      0.0027      0.002      1.204      0.228      -0.002       0.007\n",
      "Age           -0.0300      0.002    -12.250      0.000      -0.035      -0.025\n",
      "patient     2.728e-06   2.68e-07     10.167      0.000     2.2e-06    3.25e-06\n",
      "Gender         0.1206      0.005     26.313      0.000       0.112       0.130\n",
      "Unit1          0.2176      0.005     43.645      0.000       0.208       0.227\n",
      "ICULOS         0.0153   5.87e-05    261.045      0.000       0.015       0.015\n",
      "==============================================================================\n"
     ]
    }
   ],
   "source": [
    "import pandas as pd\n",
    "import statsmodels.api as sm\n",
    "from sklearn.model_selection import train_test_split\n",
    "\n",
    "x_train_sm = sm.add_constant(X)\n",
    "model = sm.Logit(y, x_train_sm)\n",
    "result = model.fit()\n",
    "y_pred_prob = result.predict(x_train_sm)  \n",
    "y_pred = (y_pred_prob >= 0.4).astype(int)  \n",
    "\n",
    "# Calculate the confusion matrix\n",
    "cm_train = confusion_matrix(y, y_pred)\n",
    "\n",
    "\n",
    "# Print the summary\n",
    "print(result.summary())"
   ]
  },
  {
   "cell_type": "code",
   "execution_count": 64,
   "id": "465ceddc-61ee-4950-bfcd-55cba8a02afa",
   "metadata": {},
   "outputs": [
    {
     "name": "stdout",
     "output_type": "stream",
     "text": [
      "Confusion Matrix (Training Data):\n",
      "[[1035086   33489]\n",
      " [ 250863   69709]]\n"
     ]
    }
   ],
   "source": [
    "cm_train = confusion_matrix(y, y_pred)\n",
    "\n",
    "# Print the confusion matrix\n",
    "print(\"Confusion Matrix (Training Data):\")\n",
    "print(cm_train)"
   ]
  },
  {
   "cell_type": "code",
   "execution_count": 65,
   "id": "bfee9934-d63a-4ec3-a919-92c22cfb64b2",
   "metadata": {},
   "outputs": [
    {
     "name": "stdout",
     "output_type": "stream",
     "text": [
      "F1 Score (Training Data): 0.33\n"
     ]
    }
   ],
   "source": [
    "import pandas as pd\n",
    "import statsmodels.api as sm\n",
    "from sklearn.metrics import confusion_matrix, ConfusionMatrixDisplay, f1_score\n",
    "\n",
    "f1 = f1_score(y, y_pred)\n",
    "print(f\"F1 Score (Training Data): {f1:.2f}\")"
   ]
  },
  {
   "cell_type": "code",
   "execution_count": 57,
   "id": "2a48dfab-1f9d-4310-9066-ce2828b8fad0",
   "metadata": {},
   "outputs": [
    {
     "name": "stdout",
     "output_type": "stream",
     "text": [
      "       ID  SepsisLabel\n",
      "0  6560_1            0\n",
      "1  6560_2            0\n",
      "2  6560_3            0\n",
      "3  6560_4            0\n",
      "4  6560_5            0\n"
     ]
    }
   ],
   "source": [
    "submission_data['SepsisLabel'] = y_pred\n",
    "\n",
    "# Optionally, save the modified DataFrame to a CSV file\n",
    "# TODO : create a variable for this path in _Setup.py\n",
    "# submission_data.to_csv('submission_data_with_predictions.csv', index=False)\n",
    "\n",
    "# Display the updated DataFrame (optional)\n",
    "print(submission_data.head())"
   ]
  },
  {
   "cell_type": "code",
   "execution_count": 60,
   "id": "0ff8261c-676c-4774-bbbd-7cb8e660f574",
   "metadata": {},
   "outputs": [
    {
     "name": "stdout",
     "output_type": "stream",
     "text": [
      "Number of rows in submission_data: 464354\n"
     ]
    }
   ],
   "source": [
    "num_rows = submission_data.shape[0]\n",
    "print(\"Number of rows in submission_data:\", num_rows)"
   ]
  },
  {
   "cell_type": "code",
   "execution_count": 61,
   "id": "0c42a9db-5d7f-4391-bd3a-3ddd8a902193",
   "metadata": {},
   "outputs": [],
   "source": [
    "submission_data.to_csv('submission_data_Logit.csv', index=False)"
   ]
  },
  {
   "cell_type": "markdown",
   "id": "0fb77551-9cee-403e-b9e6-19db5a6fcdcb",
   "metadata": {},
   "source": [
    "## Random Forest "
   ]
  },
  {
   "cell_type": "code",
   "execution_count": 67,
   "id": "88a3721f-1eb6-4409-97f8-eda7a45f99cc",
   "metadata": {},
   "outputs": [],
   "source": [
    "import pandas as pd\n",
    "from sklearn.model_selection import train_test_split\n",
    "from sklearn.ensemble import RandomForestClassifier\n",
    "from sklearn.metrics import confusion_matrix, ConfusionMatrixDisplay, accuracy_score, f1_score"
   ]
  },
  {
   "cell_type": "code",
   "execution_count": null,
   "id": "cdc5041b-faae-4181-9cd9-f2af1192ef06",
   "metadata": {},
   "outputs": [],
   "source": [
    "model = RandomForestClassifier(n_estimators=100, random_state=42)\n",
    "model.fit(X, y)\n",
    "\n",
    "# Make predictions on the test set\n",
    "y_pred = model.predict(test)\n",
    "\n",
    "# Evaluate the model\n",
    "cm = confusion_matrix(y, y_pred)\n",
    "print(\"Confusion Matrix (Test Data):\")\n",
    "print(cm)\n",
    "\n",
    "# Print metrics\n",
    "accuracy = accuracy_score(y, y_pred)\n",
    "f1 = f1_score(y, y_pred)\n",
    "print(f\"Accuracy: {accuracy:.2f}\")\n",
    "print(f\"F1 Score: {f1:.2f}\")"
   ]
  },
  {
   "cell_type": "code",
   "execution_count": null,
   "id": "c3bfc561-fe29-4e85-bbb8-66954f262bcd",
   "metadata": {},
   "outputs": [],
   "source": []
  }
 ],
 "metadata": {
  "kernelspec": {
   "display_name": "Python 3 (ipykernel)",
   "language": "python",
   "name": "python3"
  },
  "language_info": {
   "codemirror_mode": {
    "name": "ipython",
    "version": 3
   },
   "file_extension": ".py",
   "mimetype": "text/x-python",
   "name": "python",
   "nbconvert_exporter": "python",
   "pygments_lexer": "ipython3",
   "version": "3.12.7"
  }
 },
 "nbformat": 4,
 "nbformat_minor": 5
}
