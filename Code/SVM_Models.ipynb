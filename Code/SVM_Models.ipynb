{
 "cells": [
  {
   "cell_type": "code",
   "execution_count": 1,
   "id": "e2e5cdaa-0119-40e7-a185-da19f84d7137",
   "metadata": {},
   "outputs": [],
   "source": [
    "from _Setup import *"
   ]
  },
  {
   "cell_type": "code",
   "execution_count": 20,
   "id": "798b54c1-f909-431d-9166-3464bcbec9bc",
   "metadata": {},
   "outputs": [],
   "source": [
    "#train = pd.read_csv(r\"C:\\Users\\Marin\\OneDrive\\Documents\\GitHub\\BC-Fall2024-CaseCompetition-Team2\\Code\\ttrain.csv\",\n",
    "                        low_memory = False)\n",
    "#test_data = pd.read_csv(r\"C:\\Users\\Marin\\OneDrive\\Documents\\GitHub\\BC-Fall2024-CaseCompetition-Team2\\Code\\ttest.csv\", \n",
    "                       #low_memory = False)"
   ]
  },
  {
   "cell_type": "code",
   "execution_count": 21,
   "id": "9a675ef5-932c-495c-a4af-e760f9334ed0",
   "metadata": {},
   "outputs": [],
   "source": [
    "train = pd.read_csv(missForestTrainFile)\n",
    "test = pd.read_csv(missForestTestFile)\n",
    "submission_data = pd.read_csv(rawSubmissionFile)"
   ]
  },
  {
   "cell_type": "code",
   "execution_count": 22,
   "id": "556e609e-e7a3-4c28-b12e-ae198b857162",
   "metadata": {},
   "outputs": [],
   "source": [
    "#Separating columns \n",
    "#X = train.drop(columns=['Unit2','Unnamed: 0', 'HospAdmTime','SepsisLabel', 'time']) \n",
    "X = train.drop(columns=['Unit2', 'HospAdmTime', 'time'])  \n",
    "y = train['SepsisLabel']"
   ]
  },
  {
   "cell_type": "code",
   "execution_count": 23,
   "id": "40367dfe-a660-45e0-9f91-7e2362f07254",
   "metadata": {},
   "outputs": [
    {
     "data": {
      "text/html": [
       "<div>\n",
       "<style scoped>\n",
       "    .dataframe tbody tr th:only-of-type {\n",
       "        vertical-align: middle;\n",
       "    }\n",
       "\n",
       "    .dataframe tbody tr th {\n",
       "        vertical-align: top;\n",
       "    }\n",
       "\n",
       "    .dataframe thead th {\n",
       "        text-align: right;\n",
       "    }\n",
       "</style>\n",
       "<table border=\"1\" class=\"dataframe\">\n",
       "  <thead>\n",
       "    <tr style=\"text-align: right;\">\n",
       "      <th></th>\n",
       "      <th>patient</th>\n",
       "      <th>HR</th>\n",
       "      <th>O2Sat</th>\n",
       "      <th>Temp</th>\n",
       "      <th>SBP</th>\n",
       "      <th>MAP</th>\n",
       "      <th>DBP</th>\n",
       "      <th>Resp</th>\n",
       "      <th>EtCO2</th>\n",
       "      <th>HCO3</th>\n",
       "      <th>...</th>\n",
       "      <th>Hct</th>\n",
       "      <th>Hgb</th>\n",
       "      <th>PTT</th>\n",
       "      <th>WBC</th>\n",
       "      <th>Fibrinogen</th>\n",
       "      <th>Platelets</th>\n",
       "      <th>Age</th>\n",
       "      <th>Gender</th>\n",
       "      <th>ICULOS</th>\n",
       "      <th>SepsisLabel</th>\n",
       "    </tr>\n",
       "  </thead>\n",
       "  <tbody>\n",
       "    <tr>\n",
       "      <th>0</th>\n",
       "      <td>16426</td>\n",
       "      <td>82.932781</td>\n",
       "      <td>97.792553</td>\n",
       "      <td>36.985761</td>\n",
       "      <td>121.833475</td>\n",
       "      <td>79.608298</td>\n",
       "      <td>62.022952</td>\n",
       "      <td>18.326606</td>\n",
       "      <td>32.976494</td>\n",
       "      <td>23.999359</td>\n",
       "      <td>...</td>\n",
       "      <td>30.287827</td>\n",
       "      <td>10.300167</td>\n",
       "      <td>32.300104</td>\n",
       "      <td>10.298233</td>\n",
       "      <td>247.980239</td>\n",
       "      <td>180.000204</td>\n",
       "      <td>57.03</td>\n",
       "      <td>1.0</td>\n",
       "      <td>1.0</td>\n",
       "      <td>0.0</td>\n",
       "    </tr>\n",
       "    <tr>\n",
       "      <th>1</th>\n",
       "      <td>16426</td>\n",
       "      <td>78.000000</td>\n",
       "      <td>99.500000</td>\n",
       "      <td>35.250000</td>\n",
       "      <td>108.500000</td>\n",
       "      <td>84.500000</td>\n",
       "      <td>69.000000</td>\n",
       "      <td>12.000000</td>\n",
       "      <td>31.995111</td>\n",
       "      <td>23.000000</td>\n",
       "      <td>...</td>\n",
       "      <td>34.000000</td>\n",
       "      <td>12.000000</td>\n",
       "      <td>31.245564</td>\n",
       "      <td>14.200000</td>\n",
       "      <td>249.177795</td>\n",
       "      <td>190.403609</td>\n",
       "      <td>57.03</td>\n",
       "      <td>1.0</td>\n",
       "      <td>2.0</td>\n",
       "      <td>0.0</td>\n",
       "    </tr>\n",
       "    <tr>\n",
       "      <th>2</th>\n",
       "      <td>16426</td>\n",
       "      <td>80.000000</td>\n",
       "      <td>99.000000</td>\n",
       "      <td>36.200000</td>\n",
       "      <td>113.000000</td>\n",
       "      <td>87.000000</td>\n",
       "      <td>73.000000</td>\n",
       "      <td>12.000000</td>\n",
       "      <td>32.313429</td>\n",
       "      <td>23.999359</td>\n",
       "      <td>...</td>\n",
       "      <td>30.273045</td>\n",
       "      <td>10.299940</td>\n",
       "      <td>32.316444</td>\n",
       "      <td>10.298940</td>\n",
       "      <td>247.980239</td>\n",
       "      <td>179.634235</td>\n",
       "      <td>57.03</td>\n",
       "      <td>1.0</td>\n",
       "      <td>3.0</td>\n",
       "      <td>0.0</td>\n",
       "    </tr>\n",
       "    <tr>\n",
       "      <th>3</th>\n",
       "      <td>16426</td>\n",
       "      <td>79.000000</td>\n",
       "      <td>100.000000</td>\n",
       "      <td>36.500000</td>\n",
       "      <td>112.000000</td>\n",
       "      <td>83.000000</td>\n",
       "      <td>68.000000</td>\n",
       "      <td>12.000000</td>\n",
       "      <td>32.680381</td>\n",
       "      <td>24.145191</td>\n",
       "      <td>...</td>\n",
       "      <td>30.439102</td>\n",
       "      <td>10.301595</td>\n",
       "      <td>31.647337</td>\n",
       "      <td>9.075542</td>\n",
       "      <td>247.975450</td>\n",
       "      <td>182.216217</td>\n",
       "      <td>57.03</td>\n",
       "      <td>1.0</td>\n",
       "      <td>4.0</td>\n",
       "      <td>0.0</td>\n",
       "    </tr>\n",
       "    <tr>\n",
       "      <th>4</th>\n",
       "      <td>16426</td>\n",
       "      <td>73.000000</td>\n",
       "      <td>100.000000</td>\n",
       "      <td>36.500000</td>\n",
       "      <td>115.000000</td>\n",
       "      <td>80.000000</td>\n",
       "      <td>64.000000</td>\n",
       "      <td>11.000000</td>\n",
       "      <td>32.241118</td>\n",
       "      <td>23.999359</td>\n",
       "      <td>...</td>\n",
       "      <td>30.277911</td>\n",
       "      <td>10.299940</td>\n",
       "      <td>32.365331</td>\n",
       "      <td>10.258271</td>\n",
       "      <td>247.980239</td>\n",
       "      <td>179.924815</td>\n",
       "      <td>57.03</td>\n",
       "      <td>1.0</td>\n",
       "      <td>5.0</td>\n",
       "      <td>0.0</td>\n",
       "    </tr>\n",
       "  </tbody>\n",
       "</table>\n",
       "<p>5 rows × 35 columns</p>\n",
       "</div>"
      ],
      "text/plain": [
       "   patient         HR       O2Sat       Temp         SBP        MAP  \\\n",
       "0    16426  82.932781   97.792553  36.985761  121.833475  79.608298   \n",
       "1    16426  78.000000   99.500000  35.250000  108.500000  84.500000   \n",
       "2    16426  80.000000   99.000000  36.200000  113.000000  87.000000   \n",
       "3    16426  79.000000  100.000000  36.500000  112.000000  83.000000   \n",
       "4    16426  73.000000  100.000000  36.500000  115.000000  80.000000   \n",
       "\n",
       "         DBP       Resp      EtCO2       HCO3  ...        Hct        Hgb  \\\n",
       "0  62.022952  18.326606  32.976494  23.999359  ...  30.287827  10.300167   \n",
       "1  69.000000  12.000000  31.995111  23.000000  ...  34.000000  12.000000   \n",
       "2  73.000000  12.000000  32.313429  23.999359  ...  30.273045  10.299940   \n",
       "3  68.000000  12.000000  32.680381  24.145191  ...  30.439102  10.301595   \n",
       "4  64.000000  11.000000  32.241118  23.999359  ...  30.277911  10.299940   \n",
       "\n",
       "         PTT        WBC  Fibrinogen   Platelets    Age  Gender  ICULOS  \\\n",
       "0  32.300104  10.298233  247.980239  180.000204  57.03     1.0     1.0   \n",
       "1  31.245564  14.200000  249.177795  190.403609  57.03     1.0     2.0   \n",
       "2  32.316444  10.298940  247.980239  179.634235  57.03     1.0     3.0   \n",
       "3  31.647337   9.075542  247.975450  182.216217  57.03     1.0     4.0   \n",
       "4  32.365331  10.258271  247.980239  179.924815  57.03     1.0     5.0   \n",
       "\n",
       "   SepsisLabel  \n",
       "0          0.0  \n",
       "1          0.0  \n",
       "2          0.0  \n",
       "3          0.0  \n",
       "4          0.0  \n",
       "\n",
       "[5 rows x 35 columns]"
      ]
     },
     "execution_count": 23,
     "metadata": {},
     "output_type": "execute_result"
    }
   ],
   "source": [
    "X.head()"
   ]
  },
  {
   "cell_type": "code",
   "execution_count": 5,
   "id": "106c6906-f93b-4c5a-90e0-aa84e2f7b3f7",
   "metadata": {},
   "outputs": [],
   "source": [
    "#k = 10  # Adjust this number based on your needs\n",
    "#selector = SelectKBest(score_func=f_classif, k=k)\n",
    "#X_selected = selector.fit_transform(X, y)\n",
    "\n",
    "# Get the names of the selected features\n",
    "#selected_features = X.columns[selector.get_support()]\n",
    "#print(\"Selected Features:\", selected_features)"
   ]
  },
  {
   "cell_type": "code",
   "execution_count": 15,
   "id": "feeaf45f-915d-4841-97cb-5237321d55a2",
   "metadata": {},
   "outputs": [],
   "source": [
    "# take a sample from the data \n",
    "sampled_patient_ids = X['patient'].drop_duplicates().sample(frac=0.1, random_state=42) \n",
    "\n",
    "# Filter the original DataFrame to include only the sampled patient IDs\n",
    "sampled_data = X[X['patient'].isin(sampled_patient_ids)]\n",
    "y = sampled_data['SepsisLabel']"
   ]
  },
  {
   "cell_type": "code",
   "execution_count": 16,
   "id": "f8934154-2d3b-4c0b-9af8-4fb6c8f98c02",
   "metadata": {},
   "outputs": [],
   "source": [
    "selected_columns = ['ICULOS']\n",
    "X_selected = sampled_data[selected_columns]"
   ]
  },
  {
   "cell_type": "code",
   "execution_count": null,
   "id": "c3c6c672-e4b5-45a9-9813-2db1dfaddbb9",
   "metadata": {},
   "outputs": [],
   "source": [
    "from sklearn.svm import SVC\n",
    "\n",
    "model = SVC(kernel='linear') \n",
    "model.fit(X_selected, y)"
   ]
  },
  {
   "cell_type": "code",
   "execution_count": null,
   "id": "7ed1bd67-2caa-4695-b77e-9bed75ef42eb",
   "metadata": {},
   "outputs": [],
   "source": [
    "y_pred = model.predict(test)"
   ]
  },
  {
   "cell_type": "code",
   "execution_count": null,
   "id": "788d6531-7a2d-484d-b71f-9908f2df96f0",
   "metadata": {},
   "outputs": [],
   "source": [
    "from sklearn.svm import SVC\n",
    "from sklearn.model_selection import GridSearchCV\n",
    "\n",
    "param_grid = {\n",
    "    'C': [0.1, 1, 10],\n",
    "    'kernel': ['linear', 'rbf'],\n",
    "}\n",
    "\n",
    "grid_search = GridSearchCV(SVC(), param_grid, cv=5)\n",
    "grid_search.fit(X_selected, y)\n",
    "\n",
    "print(f\"Best parameters: {grid_search.best_params_}\")"
   ]
  },
  {
   "cell_type": "code",
   "execution_count": null,
   "id": "c346c796-cc08-4609-b00c-1feb90551d39",
   "metadata": {},
   "outputs": [],
   "source": [
    "submission_data['SepsisLabel'] = y_pred\n",
    "\n",
    "# Optionally, save the modified DataFrame to a CSV file\n",
    "# TODO : create a variable for this path in _Setup.py\n",
    "# submission_data.to_csv('submission_data_with_predictions.csv', index=False)\n",
    "\n",
    "# Display the updated DataFrame (optional)\n",
    "print(submission_data.head())"
   ]
  },
  {
   "cell_type": "code",
   "execution_count": null,
   "id": "5b2d1e86-19de-482c-aa20-accef5b67ca3",
   "metadata": {},
   "outputs": [],
   "source": [
    "num_rows = submission_data.shape[0]\n",
    "print(\"Number of rows in submission_data:\", num_rows)"
   ]
  },
  {
   "cell_type": "code",
   "execution_count": null,
   "id": "4498546a-85b5-4ec9-88df-3d33fd4e6030",
   "metadata": {},
   "outputs": [],
   "source": [
    "print(\"\\nClassification Report (Training):\\n\", classification_report(y, y_pred))"
   ]
  },
  {
   "cell_type": "code",
   "execution_count": null,
   "id": "4ea4c040-a028-4d94-8f84-206d285a375c",
   "metadata": {},
   "outputs": [],
   "source": [
    "f1 = f1_score(y_test, y_pred)\n",
    "print(f\"F1 Score: {f1:.2f}\")"
   ]
  },
  {
   "cell_type": "markdown",
   "id": "93e1d8fe-f7bf-4b99-947d-eb25f42fd652",
   "metadata": {},
   "source": [
    "## Logistic regression "
   ]
  },
  {
   "cell_type": "code",
   "execution_count": 17,
   "id": "a54fe59f-5437-4f67-88c4-bb8e7eb09206",
   "metadata": {},
   "outputs": [],
   "source": [
    "import pandas as pd\n",
    "from sklearn.model_selection import train_test_split\n",
    "from sklearn.preprocessing import StandardScaler\n",
    "from sklearn.linear_model import LogisticRegression\n",
    "from sklearn.metrics import classification_report, confusion_matrix"
   ]
  },
  {
   "cell_type": "code",
   "execution_count": 24,
   "id": "b7d13382-4021-4891-bf17-99fbe01fb12e",
   "metadata": {},
   "outputs": [],
   "source": [
    "#columns_t = ['ICULOS', 'HR', 'O2Sat', 'Temp', 'Resp', 'BaseExcess', 'BUN', 'FiO2', 'Magnesium', 'Age', 'WBC', 'Platelets' , 'Calcium', 'Creatinine', \n",
    "            #'MAP', 'SBP' , 'Hct', 'PaCO2']\n",
    "#columns_test = ['ICULOS', 'HR', 'O2Sat', 'Temp', 'Resp', 'BaseExcess', 'BUN', 'FiO2', 'Magnesium', 'Age', 'WBC', 'Platelets' , 'Calcium', 'Creatinine', \n",
    "            #'MAP', 'SBP' , 'Hct', 'PaCO2']\n",
    "\n",
    "#x_train = train[columns_t]\n",
    "#x_test = test[columns_test]"
   ]
  },
  {
   "cell_type": "code",
   "execution_count": 25,
   "id": "bd1e9745-8e5c-4b71-8e98-6d3281fbcf04",
   "metadata": {},
   "outputs": [
    {
     "name": "stderr",
     "output_type": "stream",
     "text": [
      "C:\\Users\\Marin\\anaconda3\\envs\\sepsis\\Lib\\site-packages\\statsmodels\\discrete\\discrete_model.py:227: PerfectSeparationWarning: Perfect separation or prediction detected, parameter may not be identified\n",
      "  warnings.warn(msg, category=PerfectSeparationWarning)\n",
      "C:\\Users\\Marin\\anaconda3\\envs\\sepsis\\Lib\\site-packages\\statsmodels\\discrete\\discrete_model.py:2385: RuntimeWarning: overflow encountered in exp\n",
      "  return 1/(1+np.exp(-X))\n",
      "C:\\Users\\Marin\\anaconda3\\envs\\sepsis\\Lib\\site-packages\\statsmodels\\discrete\\discrete_model.py:2443: RuntimeWarning: divide by zero encountered in log\n",
      "  return np.sum(np.log(self.cdf(q * linpred)))\n"
     ]
    },
    {
     "name": "stdout",
     "output_type": "stream",
     "text": [
      "Warning: Maximum number of iterations has been exceeded.\n",
      "         Current function value: inf\n",
      "         Iterations: 35\n"
     ]
    },
    {
     "ename": "LinAlgError",
     "evalue": "Singular matrix",
     "output_type": "error",
     "traceback": [
      "\u001b[1;31m---------------------------------------------------------------------------\u001b[0m",
      "\u001b[1;31mLinAlgError\u001b[0m                               Traceback (most recent call last)",
      "Cell \u001b[1;32mIn[25], line 7\u001b[0m\n\u001b[0;32m      5\u001b[0m x_train_sm \u001b[38;5;241m=\u001b[39m sm\u001b[38;5;241m.\u001b[39madd_constant(X)\n\u001b[0;32m      6\u001b[0m model \u001b[38;5;241m=\u001b[39m sm\u001b[38;5;241m.\u001b[39mLogit(y, x_train_sm)\n\u001b[1;32m----> 7\u001b[0m result \u001b[38;5;241m=\u001b[39m model\u001b[38;5;241m.\u001b[39mfit()\n\u001b[0;32m      8\u001b[0m y_pred_prob \u001b[38;5;241m=\u001b[39m result\u001b[38;5;241m.\u001b[39mpredict(x_train_sm)  \n\u001b[0;32m      9\u001b[0m y_pred \u001b[38;5;241m=\u001b[39m (y_pred_prob \u001b[38;5;241m>\u001b[39m\u001b[38;5;241m=\u001b[39m \u001b[38;5;241m0.4\u001b[39m)\u001b[38;5;241m.\u001b[39mastype(\u001b[38;5;28mint\u001b[39m)  \n",
      "File \u001b[1;32m~\\anaconda3\\envs\\sepsis\\Lib\\site-packages\\statsmodels\\discrete\\discrete_model.py:2601\u001b[0m, in \u001b[0;36mLogit.fit\u001b[1;34m(self, start_params, method, maxiter, full_output, disp, callback, **kwargs)\u001b[0m\n\u001b[0;32m   2598\u001b[0m \u001b[38;5;129m@Appender\u001b[39m(DiscreteModel\u001b[38;5;241m.\u001b[39mfit\u001b[38;5;241m.\u001b[39m\u001b[38;5;18m__doc__\u001b[39m)\n\u001b[0;32m   2599\u001b[0m \u001b[38;5;28;01mdef\u001b[39;00m \u001b[38;5;21mfit\u001b[39m(\u001b[38;5;28mself\u001b[39m, start_params\u001b[38;5;241m=\u001b[39m\u001b[38;5;28;01mNone\u001b[39;00m, method\u001b[38;5;241m=\u001b[39m\u001b[38;5;124m'\u001b[39m\u001b[38;5;124mnewton\u001b[39m\u001b[38;5;124m'\u001b[39m, maxiter\u001b[38;5;241m=\u001b[39m\u001b[38;5;241m35\u001b[39m,\n\u001b[0;32m   2600\u001b[0m         full_output\u001b[38;5;241m=\u001b[39m\u001b[38;5;241m1\u001b[39m, disp\u001b[38;5;241m=\u001b[39m\u001b[38;5;241m1\u001b[39m, callback\u001b[38;5;241m=\u001b[39m\u001b[38;5;28;01mNone\u001b[39;00m, \u001b[38;5;241m*\u001b[39m\u001b[38;5;241m*\u001b[39mkwargs):\n\u001b[1;32m-> 2601\u001b[0m     bnryfit \u001b[38;5;241m=\u001b[39m \u001b[38;5;28msuper\u001b[39m()\u001b[38;5;241m.\u001b[39mfit(start_params\u001b[38;5;241m=\u001b[39mstart_params,\n\u001b[0;32m   2602\u001b[0m                           method\u001b[38;5;241m=\u001b[39mmethod,\n\u001b[0;32m   2603\u001b[0m                           maxiter\u001b[38;5;241m=\u001b[39mmaxiter,\n\u001b[0;32m   2604\u001b[0m                           full_output\u001b[38;5;241m=\u001b[39mfull_output,\n\u001b[0;32m   2605\u001b[0m                           disp\u001b[38;5;241m=\u001b[39mdisp,\n\u001b[0;32m   2606\u001b[0m                           callback\u001b[38;5;241m=\u001b[39mcallback,\n\u001b[0;32m   2607\u001b[0m                           \u001b[38;5;241m*\u001b[39m\u001b[38;5;241m*\u001b[39mkwargs)\n\u001b[0;32m   2609\u001b[0m     discretefit \u001b[38;5;241m=\u001b[39m LogitResults(\u001b[38;5;28mself\u001b[39m, bnryfit)\n\u001b[0;32m   2610\u001b[0m     \u001b[38;5;28;01mreturn\u001b[39;00m BinaryResultsWrapper(discretefit)\n",
      "File \u001b[1;32m~\\anaconda3\\envs\\sepsis\\Lib\\site-packages\\statsmodels\\discrete\\discrete_model.py:243\u001b[0m, in \u001b[0;36mDiscreteModel.fit\u001b[1;34m(self, start_params, method, maxiter, full_output, disp, callback, **kwargs)\u001b[0m\n\u001b[0;32m    240\u001b[0m \u001b[38;5;28;01melse\u001b[39;00m:\n\u001b[0;32m    241\u001b[0m     \u001b[38;5;28;01mpass\u001b[39;00m  \u001b[38;5;66;03m# TODO: make a function factory to have multiple call-backs\u001b[39;00m\n\u001b[1;32m--> 243\u001b[0m mlefit \u001b[38;5;241m=\u001b[39m \u001b[38;5;28msuper\u001b[39m()\u001b[38;5;241m.\u001b[39mfit(start_params\u001b[38;5;241m=\u001b[39mstart_params,\n\u001b[0;32m    244\u001b[0m                      method\u001b[38;5;241m=\u001b[39mmethod,\n\u001b[0;32m    245\u001b[0m                      maxiter\u001b[38;5;241m=\u001b[39mmaxiter,\n\u001b[0;32m    246\u001b[0m                      full_output\u001b[38;5;241m=\u001b[39mfull_output,\n\u001b[0;32m    247\u001b[0m                      disp\u001b[38;5;241m=\u001b[39mdisp,\n\u001b[0;32m    248\u001b[0m                      callback\u001b[38;5;241m=\u001b[39mcallback,\n\u001b[0;32m    249\u001b[0m                      \u001b[38;5;241m*\u001b[39m\u001b[38;5;241m*\u001b[39mkwargs)\n\u001b[0;32m    251\u001b[0m \u001b[38;5;28;01mreturn\u001b[39;00m mlefit\n",
      "File \u001b[1;32m~\\anaconda3\\envs\\sepsis\\Lib\\site-packages\\statsmodels\\base\\model.py:582\u001b[0m, in \u001b[0;36mLikelihoodModel.fit\u001b[1;34m(self, start_params, method, maxiter, full_output, disp, fargs, callback, retall, skip_hessian, **kwargs)\u001b[0m\n\u001b[0;32m    580\u001b[0m     Hinv \u001b[38;5;241m=\u001b[39m cov_params_func(\u001b[38;5;28mself\u001b[39m, xopt, retvals)\n\u001b[0;32m    581\u001b[0m \u001b[38;5;28;01melif\u001b[39;00m method \u001b[38;5;241m==\u001b[39m \u001b[38;5;124m'\u001b[39m\u001b[38;5;124mnewton\u001b[39m\u001b[38;5;124m'\u001b[39m \u001b[38;5;129;01mand\u001b[39;00m full_output:\n\u001b[1;32m--> 582\u001b[0m     Hinv \u001b[38;5;241m=\u001b[39m np\u001b[38;5;241m.\u001b[39mlinalg\u001b[38;5;241m.\u001b[39minv(\u001b[38;5;241m-\u001b[39mretvals[\u001b[38;5;124m'\u001b[39m\u001b[38;5;124mHessian\u001b[39m\u001b[38;5;124m'\u001b[39m]) \u001b[38;5;241m/\u001b[39m nobs\n\u001b[0;32m    583\u001b[0m \u001b[38;5;28;01melif\u001b[39;00m \u001b[38;5;129;01mnot\u001b[39;00m skip_hessian:\n\u001b[0;32m    584\u001b[0m     H \u001b[38;5;241m=\u001b[39m \u001b[38;5;241m-\u001b[39m\u001b[38;5;241m1\u001b[39m \u001b[38;5;241m*\u001b[39m \u001b[38;5;28mself\u001b[39m\u001b[38;5;241m.\u001b[39mhessian(xopt)\n",
      "File \u001b[1;32m~\\anaconda3\\envs\\sepsis\\Lib\\site-packages\\numpy\\linalg\\linalg.py:561\u001b[0m, in \u001b[0;36minv\u001b[1;34m(a)\u001b[0m\n\u001b[0;32m    559\u001b[0m signature \u001b[38;5;241m=\u001b[39m \u001b[38;5;124m'\u001b[39m\u001b[38;5;124mD->D\u001b[39m\u001b[38;5;124m'\u001b[39m \u001b[38;5;28;01mif\u001b[39;00m isComplexType(t) \u001b[38;5;28;01melse\u001b[39;00m \u001b[38;5;124m'\u001b[39m\u001b[38;5;124md->d\u001b[39m\u001b[38;5;124m'\u001b[39m\n\u001b[0;32m    560\u001b[0m extobj \u001b[38;5;241m=\u001b[39m get_linalg_error_extobj(_raise_linalgerror_singular)\n\u001b[1;32m--> 561\u001b[0m ainv \u001b[38;5;241m=\u001b[39m _umath_linalg\u001b[38;5;241m.\u001b[39minv(a, signature\u001b[38;5;241m=\u001b[39msignature, extobj\u001b[38;5;241m=\u001b[39mextobj)\n\u001b[0;32m    562\u001b[0m \u001b[38;5;28;01mreturn\u001b[39;00m wrap(ainv\u001b[38;5;241m.\u001b[39mastype(result_t, copy\u001b[38;5;241m=\u001b[39m\u001b[38;5;28;01mFalse\u001b[39;00m))\n",
      "File \u001b[1;32m~\\anaconda3\\envs\\sepsis\\Lib\\site-packages\\numpy\\linalg\\linalg.py:112\u001b[0m, in \u001b[0;36m_raise_linalgerror_singular\u001b[1;34m(err, flag)\u001b[0m\n\u001b[0;32m    111\u001b[0m \u001b[38;5;28;01mdef\u001b[39;00m \u001b[38;5;21m_raise_linalgerror_singular\u001b[39m(err, flag):\n\u001b[1;32m--> 112\u001b[0m     \u001b[38;5;28;01mraise\u001b[39;00m LinAlgError(\u001b[38;5;124m\"\u001b[39m\u001b[38;5;124mSingular matrix\u001b[39m\u001b[38;5;124m\"\u001b[39m)\n",
      "\u001b[1;31mLinAlgError\u001b[0m: Singular matrix"
     ]
    }
   ],
   "source": [
    "import pandas as pd\n",
    "import statsmodels.api as sm\n",
    "from sklearn.model_selection import train_test_split\n",
    "\n",
    "x_train_sm = sm.add_constant(X)\n",
    "model = sm.Logit(y, x_train_sm)\n",
    "result = model.fit()\n",
    "y_pred_prob = result.predict(x_train_sm)  \n",
    "y_pred = (y_pred_prob >= 0.4).astype(int)  \n",
    "\n",
    "# Calculate the confusion matrix\n",
    "cm_train = confusion_matrix(y, y_pred)\n",
    "\n",
    "\n",
    "# Print the summary\n",
    "print(result.summary())"
   ]
  },
  {
   "cell_type": "code",
   "execution_count": null,
   "id": "465ceddc-61ee-4950-bfcd-55cba8a02afa",
   "metadata": {},
   "outputs": [],
   "source": [
    "cm_train = confusion_matrix(y, y_pred)\n",
    "\n",
    "# Print the confusion matrix\n",
    "print(\"Confusion Matrix (Training Data):\")\n",
    "print(cm_train)"
   ]
  },
  {
   "cell_type": "code",
   "execution_count": 65,
   "id": "bfee9934-d63a-4ec3-a919-92c22cfb64b2",
   "metadata": {},
   "outputs": [
    {
     "name": "stdout",
     "output_type": "stream",
     "text": [
      "F1 Score (Training Data): 0.33\n"
     ]
    }
   ],
   "source": [
    "import pandas as pd\n",
    "import statsmodels.api as sm\n",
    "from sklearn.metrics import confusion_matrix, ConfusionMatrixDisplay, f1_score\n",
    "\n",
    "f1 = f1_score(y, y_pred)\n",
    "print(f\"F1 Score (Training Data): {f1:.2f}\")"
   ]
  },
  {
   "cell_type": "code",
   "execution_count": 57,
   "id": "2a48dfab-1f9d-4310-9066-ce2828b8fad0",
   "metadata": {},
   "outputs": [
    {
     "name": "stdout",
     "output_type": "stream",
     "text": [
      "       ID  SepsisLabel\n",
      "0  6560_1            0\n",
      "1  6560_2            0\n",
      "2  6560_3            0\n",
      "3  6560_4            0\n",
      "4  6560_5            0\n"
     ]
    }
   ],
   "source": [
    "submission_data['SepsisLabel'] = y_pred\n",
    "\n",
    "# Optionally, save the modified DataFrame to a CSV file\n",
    "# TODO : create a variable for this path in _Setup.py\n",
    "# submission_data.to_csv('submission_data_with_predictions.csv', index=False)\n",
    "\n",
    "# Display the updated DataFrame (optional)\n",
    "print(submission_data.head())"
   ]
  },
  {
   "cell_type": "code",
   "execution_count": 60,
   "id": "0ff8261c-676c-4774-bbbd-7cb8e660f574",
   "metadata": {},
   "outputs": [
    {
     "name": "stdout",
     "output_type": "stream",
     "text": [
      "Number of rows in submission_data: 464354\n"
     ]
    }
   ],
   "source": [
    "num_rows = submission_data.shape[0]\n",
    "print(\"Number of rows in submission_data:\", num_rows)"
   ]
  },
  {
   "cell_type": "code",
   "execution_count": 61,
   "id": "0c42a9db-5d7f-4391-bd3a-3ddd8a902193",
   "metadata": {},
   "outputs": [],
   "source": [
    "submission_data.to_csv('submission_data_Logit.csv', index=False)"
   ]
  },
  {
   "cell_type": "markdown",
   "id": "0fb77551-9cee-403e-b9e6-19db5a6fcdcb",
   "metadata": {},
   "source": [
    "## Random Forest "
   ]
  },
  {
   "cell_type": "code",
   "execution_count": 67,
   "id": "88a3721f-1eb6-4409-97f8-eda7a45f99cc",
   "metadata": {},
   "outputs": [],
   "source": [
    "import pandas as pd\n",
    "from sklearn.model_selection import train_test_split\n",
    "from sklearn.ensemble import RandomForestClassifier\n",
    "from sklearn.metrics import confusion_matrix, ConfusionMatrixDisplay, accuracy_score, f1_score"
   ]
  },
  {
   "cell_type": "code",
   "execution_count": null,
   "id": "cdc5041b-faae-4181-9cd9-f2af1192ef06",
   "metadata": {},
   "outputs": [],
   "source": [
    "model = RandomForestClassifier(n_estimators=100, random_state=42)\n",
    "model.fit(X_selected, y)\n",
    "\n",
    "# Make predictions on the test set\n",
    "y_pred = model.predict(test)\n",
    "\n",
    "# Evaluate the model\n",
    "cm = confusion_matrix(y, y_pred)\n",
    "print(\"Confusion Matrix (Test Data):\")\n",
    "print(cm)\n",
    "\n",
    "# Print metrics\n",
    "accuracy = accuracy_score(y, y_pred)\n",
    "f1 = f1_score(y, y_pred)\n",
    "print(f\"Accuracy: {accuracy:.2f}\")\n",
    "print(f\"F1 Score: {f1:.2f}\")"
   ]
  },
  {
   "cell_type": "markdown",
   "id": "471650f4-f7ee-4561-8524-3fc9ce4949f0",
   "metadata": {},
   "source": [
    "## Generalized Estimating Equations "
   ]
  },
  {
   "cell_type": "code",
   "execution_count": null,
   "id": "98bc4d83-5c35-44fc-af0f-112c5c41807a",
   "metadata": {},
   "outputs": [],
   "source": []
  }
 ],
 "metadata": {
  "kernelspec": {
   "display_name": "Python 3 (ipykernel)",
   "language": "python",
   "name": "python3"
  },
  "language_info": {
   "codemirror_mode": {
    "name": "ipython",
    "version": 3
   },
   "file_extension": ".py",
   "mimetype": "text/x-python",
   "name": "python",
   "nbconvert_exporter": "python",
   "pygments_lexer": "ipython3",
   "version": "3.12.7"
  }
 },
 "nbformat": 4,
 "nbformat_minor": 5
}
