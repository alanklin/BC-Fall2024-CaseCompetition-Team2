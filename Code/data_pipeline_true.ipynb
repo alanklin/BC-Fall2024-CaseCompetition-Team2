{
 "cells": [
  {
   "cell_type": "markdown",
   "metadata": {},
   "source": [
    "# Data Pipeline\n",
    "\n",
    "ah shit, \n",
    "here we go again\n",
    "{insert cj meme here}"
   ]
  },
  {
   "cell_type": "code",
   "execution_count": 1,
   "metadata": {},
   "outputs": [],
   "source": [
    "from _Setup import *"
   ]
  },
  {
   "cell_type": "markdown",
   "metadata": {},
   "source": [
    " TODO : Remove Columns w/ > 90% initial missing values (maybe not since it will get rid of most variables)"
   ]
  },
  {
   "cell_type": "code",
   "execution_count": 2,
   "metadata": {},
   "outputs": [],
   "source": [
    "train_data = pd.read_pickle(rawTrainFilePickle)\n",
    "\n",
    "test_data = pd.read_pickle(rawTestFilePickle)\n",
    "\n",
    "submission_data = pd.read_csv(rawSubmissionFile)"
   ]
  },
  {
   "cell_type": "markdown",
   "metadata": {},
   "source": [
    "# Train data preparation"
   ]
  },
  {
   "cell_type": "code",
   "execution_count": 3,
   "metadata": {},
   "outputs": [],
   "source": [
    "# backward fill function\n",
    "def backward_fill_by_patient(df, patient_id_col='patient'):\n",
    "    # Create a copy of the original DataFrame\n",
    "    df_imputed = df.copy()\n",
    "\n",
    "    df_imputed.loc[:, df_imputed.columns != patient_id_col] = (\n",
    "        df_imputed.groupby(patient_id_col)\n",
    "        .bfill()\n",
    "    )\n",
    "\n",
    "    # If there are patients with no entries for a column, those columns will remain unchanged\n",
    "    return df_imputed"
   ]
  },
  {
   "cell_type": "code",
   "execution_count": 4,
   "metadata": {},
   "outputs": [],
   "source": [
    "def forward_fill_by_patient(df, patient_id_col='patient'):\n",
    "    # Create a copy of the original DataFrame\n",
    "    df_imputed = df.copy()\n",
    "\n",
    "    df_imputed.loc[:, df_imputed.columns != patient_id_col] = (\n",
    "        df_imputed.groupby(patient_id_col)\n",
    "        .ffill()\n",
    "    )\n",
    "    \n",
    "    # If there are patients with no entries for a column, those columns will remain unchanged\n",
    "    return df_imputed"
   ]
  },
  {
   "cell_type": "markdown",
   "metadata": {},
   "source": [
    "## TODO : Remove Columns w/ > 95% initial missing values and B/F imputation"
   ]
  },
  {
   "cell_type": "code",
   "execution_count": 5,
   "metadata": {},
   "outputs": [],
   "source": [
    "# Identify columns with more than 90% missing values\n",
    "\n",
    "missing_percentage = train_data.isnull().mean() * 100\n",
    "\n",
    "cols_to_drop = missing_percentage[missing_percentage > 95].index\n",
    "\n",
    "# Drop the identified columns\n",
    "#print(cols_to_drop)\n",
    "train_truncated = train_data.drop(columns=cols_to_drop)"
   ]
  },
  {
   "cell_type": "code",
   "execution_count": 6,
   "metadata": {},
   "outputs": [
    {
     "data": {
      "text/html": [
       "<div>\n",
       "<style scoped>\n",
       "    .dataframe tbody tr th:only-of-type {\n",
       "        vertical-align: middle;\n",
       "    }\n",
       "\n",
       "    .dataframe tbody tr th {\n",
       "        vertical-align: top;\n",
       "    }\n",
       "\n",
       "    .dataframe thead th {\n",
       "        text-align: right;\n",
       "    }\n",
       "</style>\n",
       "<table border=\"1\" class=\"dataframe\">\n",
       "  <thead>\n",
       "    <tr style=\"text-align: right;\">\n",
       "      <th></th>\n",
       "      <th>patient</th>\n",
       "      <th>time</th>\n",
       "      <th>HR</th>\n",
       "      <th>O2Sat</th>\n",
       "      <th>Temp</th>\n",
       "      <th>SBP</th>\n",
       "      <th>MAP</th>\n",
       "      <th>DBP</th>\n",
       "      <th>Resp</th>\n",
       "      <th>BaseExcess</th>\n",
       "      <th>...</th>\n",
       "      <th>Hgb</th>\n",
       "      <th>WBC</th>\n",
       "      <th>Platelets</th>\n",
       "      <th>Age</th>\n",
       "      <th>Gender</th>\n",
       "      <th>Unit1</th>\n",
       "      <th>Unit2</th>\n",
       "      <th>HospAdmTime</th>\n",
       "      <th>ICULOS</th>\n",
       "      <th>SepsisLabel</th>\n",
       "    </tr>\n",
       "  </thead>\n",
       "  <tbody>\n",
       "    <tr>\n",
       "      <th>0</th>\n",
       "      <td>16426</td>\n",
       "      <td>1</td>\n",
       "      <td>NaN</td>\n",
       "      <td>NaN</td>\n",
       "      <td>NaN</td>\n",
       "      <td>NaN</td>\n",
       "      <td>NaN</td>\n",
       "      <td>NaN</td>\n",
       "      <td>NaN</td>\n",
       "      <td>NaN</td>\n",
       "      <td>...</td>\n",
       "      <td>NaN</td>\n",
       "      <td>NaN</td>\n",
       "      <td>NaN</td>\n",
       "      <td>57.03</td>\n",
       "      <td>1.0</td>\n",
       "      <td>0.0</td>\n",
       "      <td>1.0</td>\n",
       "      <td>-4.25</td>\n",
       "      <td>1.0</td>\n",
       "      <td>0.0</td>\n",
       "    </tr>\n",
       "    <tr>\n",
       "      <th>1</th>\n",
       "      <td>16426</td>\n",
       "      <td>2</td>\n",
       "      <td>78.0</td>\n",
       "      <td>99.5</td>\n",
       "      <td>35.25</td>\n",
       "      <td>108.5</td>\n",
       "      <td>84.5</td>\n",
       "      <td>69.0</td>\n",
       "      <td>12.0</td>\n",
       "      <td>0.0</td>\n",
       "      <td>...</td>\n",
       "      <td>12.0</td>\n",
       "      <td>14.2</td>\n",
       "      <td>NaN</td>\n",
       "      <td>57.03</td>\n",
       "      <td>1.0</td>\n",
       "      <td>0.0</td>\n",
       "      <td>1.0</td>\n",
       "      <td>-4.25</td>\n",
       "      <td>2.0</td>\n",
       "      <td>0.0</td>\n",
       "    </tr>\n",
       "    <tr>\n",
       "      <th>2</th>\n",
       "      <td>16426</td>\n",
       "      <td>3</td>\n",
       "      <td>80.0</td>\n",
       "      <td>99.0</td>\n",
       "      <td>36.20</td>\n",
       "      <td>113.0</td>\n",
       "      <td>87.0</td>\n",
       "      <td>73.0</td>\n",
       "      <td>12.0</td>\n",
       "      <td>0.0</td>\n",
       "      <td>...</td>\n",
       "      <td>12.0</td>\n",
       "      <td>14.2</td>\n",
       "      <td>NaN</td>\n",
       "      <td>57.03</td>\n",
       "      <td>1.0</td>\n",
       "      <td>0.0</td>\n",
       "      <td>1.0</td>\n",
       "      <td>-4.25</td>\n",
       "      <td>3.0</td>\n",
       "      <td>0.0</td>\n",
       "    </tr>\n",
       "    <tr>\n",
       "      <th>3</th>\n",
       "      <td>16426</td>\n",
       "      <td>4</td>\n",
       "      <td>79.0</td>\n",
       "      <td>100.0</td>\n",
       "      <td>36.50</td>\n",
       "      <td>112.0</td>\n",
       "      <td>83.0</td>\n",
       "      <td>68.0</td>\n",
       "      <td>12.0</td>\n",
       "      <td>-2.5</td>\n",
       "      <td>...</td>\n",
       "      <td>12.0</td>\n",
       "      <td>14.2</td>\n",
       "      <td>NaN</td>\n",
       "      <td>57.03</td>\n",
       "      <td>1.0</td>\n",
       "      <td>0.0</td>\n",
       "      <td>1.0</td>\n",
       "      <td>-4.25</td>\n",
       "      <td>4.0</td>\n",
       "      <td>0.0</td>\n",
       "    </tr>\n",
       "    <tr>\n",
       "      <th>4</th>\n",
       "      <td>16426</td>\n",
       "      <td>5</td>\n",
       "      <td>73.0</td>\n",
       "      <td>100.0</td>\n",
       "      <td>36.50</td>\n",
       "      <td>115.0</td>\n",
       "      <td>80.0</td>\n",
       "      <td>64.0</td>\n",
       "      <td>11.0</td>\n",
       "      <td>-2.5</td>\n",
       "      <td>...</td>\n",
       "      <td>12.0</td>\n",
       "      <td>14.2</td>\n",
       "      <td>NaN</td>\n",
       "      <td>57.03</td>\n",
       "      <td>1.0</td>\n",
       "      <td>0.0</td>\n",
       "      <td>1.0</td>\n",
       "      <td>-4.25</td>\n",
       "      <td>5.0</td>\n",
       "      <td>0.0</td>\n",
       "    </tr>\n",
       "  </tbody>\n",
       "</table>\n",
       "<p>5 rows × 30 columns</p>\n",
       "</div>"
      ],
      "text/plain": [
       "   patient  time    HR  O2Sat   Temp    SBP   MAP   DBP  Resp  BaseExcess  \\\n",
       "0    16426     1   NaN    NaN    NaN    NaN   NaN   NaN   NaN         NaN   \n",
       "1    16426     2  78.0   99.5  35.25  108.5  84.5  69.0  12.0         0.0   \n",
       "2    16426     3  80.0   99.0  36.20  113.0  87.0  73.0  12.0         0.0   \n",
       "3    16426     4  79.0  100.0  36.50  112.0  83.0  68.0  12.0        -2.5   \n",
       "4    16426     5  73.0  100.0  36.50  115.0  80.0  64.0  11.0        -2.5   \n",
       "\n",
       "   ...   Hgb   WBC  Platelets    Age  Gender  Unit1  Unit2  HospAdmTime  \\\n",
       "0  ...   NaN   NaN        NaN  57.03     1.0    0.0    1.0        -4.25   \n",
       "1  ...  12.0  14.2        NaN  57.03     1.0    0.0    1.0        -4.25   \n",
       "2  ...  12.0  14.2        NaN  57.03     1.0    0.0    1.0        -4.25   \n",
       "3  ...  12.0  14.2        NaN  57.03     1.0    0.0    1.0        -4.25   \n",
       "4  ...  12.0  14.2        NaN  57.03     1.0    0.0    1.0        -4.25   \n",
       "\n",
       "   ICULOS  SepsisLabel  \n",
       "0     1.0          0.0  \n",
       "1     2.0          0.0  \n",
       "2     3.0          0.0  \n",
       "3     4.0          0.0  \n",
       "4     5.0          0.0  \n",
       "\n",
       "[5 rows x 30 columns]"
      ]
     },
     "execution_count": 6,
     "metadata": {},
     "output_type": "execute_result"
    }
   ],
   "source": [
    "#forward imputation\n",
    "train_forward = forward_fill_by_patient(train_truncated)\n",
    "train_forward.head()"
   ]
  },
  {
   "cell_type": "code",
   "execution_count": 7,
   "metadata": {},
   "outputs": [
    {
     "data": {
      "text/html": [
       "<div>\n",
       "<style scoped>\n",
       "    .dataframe tbody tr th:only-of-type {\n",
       "        vertical-align: middle;\n",
       "    }\n",
       "\n",
       "    .dataframe tbody tr th {\n",
       "        vertical-align: top;\n",
       "    }\n",
       "\n",
       "    .dataframe thead th {\n",
       "        text-align: right;\n",
       "    }\n",
       "</style>\n",
       "<table border=\"1\" class=\"dataframe\">\n",
       "  <thead>\n",
       "    <tr style=\"text-align: right;\">\n",
       "      <th></th>\n",
       "      <th>patient</th>\n",
       "      <th>time</th>\n",
       "      <th>HR</th>\n",
       "      <th>O2Sat</th>\n",
       "      <th>Temp</th>\n",
       "      <th>SBP</th>\n",
       "      <th>MAP</th>\n",
       "      <th>DBP</th>\n",
       "      <th>Resp</th>\n",
       "      <th>BaseExcess</th>\n",
       "      <th>...</th>\n",
       "      <th>Hgb</th>\n",
       "      <th>WBC</th>\n",
       "      <th>Platelets</th>\n",
       "      <th>Age</th>\n",
       "      <th>Gender</th>\n",
       "      <th>Unit1</th>\n",
       "      <th>Unit2</th>\n",
       "      <th>HospAdmTime</th>\n",
       "      <th>ICULOS</th>\n",
       "      <th>SepsisLabel</th>\n",
       "    </tr>\n",
       "  </thead>\n",
       "  <tbody>\n",
       "    <tr>\n",
       "      <th>0</th>\n",
       "      <td>16426</td>\n",
       "      <td>1</td>\n",
       "      <td>78.0</td>\n",
       "      <td>99.5</td>\n",
       "      <td>35.25</td>\n",
       "      <td>108.5</td>\n",
       "      <td>84.5</td>\n",
       "      <td>69.0</td>\n",
       "      <td>12.0</td>\n",
       "      <td>0.0</td>\n",
       "      <td>...</td>\n",
       "      <td>12.0</td>\n",
       "      <td>14.2</td>\n",
       "      <td>162.0</td>\n",
       "      <td>57.03</td>\n",
       "      <td>1.0</td>\n",
       "      <td>0.0</td>\n",
       "      <td>1.0</td>\n",
       "      <td>-4.25</td>\n",
       "      <td>1.0</td>\n",
       "      <td>0.0</td>\n",
       "    </tr>\n",
       "    <tr>\n",
       "      <th>1</th>\n",
       "      <td>16426</td>\n",
       "      <td>2</td>\n",
       "      <td>78.0</td>\n",
       "      <td>99.5</td>\n",
       "      <td>35.25</td>\n",
       "      <td>108.5</td>\n",
       "      <td>84.5</td>\n",
       "      <td>69.0</td>\n",
       "      <td>12.0</td>\n",
       "      <td>0.0</td>\n",
       "      <td>...</td>\n",
       "      <td>12.0</td>\n",
       "      <td>14.2</td>\n",
       "      <td>162.0</td>\n",
       "      <td>57.03</td>\n",
       "      <td>1.0</td>\n",
       "      <td>0.0</td>\n",
       "      <td>1.0</td>\n",
       "      <td>-4.25</td>\n",
       "      <td>2.0</td>\n",
       "      <td>0.0</td>\n",
       "    </tr>\n",
       "    <tr>\n",
       "      <th>2</th>\n",
       "      <td>16426</td>\n",
       "      <td>3</td>\n",
       "      <td>80.0</td>\n",
       "      <td>99.0</td>\n",
       "      <td>36.20</td>\n",
       "      <td>113.0</td>\n",
       "      <td>87.0</td>\n",
       "      <td>73.0</td>\n",
       "      <td>12.0</td>\n",
       "      <td>0.0</td>\n",
       "      <td>...</td>\n",
       "      <td>12.0</td>\n",
       "      <td>14.2</td>\n",
       "      <td>162.0</td>\n",
       "      <td>57.03</td>\n",
       "      <td>1.0</td>\n",
       "      <td>0.0</td>\n",
       "      <td>1.0</td>\n",
       "      <td>-4.25</td>\n",
       "      <td>3.0</td>\n",
       "      <td>0.0</td>\n",
       "    </tr>\n",
       "    <tr>\n",
       "      <th>3</th>\n",
       "      <td>16426</td>\n",
       "      <td>4</td>\n",
       "      <td>79.0</td>\n",
       "      <td>100.0</td>\n",
       "      <td>36.50</td>\n",
       "      <td>112.0</td>\n",
       "      <td>83.0</td>\n",
       "      <td>68.0</td>\n",
       "      <td>12.0</td>\n",
       "      <td>-2.5</td>\n",
       "      <td>...</td>\n",
       "      <td>12.0</td>\n",
       "      <td>14.2</td>\n",
       "      <td>162.0</td>\n",
       "      <td>57.03</td>\n",
       "      <td>1.0</td>\n",
       "      <td>0.0</td>\n",
       "      <td>1.0</td>\n",
       "      <td>-4.25</td>\n",
       "      <td>4.0</td>\n",
       "      <td>0.0</td>\n",
       "    </tr>\n",
       "    <tr>\n",
       "      <th>4</th>\n",
       "      <td>16426</td>\n",
       "      <td>5</td>\n",
       "      <td>73.0</td>\n",
       "      <td>100.0</td>\n",
       "      <td>36.50</td>\n",
       "      <td>115.0</td>\n",
       "      <td>80.0</td>\n",
       "      <td>64.0</td>\n",
       "      <td>11.0</td>\n",
       "      <td>-2.5</td>\n",
       "      <td>...</td>\n",
       "      <td>12.0</td>\n",
       "      <td>14.2</td>\n",
       "      <td>162.0</td>\n",
       "      <td>57.03</td>\n",
       "      <td>1.0</td>\n",
       "      <td>0.0</td>\n",
       "      <td>1.0</td>\n",
       "      <td>-4.25</td>\n",
       "      <td>5.0</td>\n",
       "      <td>0.0</td>\n",
       "    </tr>\n",
       "  </tbody>\n",
       "</table>\n",
       "<p>5 rows × 30 columns</p>\n",
       "</div>"
      ],
      "text/plain": [
       "   patient  time    HR  O2Sat   Temp    SBP   MAP   DBP  Resp  BaseExcess  \\\n",
       "0    16426     1  78.0   99.5  35.25  108.5  84.5  69.0  12.0         0.0   \n",
       "1    16426     2  78.0   99.5  35.25  108.5  84.5  69.0  12.0         0.0   \n",
       "2    16426     3  80.0   99.0  36.20  113.0  87.0  73.0  12.0         0.0   \n",
       "3    16426     4  79.0  100.0  36.50  112.0  83.0  68.0  12.0        -2.5   \n",
       "4    16426     5  73.0  100.0  36.50  115.0  80.0  64.0  11.0        -2.5   \n",
       "\n",
       "   ...   Hgb   WBC  Platelets    Age  Gender  Unit1  Unit2  HospAdmTime  \\\n",
       "0  ...  12.0  14.2      162.0  57.03     1.0    0.0    1.0        -4.25   \n",
       "1  ...  12.0  14.2      162.0  57.03     1.0    0.0    1.0        -4.25   \n",
       "2  ...  12.0  14.2      162.0  57.03     1.0    0.0    1.0        -4.25   \n",
       "3  ...  12.0  14.2      162.0  57.03     1.0    0.0    1.0        -4.25   \n",
       "4  ...  12.0  14.2      162.0  57.03     1.0    0.0    1.0        -4.25   \n",
       "\n",
       "   ICULOS  SepsisLabel  \n",
       "0     1.0          0.0  \n",
       "1     2.0          0.0  \n",
       "2     3.0          0.0  \n",
       "3     4.0          0.0  \n",
       "4     5.0          0.0  \n",
       "\n",
       "[5 rows x 30 columns]"
      ]
     },
     "execution_count": 7,
     "metadata": {},
     "output_type": "execute_result"
    }
   ],
   "source": [
    "#backward imputation\n",
    "pre_imputed_train = backward_fill_by_patient(train_forward)\n",
    "pre_imputed_train.head()  "
   ]
  },
  {
   "cell_type": "code",
   "execution_count": 8,
   "metadata": {},
   "outputs": [
    {
     "name": "stdout",
     "output_type": "stream",
     "text": [
      "Index([], dtype='object')\n"
     ]
    }
   ],
   "source": [
    "# Identify columns with more than 90% missing values\n",
    "\n",
    "missing_percentage = pre_imputed_train.isnull().mean() * 100\n",
    "\n",
    "cols_to_drop2 = missing_percentage[missing_percentage > 80].index\n",
    "\n",
    "print(cols_to_drop2)"
   ]
  },
  {
   "cell_type": "markdown",
   "metadata": {},
   "source": [
    "## MissForest imputation"
   ]
  },
  {
   "cell_type": "code",
   "execution_count": 9,
   "metadata": {},
   "outputs": [
    {
     "data": {
      "text/plain": [
       "patient             0\n",
       "time                0\n",
       "HR                142\n",
       "O2Sat             328\n",
       "Temp             5067\n",
       "SBP              7543\n",
       "MAP              2053\n",
       "DBP            181559\n",
       "Resp             1454\n",
       "BaseExcess     693606\n",
       "FiO2           545205\n",
       "pH             513489\n",
       "PaCO2          528467\n",
       "BUN             34066\n",
       "Calcium        104732\n",
       "Creatinine      34523\n",
       "Glucose         28393\n",
       "Magnesium       95155\n",
       "Potassium       32293\n",
       "Hct             40045\n",
       "Hgb             42004\n",
       "WBC             44834\n",
       "Platelets       43974\n",
       "Age                 0\n",
       "Gender              0\n",
       "Unit1          426031\n",
       "Unit2          426031\n",
       "HospAdmTime         8\n",
       "ICULOS              0\n",
       "SepsisLabel         0\n",
       "dtype: int64"
      ]
     },
     "execution_count": 9,
     "metadata": {},
     "output_type": "execute_result"
    }
   ],
   "source": [
    "pre_imputed_train.isna().sum()"
   ]
  },
  {
   "cell_type": "code",
   "execution_count": 10,
   "metadata": {},
   "outputs": [],
   "source": [
    "# TODO : random sample of dataset before imputing data to save hours\n",
    "\n",
    "sample_pool = pre_imputed_train.drop('SepsisLabel', axis = 1)\n",
    "\n",
    "imputed_sample = pd.DataFrame(sample_pool.sample(n=10000), columns=sample_pool.columns)\n",
    "\n",
    "imputer = MissForest()\n",
    "imputer.fit(imputed_sample)"
   ]
  },
  {
   "cell_type": "markdown",
   "metadata": {},
   "source": [
    "# NOTE :\n",
    "This needs python 3.12 to get the .fit and .transforms funcitons on the MissForest imputer"
   ]
  },
  {
   "cell_type": "code",
   "execution_count": null,
   "metadata": {},
   "outputs": [
    {
     "name": "stderr",
     "output_type": "stream",
     "text": [
      " 20%|████████████████▌                                                                  | 1/5 [02:50<11:20, 170.09s/it]"
     ]
    }
   ],
   "source": [
    "imputed_data = imputer.transform(sample_pool)\n",
    "\n",
    "imputed_data['SepsisLabel'] = pre_imputed_train['SepsisLabel']\n",
    "\n",
    "imputed_data.isna().sum()"
   ]
  },
  {
   "cell_type": "code",
   "execution_count": null,
   "metadata": {},
   "outputs": [],
   "source": [
    "#correlation_matrix = imputed_data.corr()\n",
    "\n",
    "# Mask the upper triangle\n",
    "#mask = np.triu(np.ones_like(correlation_matrix, dtype=bool))\n",
    "\n",
    "\n",
    "# Set up the matplotlib figure\n",
    "#plt.figure(figsize=(12, 10))\n",
    "\n",
    "# Create a heatmap of the correlation matrix, masking the upper triangle\n",
    "#sns.heatmap(correlation_matrix, annot=False, cmap='coolwarm', square=True, mask=mask, cbar_kws={\"shrink\": .8})\n",
    "\n",
    "# Set the title\n",
    "#plt.title('Lower Triangle Correlation Matrix of Imputed Train Data')\n",
    "#plt.savefig('Plots/corrmat_train_imputed.png')\n",
    "#plt.show()"
   ]
  },
  {
   "cell_type": "markdown",
   "metadata": {},
   "source": [
    "# TODO : Put in correlation matrix here"
   ]
  },
  {
   "cell_type": "code",
   "execution_count": null,
   "metadata": {},
   "outputs": [],
   "source": [
    "#correlation_matrix = scaled_train.corr()\n",
    "\n",
    "# Mask the upper triangle\n",
    "#mask = np.triu(np.ones_like(correlation_matrix, dtype=bool))\n",
    "\n",
    "\n",
    "# Set up the matplotlib figure\n",
    "#plt.figure(figsize=(12, 10))\n",
    "\n",
    "# Create a heatmap of the correlation matrix, masking the upper triangle\n",
    "#sns.heatmap(correlation_matrix, annot=False, cmap='coolwarm', square=True, mask=mask, cbar_kws={\"shrink\": .8})\n",
    "\n",
    "# Set the title\n",
    "#plt.title('Lower Triangle Correlation Matrix of Imputed and Scaled Train Data')\n",
    "#plt.savefig('Plots/corrmat_train_imputed.png')\n",
    "#plt.show()"
   ]
  },
  {
   "cell_type": "markdown",
   "metadata": {},
   "source": [
    "## TODO : SMOTE"
   ]
  },
  {
   "cell_type": "code",
   "execution_count": null,
   "metadata": {},
   "outputs": [],
   "source": [
    "X = imputed_data.drop(columns = ['SepsisLabel'])\n",
    "y = imputed_data['SepsisLabel']\n",
    "\n",
    "\n",
    "sm = SMOTE(sampling_strategy=0.3, k_neighbors=5, random_state=8)\n",
    "X_train_syn, y_train_syn = sm.fit_resample(X, y)\n",
    "\n",
    "print(imputed_data.iloc[:, 0:4].describe())\n",
    "print(X_train_syn.iloc[:, 0:4].describe())"
   ]
  },
  {
   "cell_type": "code",
   "execution_count": null,
   "metadata": {},
   "outputs": [],
   "source": [
    "resampled_train = pd.concat([X_train_syn, y_train_syn], axis = 1)\n",
    "resampled_train.head()"
   ]
  },
  {
   "cell_type": "code",
   "execution_count": null,
   "metadata": {},
   "outputs": [],
   "source": [
    "# Before smote distribution \n",
    "sepsis_inf = train_data['SepsisLabel'].value_counts()\n",
    "sepsis_percentages = (sepsis_inf / sepsis_inf.sum()) * 100\n",
    "print(sepsis_percentages)"
   ]
  },
  {
   "cell_type": "code",
   "execution_count": null,
   "metadata": {},
   "outputs": [],
   "source": [
    "# After smote distribution\n",
    "sepsis_inf2 = resampled_train['SepsisLabel'].value_counts()\n",
    "sepsis_percentages2 = (sepsis_inf2 / sepsis_inf2.sum()) * 100\n",
    "print(sepsis_percentages2)"
   ]
  },
  {
   "cell_type": "markdown",
   "metadata": {},
   "source": [
    "## Scaling "
   ]
  },
  {
   "cell_type": "code",
   "execution_count": null,
   "metadata": {},
   "outputs": [],
   "source": [
    "exclude_cols = ['patient', 'time', 'Gender', 'Unit1', 'Unit2', 'HospAdmTime', 'ICULOS']\n",
    "\n",
    "# Separate columns into those to scale and those to exclude\n",
    "cols_to_scale = resampled_train.drop(columns=exclude_cols + ['SepsisLabel']).columns\n",
    "scaled_data = resampled_train[cols_to_scale]\n",
    "\n",
    "# Scale the selected columns\n",
    "scaler = StandardScaler()\n",
    "scaled_scaled_data = pd.DataFrame(scaler.fit_transform(scaled_data), columns=cols_to_scale)\n",
    "\n",
    "# Combine scaled data with excluded columns and the target variable\n",
    "scaled_train = pd.concat([scaled_scaled_data, resampled_train[exclude_cols], resampled_train['SepsisLabel']], axis=1)\n",
    "\n",
    "# Display the resulting DataFrame\n",
    "scaled_train.head()"
   ]
  },
  {
   "cell_type": "code",
   "execution_count": null,
   "metadata": {},
   "outputs": [],
   "source": [
    "#exclude_cols = ['patient', 'time', 'Gender', 'Unit1', 'Unit2', 'HospAdmTime', 'ICULOS', 'SepsisLabel']\n",
    "\n",
    "# Separate columns into those to scale and those to exclude\n",
    "#cols_to_scale = resampled_train.drop(columns=exclude_cols).columns\n",
    "\n",
    "# Scale the selected columns\n",
    "#scaler = StandardScaler()\n",
    "#scaled_data = pd.DataFrame(scaler.fit_transform(resampled_train[cols_to_scale]), columns=cols_to_scale)\n",
    "\n",
    "# Combine scaled data with excluded columns\n",
    "#scaled_train = pd.concat([scaled_data, resampled_train[exclude_cols].reset_index(drop=True)], axis=1)\n",
    "\n",
    "# Display the resulting DataFrame\n",
    "#print(scaled_train.head())\n"
   ]
  },
  {
   "cell_type": "markdown",
   "metadata": {},
   "source": [
    "## Correlation Matrixes for train data set pipeline"
   ]
  },
  {
   "cell_type": "code",
   "execution_count": null,
   "metadata": {},
   "outputs": [],
   "source": [
    "correlation_matrix = train_data.corr()\n",
    "\n",
    "# Mask the upper triangle\n",
    "mask = np.triu(np.ones_like(correlation_matrix, dtype=bool))\n",
    "\n",
    "\n",
    "# Set up the matplotlib figure\n",
    "plt.figure(figsize=(12, 10))\n",
    "\n",
    "# Create a heatmap of the correlation matrix, masking the upper triangle\n",
    "sns.heatmap(correlation_matrix, annot=False, cmap='coolwarm', square=True, mask=mask, cbar_kws={\"shrink\": .8})\n",
    "\n",
    "# Set the title\n",
    "plt.title('Lower Triangle Correlation Matrix of Train Data')\n",
    "plt.savefig('Plots/corrmat_train_imputed.png')\n",
    "plt.show()"
   ]
  },
  {
   "cell_type": "code",
   "execution_count": null,
   "metadata": {},
   "outputs": [],
   "source": [
    "correlation_matrix = imputed_data.corr()\n",
    "\n",
    "# Mask the upper triangle\n",
    "mask = np.triu(np.ones_like(correlation_matrix, dtype=bool))\n",
    "\n",
    "\n",
    "# Set up the matplotlib figure\n",
    "plt.figure(figsize=(12, 10))\n",
    "\n",
    "# Create a heatmap of the correlation matrix, masking the upper triangle\n",
    "sns.heatmap(correlation_matrix, annot=False, cmap='coolwarm', square=True, mask=mask, cbar_kws={\"shrink\": .8})\n",
    "\n",
    "# Set the title\n",
    "plt.title('Lower Triangle Correlation Matrix of Imputed Train Data')\n",
    "plt.savefig('Plots/corrmat_train_imputed.png')\n",
    "plt.show()"
   ]
  },
  {
   "cell_type": "code",
   "execution_count": null,
   "metadata": {},
   "outputs": [],
   "source": [
    "correlation_matrix = scaled_train.corr()\n",
    "\n",
    "# Mask the upper triangle\n",
    "mask = np.triu(np.ones_like(correlation_matrix, dtype=bool))\n",
    "\n",
    "\n",
    "# Set up the matplotlib figure\n",
    "plt.figure(figsize=(12, 10))\n",
    "\n",
    "# Create a heatmap of the correlation matrix, masking the upper triangle\n",
    "sns.heatmap(correlation_matrix, annot=False, cmap='coolwarm', square=True, mask=mask, cbar_kws={\"shrink\": .8})\n",
    "\n",
    "# Set the title\n",
    "plt.title('Lower Triangle Correlation Matrix of Resampled, Scaled, Imputed Train Data')\n",
    "plt.savefig('Plots/corrmat_train_imputed.png')\n",
    "plt.show()"
   ]
  },
  {
   "cell_type": "markdown",
   "metadata": {},
   "source": [
    "## Distributions for train data set pipeline"
   ]
  },
  {
   "cell_type": "code",
   "execution_count": null,
   "metadata": {},
   "outputs": [],
   "source": [
    "def plot_all_variable_distributions(df):\n",
    "    \"\"\"\n",
    "    Plots the distribution of all numerical variables in a DataFrame.\n",
    "    \n",
    "    Parameters:\n",
    "    df (pd.DataFrame): The DataFrame containing the data.\n",
    "    \"\"\"\n",
    "    \n",
    "    num_cols = df.select_dtypes(include=['float64', 'int64']).columns\n",
    "    \n",
    "    \n",
    "    num_vars = len(num_cols)\n",
    "    plt.figure(figsize=(15, 5 * num_vars))\n",
    "    \n",
    "    for i, col in enumerate(num_cols):\n",
    "        plt.subplot(num_vars, 1, i + 1)  \n",
    "        sns.histplot(df[col], kde=True, bins=30, color='blue')  \n",
    "        plt.title(f'Distribution of {col}')\n",
    "        plt.xlabel(col)\n",
    "        plt.ylabel('Frequency')\n",
    "        \n",
    "    plt.tight_layout()  \n",
    "    plt.show()\n",
    "\n",
    "\n",
    "plot_all_variable_distributions(train_data)"
   ]
  },
  {
   "cell_type": "code",
   "execution_count": null,
   "metadata": {},
   "outputs": [],
   "source": [
    "plot_all_variable_distributions(imputed_data)"
   ]
  },
  {
   "cell_type": "code",
   "execution_count": null,
   "metadata": {},
   "outputs": [],
   "source": [
    "plot_all_variable_distributions(scaled_train)"
   ]
  },
  {
   "cell_type": "markdown",
   "metadata": {},
   "source": [
    "## Final train data set to csv"
   ]
  },
  {
   "cell_type": "code",
   "execution_count": null,
   "metadata": {},
   "outputs": [],
   "source": [
    "# get rid of the index\n",
    "scaled_train.to_csv(missForestTrainFile)"
   ]
  },
  {
   "cell_type": "markdown",
   "metadata": {},
   "source": [
    "# TEST PIPELINE"
   ]
  },
  {
   "cell_type": "markdown",
   "metadata": {},
   "source": [
    "## Imputing B/F and missforest"
   ]
  },
  {
   "cell_type": "code",
   "execution_count": null,
   "metadata": {},
   "outputs": [],
   "source": [
    "test_dropped = test_data.drop(cols_to_drop, axis = 1)\n",
    "test_dropped.head()"
   ]
  },
  {
   "cell_type": "code",
   "execution_count": null,
   "metadata": {},
   "outputs": [],
   "source": [
    "#forward imputation\n",
    "test_forward = forward_fill_by_patient(test_dropped)\n",
    "test_forward.head()"
   ]
  },
  {
   "cell_type": "code",
   "execution_count": null,
   "metadata": {},
   "outputs": [],
   "source": [
    "#forward imputation\n",
    "pre_imputed_test = backward_fill_by_patient(test_forward)\n",
    "pre_imputed_test.head()"
   ]
  },
  {
   "cell_type": "markdown",
   "metadata": {},
   "source": [
    "## TODO : Find number of missing here"
   ]
  },
  {
   "cell_type": "code",
   "execution_count": null,
   "metadata": {},
   "outputs": [],
   "source": [
    "# forward fill \n",
    "pre_imputed_test['HR'] = pd.to_numeric(pre_imputed_test['HR'], errors='coerce')\n",
    "\n",
    "# TODO : ERROR - SEPSIS LABEL IN FIRST SCALER, TAKE IT OUT\n",
    "\n",
    "pre_imputed_test2 = imputer.transform(pre_imputed_test)"
   ]
  },
  {
   "cell_type": "code",
   "execution_count": null,
   "metadata": {},
   "outputs": [],
   "source": [
    "pre_imputed_test2.isna().sum()"
   ]
  },
  {
   "cell_type": "markdown",
   "metadata": {},
   "source": [
    "## Scaling"
   ]
  },
  {
   "cell_type": "code",
   "execution_count": null,
   "metadata": {},
   "outputs": [],
   "source": [
    "pre_imputed_test2.head()"
   ]
  },
  {
   "cell_type": "code",
   "execution_count": null,
   "metadata": {},
   "outputs": [],
   "source": [
    "# SCALING WHILE OMITING SOME VARIABLES FIXED# \n",
    "\n",
    "#indices_test2 = pre_imputed_test2.isna()\n",
    "\n",
    "# Create Simple Imputer to fill NaN values with the mean for test data\n",
    "#imputer = SimpleImputer(strategy='mean') \n",
    "#imputed_test = pd.DataFrame(imputer.transform(pre_imputed_test2), columns=pre_imputed_test2.columns)\n",
    "\n",
    "# Separate columns into those to scale and those to exclude (no target variable in test)\n",
    "#cols_to_scale_test = imputed_test.drop(columns=exclude_cols).columns\n",
    "\n",
    "# Scale the selected columns using the already-fitted scaler\n",
    "#scaled_test_data = pd.DataFrame(scaler.transform(imputed_test[cols_to_scale_test]), columns=cols_to_scale_test)\n",
    "\n",
    "# Combine scaled data with excluded columns\n",
    "#scaled_test = pd.concat([scaled_test_data, imputed_test[exclude_cols]], axis=1)"
   ]
  },
  {
   "cell_type": "code",
   "execution_count": null,
   "metadata": {},
   "outputs": [],
   "source": [
    "# Exclude columns as specified\n",
    "#exclude_cols = ['patient', 'time', 'Gender', 'Unit1', 'Unit2', 'HospAdmTime', 'ICULOS']\n",
    "\n",
    "# Separate columns to scale in the training data\n",
    "cols_to_scale = resampled_train.drop(columns=exclude_cols + ['SepsisLabel']).columns\n",
    "\n",
    "# Fit the scaler on the training data\n",
    "#scaler = StandardScaler()\n",
    "#scaler.fit(resampled_train[cols_to_scale])\n",
    "\n",
    "# For the test data, drop excluded columns safely\n",
    "#test_data = pre_imputed_test2.drop(columns=exclude_cols, errors='ignore')\n",
    "\n",
    "# Scale the columns that were used in the training data\n",
    "cols_to_scale_test = test_data.columns.intersection(cols_to_scale)\n",
    "\n",
    "# Scale the selected columns\n",
    "#scaled_test_data = pd.DataFrame(scaler.transform(test_data[cols_to_scale_test]), columns=cols_to_scale_test)\n",
    "\n",
    "# Check which exclude columns are actually in test_data\n",
    "#existing_exclude_cols = [col for col in exclude_cols if col in pre_imputed_test2.columns]\n",
    "\n",
    "# Combine the scaled data with the existing excluded columns\n",
    "#scaled_test = pd.concat([scaled_test_data, pre_imputed_test2[existing_exclude_cols].reset_index(drop=True)], axis=1)\n",
    "\n",
    "# Display the resulting DataFrame\n",
    "#scaled_test.head()"
   ]
  },
  {
   "cell_type": "code",
   "execution_count": null,
   "metadata": {},
   "outputs": [],
   "source": [
    "scaler = StandardScaler()\n",
    "scaler.fit(resampled_train[cols_to_scale])  \n",
    "\n",
    "# Scale the test data using the fitted scaler\n",
    "scaled_test = pd.DataFrame(scaler.transform(pre_imputed_test2[cols_to_scale_test]), columns=cols_to_scale_test)\n",
    "\n",
    "# Check if the scaling is consistent\n",
    "print(scaled_test.head())"
   ]
  },
  {
   "cell_type": "markdown",
   "metadata": {},
   "source": [
    "## Correlation matrixes for test data set pipeline"
   ]
  },
  {
   "cell_type": "code",
   "execution_count": null,
   "metadata": {},
   "outputs": [],
   "source": [
    "test_dropped['HR'] = pd.to_numeric(test_dropped['HR'], errors='coerce')\n",
    "correlation_matrix = test_dropped.corr()\n",
    "\n",
    "# Mask the upper triangle\n",
    "mask = np.triu(np.ones_like(correlation_matrix, dtype=bool))\n",
    "\n",
    "\n",
    "# Set up the matplotlib figure\n",
    "plt.figure(figsize=(10, 10))\n",
    "\n",
    "# Create a heatmap of the correlation matrix, masking the upper triangle\n",
    "sns.heatmap(correlation_matrix, annot=False, cmap='coolwarm', square=True, mask=mask, cbar_kws={\"shrink\": .8})\n",
    "\n",
    "# Set the title\n",
    "plt.title('Lower Triangle Correlation Matrix of Test Data')\n",
    "plt.savefig('Plots/corrmat_train_imputed.png')\n",
    "plt.show()"
   ]
  },
  {
   "cell_type": "code",
   "execution_count": null,
   "metadata": {},
   "outputs": [],
   "source": [
    "correlation_matrix = pre_imputed_test.corr()\n",
    "\n",
    "# Mask the upper triangle\n",
    "mask = np.triu(np.ones_like(correlation_matrix, dtype=bool))\n",
    "\n",
    "\n",
    "# Set up the matplotlib figure\n",
    "plt.figure(figsize=(10, 10))\n",
    "\n",
    "# Create a heatmap of the correlation matrix, masking the upper triangle\n",
    "sns.heatmap(correlation_matrix, annot=False, cmap='coolwarm', square=True, mask=mask, cbar_kws={\"shrink\": .8})\n",
    "\n",
    "# Set the title\n",
    "plt.title('Lower Triangle Correlation Matrix of Scaled, Imputed Test Data')\n",
    "plt.savefig('Plots/corrmat_train_imputed.png')\n",
    "plt.show()"
   ]
  },
  {
   "cell_type": "markdown",
   "metadata": {},
   "source": [
    "## Distributions for test data pipeline"
   ]
  },
  {
   "cell_type": "code",
   "execution_count": null,
   "metadata": {},
   "outputs": [],
   "source": [
    "plot_all_variable_distributions(test_data)"
   ]
  },
  {
   "cell_type": "code",
   "execution_count": null,
   "metadata": {},
   "outputs": [],
   "source": [
    "plot_all_variable_distributions(scaled_test)"
   ]
  },
  {
   "cell_type": "markdown",
   "metadata": {},
   "source": [
    "## Final test data set to csv "
   ]
  },
  {
   "cell_type": "code",
   "execution_count": null,
   "metadata": {},
   "outputs": [],
   "source": [
    "#get rid of the index\n",
    "scaled_test.to_csv(os.path.join(imputedDataPath, \"missforest_imputed_test.csv\"))"
   ]
  },
  {
   "cell_type": "code",
   "execution_count": null,
   "metadata": {},
   "outputs": [],
   "source": []
  }
 ],
 "metadata": {
  "kernelspec": {
   "display_name": "Python 3 (ipykernel)",
   "language": "python",
   "name": "python3"
  },
  "language_info": {
   "codemirror_mode": {
    "name": "ipython",
    "version": 3
   },
   "file_extension": ".py",
   "mimetype": "text/x-python",
   "name": "python",
   "nbconvert_exporter": "python",
   "pygments_lexer": "ipython3",
   "version": "3.12.7"
  }
 },
 "nbformat": 4,
 "nbformat_minor": 4
}
