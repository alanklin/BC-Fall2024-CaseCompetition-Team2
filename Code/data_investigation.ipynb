{
  "cells": [
    {
      "cell_type": "markdown",
      "metadata": {
        "colab_type": "text",
        "id": "view-in-github"
      },
      "source": [
        "<a href=\"https://colab.research.google.com/github/alanklin/BC-Fall2024-CaseCompetition-Team2/blob/main/Code/data_investigation.ipynb\" target=\"_parent\"><img src=\"https://colab.research.google.com/assets/colab-badge.svg\" alt=\"Open In Colab\"/></a>"
      ]
    },
    {
      "cell_type": "markdown",
      "metadata": {
        "id": "m-ZOyjlLjEyu"
      },
      "source": [
        "# Colab and Environment Setup\n"
      ]
    },
    {
      "cell_type": "markdown",
      "metadata": {
        "id": "lstV5ih5jM0r"
      },
      "source": [
        "Should run these at the start. These are saved in the Colab_Env_Setup notebook, but Colab be funny and can't run two notebooks on the same session."
      ]
    },
    {
      "cell_type": "code",
      "execution_count": null,
      "metadata": {
        "id": "AdtGekJyqLI4"
      },
      "outputs": [],
      "source": [
        "# This should get a copy of the repo onto your Colab.\n",
        "!git clone https://github.com/alanklin/BC-Fall2024-CaseCompetition-Team2"
      ]
    },
    {
      "cell_type": "markdown",
      "metadata": {
        "id": "hoeyEmqKrKO4"
      },
      "source": [
        "Should only need to do that one once. Make sure you have a copy of the repo so you can run the next line of code\n"
      ]
    },
    {
      "cell_type": "code",
      "execution_count": null,
      "metadata": {
        "id": "S0lHSjPZqS5q"
      },
      "outputs": [],
      "source": [
        "# get the packages and the right versions installed.\n",
        "!pip install -r /content/BC-Fall2024-CaseCompetition-Team2/requirements.txt"
      ]
    },
    {
      "cell_type": "code",
      "execution_count": 33,
      "metadata": {
        "colab": {
          "base_uri": "https://localhost:8080/"
        },
        "id": "MSXqwZCNqa2J",
        "outputId": "65b4e3c0-fcab-4df9-bcfc-44cc20b66b9c"
      },
      "outputs": [
        {
          "name": "stdout",
          "output_type": "stream",
          "text": [
            "/content/BC-Fall2024-CaseCompetition-Team2/Code\n"
          ]
        }
      ],
      "source": [
        "# change working directory.\n",
        "%cd /content/BC-Fall2024-CaseCompetition-Team2/Code"
      ]
    },
    {
      "cell_type": "markdown",
      "metadata": {},
      "source": [
        "# Background Research"
      ]
    },
    {
      "cell_type": "markdown",
      "metadata": {},
      "source": [
        "This section is dedicated to documenting the relationship between each variable and the prognosis of sepsis. We wanted to see if prior research had already established some sort of connection between each variable and how it interacts with sepsis. The results from reading all these papers were promising and helped guide our reasoning during the model building process.\n",
        "\n",
        "\n",
        "**Vital signs** \n",
        "\n",
        "*HR* - Heart rate (beats per minute) : Appears to be a result of sepsis. Sepsis causes organ failing and that causes the heart to pump more blood to these organs. Perhaps higher elevations in heart rate indicate a more intense body response to severe infection.\n",
        "\n",
        "*O2Sat*\t- Pulse oximetry (%) : Possible cause of sepsis. Appears to be related to sepsis because a low oxygen saturation at hospital admission can indicate impaired immune response, leading to a higher risk of secondary infections.\n",
        "\n",
        "*Temp* - Temperature (Deg C) : Likely a result of sepsis, as it is usually associated with rising body temperatures as the body fights off an infection with a fever. There are cases where body temperature actually decreases due to changes in circulation. \n",
        "\n",
        "*SBP* - Systolic BP (mm Hg): Likely a result of sepsis. Low blood pressure can cause septic shock, but isn't quite a cause of sepsis itself. Typically an indicator of sepsis during diagnosis if it falls below 100.  Maintaining blood pressure at a good level can save the lives of septic patients.\n",
        "\n",
        "*MAP* -\tMean arterial pressure (mm Hg): Related to SBP as this is blood pressure. Can decrease due to vasodilation and cardiac dysfunction, so classifying this as a result of sepsis. One paper defines MAP = DP + (SP − DP)/3\n",
        "\n",
        "*DBP* -\tDiastolic BP (mm Hg): Similar story to SBP/MAP. One paper actually finds that it might be more important than systolic blood pressure when predicting septic shock, so let's keep an eye out. \n",
        "\n",
        "*Resp*- Respiration rate (breaths per minute) : Result of sepsis. Thought to be due to patients having to fight off infection and fever. Higher heart rate means there's an increase in the demand for oxygen, hence why respiration rate increases. \n",
        "\n",
        "*EtCO2* - End tidal carbon dioxide (mm Hg) : Result of sepsis. This is the amount of carbon dioxide that is released at the end of an exhaled breath. Studies show that low values ≤ 25 mmHg can be used to predict poor outcomes (mortality) in potentially septic patients. \n",
        "\n",
        "\n",
        "** Laboratory Values **\n",
        "\n",
        "*BaseExcess* - Measure of excess bicarbonate (mmol/L) : Result of sepsis. Related to Lactate variable as it indicates how much base is needed to return acidic blood levels back to normal. Could be used as a predictor of lactate and much quicker for hospitals to measure than using blood samples.\n",
        "\n",
        "*HCO3*- Bicarbonate (mmol/L) : Result of sepsis. HCO3 is a base that helps maintain the body's acid-base balance. It's possible that a low value of serum bicarbonate (amount of bicarbonate in the blood) is an indicator of sepsis. \n",
        "\n",
        "*FiO2* - Fraction of inspired oxygen (%). Likely a result of sepsis. An estimation of the oxygen content a person inhales, while is generally controlled by respiratory machines in a hospital. Sepsis can cause respiratory problems when it attacks the respiratory system, and if a person's blood oxygens are low, oxygen therapy is incredibly important for septic patients.\n",
        "\n",
        "*pH* - A result of sepsis. Related to other variables involved in the blood pH balance (BaseExcess, HCO3, Lactate, etc). Lactic acidosis occurs when lactic acid from anoxic tissues overwhelms the blood's buffering capacity. A serum pH below 7.35 indicates lactic acidosis\n",
        "\n",
        "*SaO2* - Oxygen saturation from arterial blood (%) : Possible cause of sepsis. Relatively similar to O2Sat but is determined in a more invasive manner. Impaired oxygen saturation can indicate poor immune response, leading to more severe or higher likelihood of infections taking hold.\n",
        "\n",
        "*AST* - Aspartate transaminase (IU/L) : Possible result of sepsis. AST is an enzyme that's released when the liver or muscles are damaged. Other organs, such as your heart, kidneys, brain, and muscles, also make smaller amounts of AST. When sepsis attacks the liver (or other organs), this enzyme is released into the bloodstream and can be indicative of liver damage (liver-associated septic damage).\n",
        "\n",
        "*BUN* -\tBlood urea nitrogen (mg/dL) : Result of sepsis. Increases. BUN is the main end product of protein metabolism in the human body and is excreted mainly by the kidneys. BUN level will increase when there is excessive protein breakdown or when the glomerular filtration rate decreases. The rate of protein catabolism increases significantly in patients with sepsis, and sepsis is often complicated with acute renal injury. These factors can lead to an increase in BUN levels in patients with sepsis \n",
        "\n",
        "Alkalinephos - Alkaline phosphatase (IU/L) : Result of sepsis. Increases. AP is an endogenous and membrane-bound enzyme, It exists in multiple cells and organs as 4 different isoenzymes, namely liver-bone-kidney, the germ cell line, intestinal and placental AP. In our study, we believe that the increase in AP activity was a host response to septic injury. AP has been highlighted to be a component of the host defense against inflammation. Exogenous AP infusion treatment has shown a potential role as one of the therapeutic interventions in patients with septic shock. It has been reported that alkaline phosphatase (AP) can improve kidney function of patients with SA-AKI in intensive care unit. it can detoxify various compounds through dephosphorylation, including endotoxin lipopolysaccharide (LPS) which constitutes the outer wall of gram-negative bacteria and is vital for the process of sepsis.\n",
        "\n",
        "*Calcium* (mg/dL) : Possible cause and result of sepsis. Serum calcium is crucial to vital physiological processes such as cell membrane stability, nerve conduction, muscle contraction, and coagulation. The perturbation in serum calcium homeostasis intricately correlates with disease severity, manifesting both potential protective or deleterious effects. Our research elucidated a U-shaped correlation between serum calcium levels and in-hospital mortality in patients with sepsis. The dysregulation in calcium homeostasis during sepsis stems from an imbalance in calcium absorption and heightened discharge caused by inflammatory cytokines. hypocalcemia/hypercalcemia\n",
        "\n",
        "*Chloride* (mmol/L) : Result of sepsis. Increases. Chloride is vital for maintenance of serum electroneutrality, acid-base balance, fluid homeostasis, osmotic pressure, hydrochloric acid (HCl) production in the gastrointestinal tract, renal function, and for electrical activity in general, e.g., in muscular activity \n",
        "\n",
        "*Creatinine* (mg/dL) : Result of sepsis. Increases. Creatinine is used for the evaluation of renal failure changes with the patient’s age, gender and muscle mass. Additionally, it may not rise without an almost 50% decrease of renal function\n",
        "\n",
        "*Bilirubin_direct* - Bilirubin direct (mg/dL) : Result of sepsis. Increases. Bilirubin could be assumed to be the most widely used and proposed biomarker to diagnose hepatic dysfunction/failure during sepsis. Increased bilirubin levels are a late event in the course of multiorgan dysfunction\n",
        "\n",
        "*Glucose* - Serum glucose (mg/dL) :  Result of sepsis. Increases. Glucose is a sugar with the molecular formula C6H12O6. Glucose is overall the most abundant monosaccharide, a subcategory of carbohydrates. Inflammatory mediators and stress hormone-induced glucose utilization is usually associated with increased glucose production. Inflammatory cytokines, which both increase glucose utilization and inhibit gluconeogenesis, may be implicated. That is, hypoglycemia may be a part of a phenotype reflecting a pathological acute stress response. \n",
        "\n",
        "*Lactate* - Lactic acid (mg/dL) : Result of sepsis. Increased serum lactate level may represent tissue hypoperfusion associated with signs of organ dysfunction in critically ill patients. Lactate is important source of energy, particularly during starvation. Therefore, when lactate is not produced, humans cannot survive. Lactate also contributes to acidic environment by converting to lactic acid. \n",
        "\n",
        "*Magnesium*\t(mmol/dL) : Possible cause of sepsis. The loss of magnesium homeostasis exacerbated sepsis progression. Hypomagnesemia is a potential risk factor of infections thereby resulting in sepsis.\n",
        "\n",
        "*Phosphate*\t(mg/dL) : Uncertain. Hypophosphatemia develops in the early stages of sepsis. In septic patients, severe hypophosphatemia have a higher mortality rate.\n",
        "\n",
        "*Potassium*\t(mmol/L) : Result of sepsis. Increases. Anything that causes many cells to die at once can leak large amounts of potassium into the blood.\n",
        "\n",
        "*Bilirubin_total* - Total bilirubin (mg/dL)\t: Result of sepsis. Bilirubin increases as a result of the body tries to fight bacteria infections. This is the waste product of red blood cells. \n",
        "\n",
        "*TroponinI* - Troponin I (ng/mL) : Result of sepsis. Cardiac troponins are elevated in 85% of patients with sepsis in the absence of acute coronary syndrome.\n",
        "\n",
        "*Hct* - Hematocrit (%) : Result of sepsis. Decreases. Sepsis is characterized by a reduction of hematocrit.\n",
        "\n",
        "*Hgb* - Hemoglobin (g/dL) : Result of sepsis. Increases. Clinical research and animal trials have demonstrated that a considerable amount of hemoglobin is released from red blood cells during sepsis, resulting in hemolytic anemia and an increased risk of death.\n",
        "\n",
        "*PTT* - Partial thromboplastin time (seconds) : Result of sepsis. Varies. Measures the blood's ability to clot. If the PTT level is too high, this indicates that the blood is not clotting well. If the platelet count is low, this can be a sign of Sepsis. \n",
        "\n",
        "*WBC* - Leukocyte count (count*10^3/µL) : Could be a result or cause of sepsis. White Blood Cells (WBC) at elevated levels are a sign of a current infection whereas lower than usual levels signifies that an individual may be susceptible to an infection.\n",
        "\n",
        "*Fibrinogen* (mg/dL) : Result of sepsis. Decreased Fibrinogen occurs only in the later stages of sepsis.\n",
        "\n",
        "*Platelets* (count*10^3/µL) : Result of sepsis.\tLow platelet count is a key sign of sepsis"
      ]
    },
    {
      "cell_type": "markdown",
      "metadata": {
        "id": "B1lcF4C0HtfE"
      },
      "source": [
        "# Data Investigation\n"
      ]
    },
    {
      "cell_type": "markdown",
      "metadata": {
        "id": "fOE6MVwIjDae"
      },
      "source": []
    },
    {
      "cell_type": "code",
      "execution_count": 2,
      "metadata": {
        "id": "4WCcPEO7ESp3"
      },
      "outputs": [],
      "source": [
        "from _Setup import *"
      ]
    },
    {
      "cell_type": "code",
      "execution_count": 6,
      "metadata": {
        "id": "nybJafByESp4"
      },
      "outputs": [],
      "source": [
        "scaled_train = pd.read_pickle(kmeansTrainFilePickle)"
      ]
    }
  ],
  "metadata": {
    "colab": {
      "include_colab_link": true,
      "provenance": []
    },
    "kernelspec": {
      "display_name": "bigData",
      "language": "python",
      "name": "python3"
    },
    "language_info": {
      "codemirror_mode": {
        "name": "ipython",
        "version": 3
      },
      "file_extension": ".py",
      "mimetype": "text/x-python",
      "name": "python",
      "nbconvert_exporter": "python",
      "pygments_lexer": "ipython3",
      "version": "3.9.18"
    }
  },
  "nbformat": 4,
  "nbformat_minor": 0
}
