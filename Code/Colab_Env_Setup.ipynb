{
 "cells": [
  {
   "cell_type": "markdown",
   "metadata": {},
   "source": [
    "# Google Colab Setup and Environment Setup"
   ]
  },
  {
   "cell_type": "markdown",
   "metadata": {},
   "source": [
    "Uncomment lines of code to run initially.\n",
    "To save your changes on Google Colab and push to Github repo, select File, and Save a Copy in Github."
   ]
  },
  {
   "cell_type": "code",
   "execution_count": null,
   "metadata": {},
   "outputs": [],
   "source": [
    "# Clone the Github Repo to Colab files.\n",
    "\n",
    "# !git clone https://github.com/BC-Fall2024-CaseCompetition-Team2.git"
   ]
  },
  {
   "cell_type": "code",
   "execution_count": null,
   "metadata": {},
   "outputs": [],
   "source": [
    "# Install packages and versions.\n",
    "\n",
    "#!pip install -r /content/BC-Fall2024-CaseCompetition-Team2/requirements.txt"
   ]
  },
  {
   "cell_type": "code",
   "execution_count": null,
   "metadata": {},
   "outputs": [],
   "source": [
    "# change working directory.\n",
    "\n",
    "#!cd /content/BC-Fall2024-CaseCompetition-Team2/Code"
   ]
  }
 ],
 "metadata": {
  "language_info": {
   "name": "python"
  }
 },
 "nbformat": 4,
 "nbformat_minor": 2
}
