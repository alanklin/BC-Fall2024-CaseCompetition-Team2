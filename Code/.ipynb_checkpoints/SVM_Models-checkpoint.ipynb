{
 "cells": [
  {
   "cell_type": "code",
   "execution_count": null,
   "id": "e2e5cdaa-0119-40e7-a185-da19f84d7137",
   "metadata": {},
   "outputs": [],
   "source": [
    "from _Setup import *\n",
    "\n",
    "import numpy as np\n",
    "import pandas as pd\n",
    "from sklearn import datasets\n",
    "from sklearn.model_selection import train_test_split\n",
    "from sklearn.preprocessing import StandardScaler\n",
    "from sklearn.svm import SVC\n",
    "from sklearn.metrics import classification_report, confusion_matrix\n",
    "import matplotlib.pyplot as plt\n",
    "\n",
    "import pandas as pd\n",
    "from sklearn.model_selection import train_test_split\n",
    "from sklearn.preprocessing import StandardScaler\n",
    "from sklearn.svm import SVC\n",
    "from sklearn.metrics import classification_report, confusion_matrix\n",
    "from sklearn.feature_selection import SelectKBest, f_classif"
   ]
  },
  {
   "cell_type": "code",
   "execution_count": null,
   "id": "9a675ef5-932c-495c-a4af-e760f9334ed0",
   "metadata": {},
   "outputs": [],
   "source": [
    "train = pd.read_csv(missForestTrainFile)\n",
    "test = pd.read_csv(missForestTestFile)\n",
    "submission_data = pd.read_csv(rawSubmissionFile)"
   ]
  },
  {
   "cell_type": "code",
   "execution_count": null,
   "id": "556e609e-e7a3-4c28-b12e-ae198b857162",
   "metadata": {},
   "outputs": [],
   "source": [
    "#Separating columns \n",
    "X = train.drop(columns=['Unit2','Unnamed: 0', 'HospAdmTime','SepsisLabel', 'time'])  \n",
    "y = train['SepsisLabel']"
   ]
  },
  {
   "cell_type": "code",
   "execution_count": null,
   "id": "40367dfe-a660-45e0-9f91-7e2362f07254",
   "metadata": {},
   "outputs": [],
   "source": [
    "X.head()"
   ]
  },
  {
   "cell_type": "code",
   "execution_count": null,
   "id": "106c6906-f93b-4c5a-90e0-aa84e2f7b3f7",
   "metadata": {},
   "outputs": [],
   "source": [
    "#k = 10  # Adjust this number based on your needs\n",
    "#selector = SelectKBest(score_func=f_classif, k=k)\n",
    "#X_selected = selector.fit_transform(X, y)\n",
    "\n",
    "# Get the names of the selected features\n",
    "#selected_features = X.columns[selector.get_support()]\n",
    "#print(\"Selected Features:\", selected_features)"
   ]
  },
  {
   "cell_type": "code",
   "execution_count": null,
   "id": "86974942-11fd-405e-b740-d5b637d2127c",
   "metadata": {},
   "outputs": [],
   "source": [
    "# selecting variables \n",
    "#selected_columns = ['ICULOS', 'Temp', 'Resp', 'BaseExcess']\n",
    "selected_columns = ['ICULOS']\n",
    "X_selected = X[selected_columns]"
   ]
  },
  {
   "cell_type": "code",
   "execution_count": null,
   "id": "feeaf45f-915d-4841-97cb-5237321d55a2",
   "metadata": {},
   "outputs": [],
   "source": [
    "# take a sample from the data "
   ]
  },
  {
   "cell_type": "code",
   "execution_count": null,
   "id": "c3c6c672-e4b5-45a9-9813-2db1dfaddbb9",
   "metadata": {},
   "outputs": [],
   "source": [
    "from sklearn.svm import SVC\n",
    "\n",
    "model = SVC(kernel='linear') \n",
    "model.fit(X_selected, y)"
   ]
  },
  {
   "cell_type": "code",
   "execution_count": null,
   "id": "7ed1bd67-2caa-4695-b77e-9bed75ef42eb",
   "metadata": {},
   "outputs": [],
   "source": [
    "y_pred = model.predict(test)"
   ]
  },
  {
   "cell_type": "code",
   "execution_count": null,
   "id": "788d6531-7a2d-484d-b71f-9908f2df96f0",
   "metadata": {},
   "outputs": [],
   "source": [
    "from sklearn.model_selection import GridSearchCV\n",
    "\n",
    "param_grid = {\n",
    "    'C': [0.1, 1, 10],\n",
    "    'kernel': ['linear', 'rbf'],\n",
    "}\n",
    "\n",
    "grid_search = GridSearchCV(SVC(), param_grid, cv=5)\n",
    "grid_search.fit(X_train, y_train)\n",
    "\n",
    "print(f\"Best parameters: {grid_search.best_params_}\")"
   ]
  },
  {
   "cell_type": "code",
   "execution_count": null,
   "id": "c346c796-cc08-4609-b00c-1feb90551d39",
   "metadata": {},
   "outputs": [],
   "source": [
    "submission_data['SepsisLabel'] = y_pred_test\n",
    "\n",
    "# Optionally, save the modified DataFrame to a CSV file\n",
    "# TODO : create a variable for this path in _Setup.py\n",
    "# submission_data.to_csv('submission_data_with_predictions.csv', index=False)\n",
    "\n",
    "# Display the updated DataFrame (optional)\n",
    "print(submission_data.head())"
   ]
  },
  {
   "cell_type": "code",
   "execution_count": null,
   "id": "5b2d1e86-19de-482c-aa20-accef5b67ca3",
   "metadata": {},
   "outputs": [],
   "source": [
    "num_rows = submission_data.shape[0]\n",
    "print(\"Number of rows in submission_data:\", num_rows)"
   ]
  },
  {
   "cell_type": "code",
   "execution_count": null,
   "id": "4498546a-85b5-4ec9-88df-3d33fd4e6030",
   "metadata": {},
   "outputs": [],
   "source": [
    "print(\"\\nClassification Report (Training):\\n\", classification_report(y_train, y_pred_train))"
   ]
  },
  {
   "cell_type": "code",
   "execution_count": null,
   "id": "4ea4c040-a028-4d94-8f84-206d285a375c",
   "metadata": {},
   "outputs": [],
   "source": []
  },
  {
   "cell_type": "code",
   "execution_count": null,
   "id": "432397d5-9bd4-4128-98fc-3850f729e8a0",
   "metadata": {},
   "outputs": [],
   "source": []
  }
 ],
 "metadata": {
  "kernelspec": {
   "display_name": "Python 3 (ipykernel)",
   "language": "python",
   "name": "python3"
  },
  "language_info": {
   "codemirror_mode": {
    "name": "ipython",
    "version": 3
   },
   "file_extension": ".py",
   "mimetype": "text/x-python",
   "name": "python",
   "nbconvert_exporter": "python",
   "pygments_lexer": "ipython3",
   "version": "3.12.7"
  }
 },
 "nbformat": 4,
 "nbformat_minor": 5
}
