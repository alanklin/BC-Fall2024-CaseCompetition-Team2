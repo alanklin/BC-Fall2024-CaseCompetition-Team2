{
 "cells": [
  {
   "cell_type": "code",
   "execution_count": 1,
   "id": "42cd635a-fea3-4d94-b2bd-5460b81c6356",
   "metadata": {},
   "outputs": [],
   "source": [
    "#it takes too much time to run this thing "
   ]
  },
  {
   "cell_type": "code",
   "execution_count": 1,
   "id": "e2e5cdaa-0119-40e7-a185-da19f84d7137",
   "metadata": {},
   "outputs": [],
   "source": [
    "from _Setup import *\n",
    "\n",
    "import numpy as np\n",
    "import pandas as pd\n",
    "from sklearn import datasets\n",
    "from sklearn.model_selection import train_test_split\n",
    "from sklearn.preprocessing import StandardScaler\n",
    "from sklearn.svm import SVC\n",
    "from sklearn.metrics import classification_report, confusion_matrix\n",
    "import matplotlib.pyplot as plt\n",
    "\n",
    "import pandas as pd\n",
    "from sklearn.model_selection import train_test_split\n",
    "from sklearn.preprocessing import StandardScaler\n",
    "from sklearn.svm import SVC\n",
    "from sklearn.metrics import classification_report, confusion_matrix\n",
    "from sklearn.feature_selection import SelectKBest, f_classif\n",
    "\n",
    "import pandas as pd\n",
    "import statsmodels.api as sm\n",
    "from statsmodels.genmod.generalized_estimating_equations import GEE\n",
    "from sklearn.metrics import classification_report, roc_auc_score, roc_curve\n",
    "import numpy as np"
   ]
  },
  {
   "cell_type": "code",
   "execution_count": 20,
   "id": "9a675ef5-932c-495c-a4af-e760f9334ed0",
   "metadata": {},
   "outputs": [],
   "source": [
    "train = pd.read_csv(missForestTrainFile)\n",
    "submission_data = pd.read_csv(rawSubmissionFile)\n",
    "test = pd.read_pickle(missForestTestFile)"
   ]
  },
  {
   "cell_type": "code",
   "execution_count": 21,
   "id": "556e609e-e7a3-4c28-b12e-ae198b857162",
   "metadata": {},
   "outputs": [],
   "source": [
    "#Separating columns \n",
    "X = train.drop(columns=['Unit2','Unnamed: 0', 'HospAdmTime','SepsisLabel', 'time']) \n",
    "test = test.drop(columns=['Unit2', 'HospAdmTime', 'time'])\n",
    "y = train['SepsisLabel']"
   ]
  },
  {
   "cell_type": "markdown",
   "id": "cb7878b2-7754-47bb-ba41-2495eec156a8",
   "metadata": {},
   "source": [
    "## SVM"
   ]
  },
  {
   "cell_type": "code",
   "execution_count": null,
   "id": "c3c6c672-e4b5-45a9-9813-2db1dfaddbb9",
   "metadata": {},
   "outputs": [],
   "source": [
    "#from sklearn.svm import SVC\n",
    "\n",
    "#model = SVC(kernel='linear') \n",
    "#model.fit(X, y)"
   ]
  },
  {
   "cell_type": "code",
   "execution_count": null,
   "id": "7ed1bd67-2caa-4695-b77e-9bed75ef42eb",
   "metadata": {},
   "outputs": [],
   "source": [
    "#y_pred = model.predict(test)"
   ]
  },
  {
   "cell_type": "code",
   "execution_count": null,
   "id": "5b2d1e86-19de-482c-aa20-accef5b67ca3",
   "metadata": {},
   "outputs": [],
   "source": [
    "#num_rows = submission_data.shape[0]\n",
    "#print(\"Number of rows in submission_data:\", num_rows)"
   ]
  },
  {
   "cell_type": "code",
   "execution_count": null,
   "id": "4498546a-85b5-4ec9-88df-3d33fd4e6030",
   "metadata": {},
   "outputs": [],
   "source": [
    "#print(\"\\nClassification Report (Training):\\n\", classification_report(y_train, y_pred))"
   ]
  },
  {
   "cell_type": "code",
   "execution_count": null,
   "id": "46d29554-1045-4670-971a-c900bde8f612",
   "metadata": {},
   "outputs": [],
   "source": [
    "#submission_data['SepsisLabel'] = y_pred\n",
    "#submission_data.head()"
   ]
  },
  {
   "cell_type": "code",
   "execution_count": 32,
   "id": "f33cbe6f-3b01-4bf2-88e1-c0a6ad3ee233",
   "metadata": {},
   "outputs": [],
   "source": [
    "#submission_data.to_csv(\"../Data/rawData/SVM_submission.csv\", index = False)"
   ]
  },
  {
   "cell_type": "markdown",
   "id": "45c2012a-4c45-46cc-b18a-3255ff454cd5",
   "metadata": {},
   "source": [
    "# Alternative Models"
   ]
  },
  {
   "cell_type": "markdown",
   "id": "0659c9cd-8097-498d-bb50-7653379c7677",
   "metadata": {},
   "source": [
    "## logistic regression "
   ]
  },
  {
   "cell_type": "code",
   "execution_count": 78,
   "id": "0b7b1bfc-92f8-475b-af7f-78660ec3dd06",
   "metadata": {},
   "outputs": [],
   "source": [
    "Xt = X[['ICULOS', 'O2Sat', 'Resp', 'Temp', 'HR', 'FiO2', 'BUN', \n",
    "            'Platelets', 'patient', 'WBC', 'MAP', 'Creatinine', 'BaseExcess', \n",
    "            'Age', 'PaCO2', 'pH', 'SBP', 'Calcium', 'DBP', 'Magnesium', \n",
    "            'Potassium', 'Hct', 'Hgb', 'Glucose']]\n",
    "test = test[['ICULOS', 'O2Sat', 'Resp', 'Temp', 'HR', 'FiO2', 'BUN', \n",
    "            'Platelets', 'patient', 'WBC', 'MAP', 'Creatinine', 'BaseExcess', \n",
    "            'Age', 'PaCO2', 'pH', 'SBP', 'Calcium', 'DBP', 'Magnesium', \n",
    "            'Potassium', 'Hct', 'Hgb', 'Glucose']]"
   ]
  },
  {
   "cell_type": "code",
   "execution_count": 79,
   "id": "1248efa8-0eef-4d71-80c0-23147493e329",
   "metadata": {},
   "outputs": [],
   "source": [
    "# predicted using one package \n",
    "#model = LogisticRegression(max_iter=1000)\n",
    "#model.fit(Xt, y)\n",
    "\n",
    "#y_pred = model.predict(test)"
   ]
  },
  {
   "cell_type": "code",
   "execution_count": 80,
   "id": "15e5216f-e6f6-4056-be0b-853fda83dee9",
   "metadata": {},
   "outputs": [],
   "source": [
    "#print(y_pred)"
   ]
  },
  {
   "cell_type": "code",
   "execution_count": 99,
   "id": "4c1d410b-e563-4138-95a6-d3fd0037f807",
   "metadata": {},
   "outputs": [
    {
     "name": "stdout",
     "output_type": "stream",
     "text": [
      "Optimization terminated successfully.\n",
      "         Current function value: 0.470095\n",
      "         Iterations 6\n",
      "                           Logit Regression Results                           \n",
      "==============================================================================\n",
      "Dep. Variable:            SepsisLabel   No. Observations:              1389147\n",
      "Model:                          Logit   Df Residuals:                  1389122\n",
      "Method:                           MLE   Df Model:                           24\n",
      "Date:                Thu, 31 Oct 2024   Pseudo R-squ.:                  0.1298\n",
      "Time:                        20:36:44   Log-Likelihood:            -6.5303e+05\n",
      "converged:                       True   LL-Null:                   -7.5042e+05\n",
      "Covariance Type:            nonrobust   LLR p-value:                     0.000\n",
      "==============================================================================\n",
      "                 coef    std err          z      P>|z|      [0.025      0.975]\n",
      "------------------------------------------------------------------------------\n",
      "const         -1.4004      0.004   -314.534      0.000      -1.409      -1.392\n",
      "ICULOS         0.6098      0.002    259.255      0.000       0.605       0.614\n",
      "O2Sat          0.0293      0.002     13.158      0.000       0.025       0.034\n",
      "Resp           0.1490      0.002     68.220      0.000       0.145       0.153\n",
      "Temp           0.2463      0.002    103.496      0.000       0.242       0.251\n",
      "HR             0.2479      0.002    102.604      0.000       0.243       0.253\n",
      "FiO2          -0.0004      0.002     -0.208      0.835      -0.004       0.003\n",
      "BUN            0.2277      0.003     81.738      0.000       0.222       0.233\n",
      "Platelets      0.0052      0.002      2.288      0.022       0.001       0.010\n",
      "patient     2.838e-06   2.68e-07     10.590      0.000    2.31e-06    3.36e-06\n",
      "WBC            0.1304      0.002     56.323      0.000       0.126       0.135\n",
      "MAP           -0.1019      0.005    -18.768      0.000      -0.113      -0.091\n",
      "Creatinine     0.0312      0.003     11.420      0.000       0.026       0.037\n",
      "BaseExcess    -0.0823      0.005    -16.423      0.000      -0.092      -0.072\n",
      "Age           -0.0344      0.002    -14.084      0.000      -0.039      -0.030\n",
      "PaCO2          0.0769      0.005     16.610      0.000       0.068       0.086\n",
      "pH             0.0587      0.005     11.648      0.000       0.049       0.069\n",
      "SBP           -0.0466      0.004    -12.734      0.000      -0.054      -0.039\n",
      "Calcium       -0.1256      0.002    -57.349      0.000      -0.130      -0.121\n",
      "DBP           -0.1024      0.004    -23.676      0.000      -0.111      -0.094\n",
      "Magnesium     -0.0033      0.002     -1.446      0.148      -0.008       0.001\n",
      "Potassium     -0.0600      0.002    -25.259      0.000      -0.065      -0.055\n",
      "Hct            0.0299      0.006      4.617      0.000       0.017       0.043\n",
      "Hgb           -0.0590      0.007     -9.070      0.000      -0.072      -0.046\n",
      "Glucose        0.0687      0.002     32.039      0.000       0.065       0.073\n",
      "==============================================================================\n"
     ]
    }
   ],
   "source": [
    "# predicted using another package\n",
    "Xt = sm.add_constant(Xt)\n",
    "\n",
    "# Fit the logistic regression model\n",
    "model = sm.Logit(y, Xt)\n",
    "result = model.fit()\n",
    "\n",
    "# Print the summary\n",
    "print(result.summary())"
   ]
  },
  {
   "cell_type": "code",
   "execution_count": 127,
   "id": "4a9efecb-c947-4b44-bbf3-546813a45aa4",
   "metadata": {},
   "outputs": [
    {
     "name": "stdout",
     "output_type": "stream",
     "text": [
      "0         1\n",
      "1         1\n",
      "2         1\n",
      "3         1\n",
      "4         1\n",
      "         ..\n",
      "464349    1\n",
      "464350    1\n",
      "464351    1\n",
      "464352    1\n",
      "464353    1\n",
      "Length: 464354, dtype: int32\n"
     ]
    }
   ],
   "source": [
    "test_data = sm.add_constant(test)\n",
    "predictions = result.predict(test_data)\n",
    "\n",
    "# Convert probabilities to binary outcomes using a threshold (e.g., 0.5)\n",
    "threshold = 0.5\n",
    "predicted_classes = (predictions >= threshold).astype(int)\n",
    "\n",
    "print(predicted_classes)"
   ]
  },
  {
   "cell_type": "code",
   "execution_count": 128,
   "id": "192834f6-6041-4340-a27d-502cf2adadc1",
   "metadata": {},
   "outputs": [
    {
     "data": {
      "text/html": [
       "<div>\n",
       "<style scoped>\n",
       "    .dataframe tbody tr th:only-of-type {\n",
       "        vertical-align: middle;\n",
       "    }\n",
       "\n",
       "    .dataframe tbody tr th {\n",
       "        vertical-align: top;\n",
       "    }\n",
       "\n",
       "    .dataframe thead th {\n",
       "        text-align: right;\n",
       "    }\n",
       "</style>\n",
       "<table border=\"1\" class=\"dataframe\">\n",
       "  <thead>\n",
       "    <tr style=\"text-align: right;\">\n",
       "      <th></th>\n",
       "      <th>ID</th>\n",
       "      <th>SepsisLabel</th>\n",
       "    </tr>\n",
       "  </thead>\n",
       "  <tbody>\n",
       "    <tr>\n",
       "      <th>0</th>\n",
       "      <td>6560_1</td>\n",
       "      <td>1</td>\n",
       "    </tr>\n",
       "    <tr>\n",
       "      <th>1</th>\n",
       "      <td>6560_2</td>\n",
       "      <td>1</td>\n",
       "    </tr>\n",
       "    <tr>\n",
       "      <th>2</th>\n",
       "      <td>6560_3</td>\n",
       "      <td>1</td>\n",
       "    </tr>\n",
       "    <tr>\n",
       "      <th>3</th>\n",
       "      <td>6560_4</td>\n",
       "      <td>1</td>\n",
       "    </tr>\n",
       "    <tr>\n",
       "      <th>4</th>\n",
       "      <td>6560_5</td>\n",
       "      <td>1</td>\n",
       "    </tr>\n",
       "  </tbody>\n",
       "</table>\n",
       "</div>"
      ],
      "text/plain": [
       "       ID  SepsisLabel\n",
       "0  6560_1            1\n",
       "1  6560_2            1\n",
       "2  6560_3            1\n",
       "3  6560_4            1\n",
       "4  6560_5            1"
      ]
     },
     "execution_count": 128,
     "metadata": {},
     "output_type": "execute_result"
    }
   ],
   "source": [
    "submission_data['SepsisLabel'] = predicted_classes\n",
    "submission_data.head()"
   ]
  },
  {
   "cell_type": "code",
   "execution_count": 129,
   "id": "59e4acf8-300e-452f-87b3-c9331aa3ab4a",
   "metadata": {},
   "outputs": [
    {
     "name": "stdout",
     "output_type": "stream",
     "text": [
      "Class 0: 21287\n",
      "Class 1: 443067\n"
     ]
    }
   ],
   "source": [
    "class_counts = np.unique(predicted_classes, return_counts=True)\n",
    "for class_label, count in zip(class_counts[0], class_counts[1]):\n",
    "    print(f\"Class {class_label}: {count}\")"
   ]
  },
  {
   "cell_type": "code",
   "execution_count": 119,
   "id": "6f02cae6-c836-4047-b25e-cf70501c29c4",
   "metadata": {},
   "outputs": [],
   "source": [
    "#submission_data.to_csv(\"../Data/rawData/Logistic_submission.csv\", index = False)"
   ]
  },
  {
   "cell_type": "code",
   "execution_count": 114,
   "id": "bfd8e033-3e01-465c-a7fb-7f8e8d7f0732",
   "metadata": {},
   "outputs": [
    {
     "name": "stdout",
     "output_type": "stream",
     "text": [
      "Optimization terminated successfully.\n",
      "         Current function value: 0.470095\n",
      "         Iterations 6\n",
      "0          0\n",
      "1          0\n",
      "2          0\n",
      "3          0\n",
      "4          0\n",
      "          ..\n",
      "1389142    0\n",
      "1389143    0\n",
      "1389144    0\n",
      "1389145    1\n",
      "1389146    0\n",
      "Length: 1389147, dtype: int32\n"
     ]
    }
   ],
   "source": [
    "#Model to evaluate using train data \n",
    "Xt = sm.add_constant(Xt)\n",
    "\n",
    "# Fit the logistic regression model\n",
    "model = sm.Logit(y, Xt)\n",
    "result = model.fit()\n",
    "\n",
    "predictions = result.predict(Xt)\n",
    "\n",
    "# Convert probabilities to binary outcomes using a threshold (e.g., 0.5)\n",
    "threshold = 0.5\n",
    "predicted_classes = (predictions >= threshold).astype(int)\n",
    "\n",
    "# Create a DataFrame to see the predictions\n",
    "print(predicted_classes)\n"
   ]
  },
  {
   "cell_type": "code",
   "execution_count": 115,
   "id": "7fb57db5-ba67-463d-b412-7f457823b1c8",
   "metadata": {},
   "outputs": [
    {
     "name": "stdout",
     "output_type": "stream",
     "text": [
      "Classification Report:\n",
      "              precision    recall  f1-score   support\n",
      "\n",
      "         0.0       0.80      0.97      0.88   1068575\n",
      "         1.0       0.68      0.21      0.33    320572\n",
      "\n",
      "    accuracy                           0.80   1389147\n",
      "   macro avg       0.74      0.59      0.60   1389147\n",
      "weighted avg       0.77      0.80      0.75   1389147\n",
      "\n",
      "Confusion Matrix:\n",
      "[[1035611   32964]\n",
      " [ 251674   68898]]\n"
     ]
    }
   ],
   "source": [
    "print(\"Classification Report:\")\n",
    "print(classification_report(y, predicted_classes))\n",
    "\n",
    "print(\"Confusion Matrix:\")\n",
    "print(confusion_matrix(y, predicted_classes))"
   ]
  },
  {
   "cell_type": "code",
   "execution_count": 116,
   "id": "ce5cc5ca-dc64-4bb6-9c2d-f9da7c745c85",
   "metadata": {},
   "outputs": [
    {
     "name": "stdout",
     "output_type": "stream",
     "text": [
      "Class 0: 1287285\n",
      "Class 1: 101862\n"
     ]
    }
   ],
   "source": [
    "class_counts = np.unique(predicted_classes, return_counts=True)\n",
    "for class_label, count in zip(class_counts[0], class_counts[1]):\n",
    "    print(f\"Class {class_label}: {count}\")"
   ]
  },
  {
   "cell_type": "code",
   "execution_count": null,
   "id": "6498f70d-53bf-426a-92fe-31c35b8c241f",
   "metadata": {},
   "outputs": [],
   "source": []
  }
 ],
 "metadata": {
  "kernelspec": {
   "display_name": "Python 3 (ipykernel)",
   "language": "python",
   "name": "python3"
  },
  "language_info": {
   "codemirror_mode": {
    "name": "ipython",
    "version": 3
   },
   "file_extension": ".py",
   "mimetype": "text/x-python",
   "name": "python",
   "nbconvert_exporter": "python",
   "pygments_lexer": "ipython3",
   "version": "3.12.7"
  }
 },
 "nbformat": 4,
 "nbformat_minor": 5
}
