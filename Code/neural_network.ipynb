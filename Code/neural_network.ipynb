{
 "cells": [
  {
   "cell_type": "markdown",
   "metadata": {},
   "source": [
    "for the sake of faster uploads, environments should be zipped up!\n",
    "the original environment file was almost 0.9gb, so that would take a while to upload. Definitely can consider uploading the full thing once we're done working on a notebook."
   ]
  },
  {
   "cell_type": "code",
   "execution_count": null,
   "metadata": {},
   "outputs": [],
   "source": [
    "import dill\n",
    "dill.load_session('saved_notebook_env/neural_network.db')"
   ]
  },
  {
   "cell_type": "code",
   "execution_count": null,
   "metadata": {},
   "outputs": [],
   "source": [
    "from _Setup import *\n",
    "\n",
    "import tensorflow as tf\n",
    "from tensorflow.keras.models import Sequential\n",
    "from tensorflow.keras.layers import Dense\n",
    "from sklearn import metrics\n",
    "\n"
   ]
  },
  {
   "cell_type": "code",
   "execution_count": null,
   "metadata": {},
   "outputs": [],
   "source": [
    "train_data = pd.read_csv(missForestTrainFile)\n",
    "test_data = pd.read_csv(missForestTestFile)\n",
    "val_data = pd.read_csv(validationFile)\n"
   ]
  },
  {
   "cell_type": "code",
   "execution_count": null,
   "metadata": {},
   "outputs": [],
   "source": [
    "\n",
    "x_train = train_data.drop(columns = ['Unnamed: 0','SepsisLabel'])\n",
    "y_train = train_data['SepsisLabel']\n",
    "test_data = test_data.drop(columns = ['Unnamed: 0'])\n",
    "val = val_data.drop(columns = ['Unnamed: 0'])\n",
    "x_val = val.drop(columns = ['SepsisLabel'])\n",
    "y_val = val['SepsisLabel']"
   ]
  },
  {
   "cell_type": "code",
   "execution_count": null,
   "metadata": {},
   "outputs": [],
   "source": [
    "#model = tf.keras.models.load_model('nn_regularized.keras')\n",
    "#model.summary()"
   ]
  },
  {
   "cell_type": "markdown",
   "metadata": {},
   "source": [
    "# Old models."
   ]
  },
  {
   "cell_type": "code",
   "execution_count": null,
   "metadata": {},
   "outputs": [],
   "source": [
    "model = Sequential()\n",
    "model.add(Dense(35, activation = \"relu\"))\n",
    "model.add(Dense(20, activation = \"relu\", kernel_regularizer=tf.keras.regularizers.l1(0.01)))\n",
    "model.add(Dense(10, activation = \"relu\", kernel_regularizer=tf.keras.regularizers.l1(0.01)))\n",
    "model.add(Dense(4, activation = \"relu\"))\n",
    "model.add(Dense(1, activation = \"sigmoid\"))"
   ]
  },
  {
   "cell_type": "code",
   "execution_count": null,
   "metadata": {},
   "outputs": [],
   "source": [
    "model.compile(loss = \"binary_crossentropy\", optimizer=\"adam\", metrics = ['accuracy'])"
   ]
  },
  {
   "cell_type": "code",
   "execution_count": null,
   "metadata": {},
   "outputs": [],
   "source": [
    "model.fit(x_train, y_train, batch_size=64, epochs = 25)"
   ]
  },
  {
   "cell_type": "code",
   "execution_count": null,
   "metadata": {},
   "outputs": [],
   "source": [
    "#test_data = test_data.drop(columns = ['Unnamed: 0'])\n",
    "predictions = model.predict(test_data)\n",
    "train_predictions = model.predict(x_train)\n",
    "#binary_predictions = np.where(predictions > 0.5, 1, 0)\n"
   ]
  },
  {
   "cell_type": "code",
   "execution_count": null,
   "metadata": {},
   "outputs": [],
   "source": [
    "binary_predictions = np.where(predictions > 0.5, 1, 0)\n",
    "submission_file = pd.read_csv(rawSubmissionFile)\n",
    "submission_file['SepsisLabel'] = binary_predictions\n",
    "submission_file.to_csv('neural_submission_test.csv', index = False)\n",
    "model.save('nn_regularized.keras')"
   ]
  },
  {
   "cell_type": "code",
   "execution_count": null,
   "metadata": {},
   "outputs": [],
   "source": [
    "fpr, tpr, thresholds = metrics.roc_curve(y_train, train_predictions)\n",
    "roc_auc = metrics.auc(fpr, tpr)\n",
    "display = metrics.RocCurveDisplay(fpr=fpr, tpr=tpr, roc_auc=roc_auc,\n",
    "                                  estimator_name='example estimator')\n",
    "display.plot()"
   ]
  },
  {
   "cell_type": "markdown",
   "metadata": {},
   "source": [
    "# These are working models, in progress."
   ]
  },
  {
   "cell_type": "markdown",
   "metadata": {},
   "source": [
    "check model_outputs folder\n",
    "\n",
    "highf1-nn - had 0.1612 at 0.62 threshold. Auc of 0.79 was high as well. 6 variables removed. Maybe look into this one as next submission?  \n",
    "highf1-nn_1 also had 0.1703 at 0.69 threshold. AUC 0.77. Removed unit1 and hospadmtime as well. \n",
    "\n",
    "best_model_1 is the current best one on kaggle.    \n"
   ]
  },
  {
   "cell_type": "code",
   "execution_count": 166,
   "metadata": {},
   "outputs": [],
   "source": [
    "from sklearn.utils import class_weight"
   ]
  },
  {
   "cell_type": "code",
   "execution_count": 169,
   "metadata": {},
   "outputs": [],
   "source": [
    "class_weight = class_weight.compute_class_weight('balanced', classes = np.unique(y_train), y= y_train)"
   ]
  },
  {
   "cell_type": "code",
   "execution_count": 280,
   "metadata": {},
   "outputs": [],
   "source": [
    "model = Sequential()\n",
    "model.add(tf.keras.Input(batch_size = 128, shape = (26,)))\n",
    "\n",
    "model.add(Dense(30, activation = \"relu\"))\n",
    "model.add(tf.keras.layers.BatchNormalization())\n",
    "model.add(tf.keras.layers.Dropout(0.35))\n",
    "model.add(Dense(50, activation = \"relu\"))\n",
    "model.add(tf.keras.layers.BatchNormalization())\n",
    "model.add(tf.keras.layers.Dropout(0.35))\n",
    "model.add(Dense(40, activation = \"relu\"))\n",
    "model.add(tf.keras.layers.BatchNormalization())\n",
    "model.add(tf.keras.layers.Dropout(0.35))\n",
    "model.add(Dense(30, activation = \"relu\"))\n",
    "model.add(tf.keras.layers.BatchNormalization())\n",
    "model.add(tf.keras.layers.Dropout(0.35))\n",
    "model.add(Dense(20, activation = \"relu\"))\n",
    "model.add(tf.keras.layers.BatchNormalization())\n",
    "model.add(tf.keras.layers.Dropout(0.35))\n",
    "model.add(Dense(10, activation = \"relu\"))\n",
    "model.add(tf.keras.layers.BatchNormalization())\n",
    "model.add(tf.keras.layers.Dropout(0.35))\n",
    "model.add(Dense(1, activation = \"sigmoid\"))\n",
    "\n"
   ]
  },
  {
   "cell_type": "code",
   "execution_count": 279,
   "metadata": {},
   "outputs": [],
   "source": [
    "#x_train_removed = x_train.drop(columns = ['ICULOS','Hgb', 'SBP','DBP','Unit2', 'patient'])\n",
    "#x_val_removed = x_val.drop(columns = ['ICULOS','Hgb', 'SBP','DBP','Unit2','patient'])\n",
    "#test_removed = test_data.drop(columns = ['ICULOS','Hgb', 'SBP','DBP','Unit2','patient'])\n",
    "\n",
    "# trying out more variables removed. time not a factor and unit room doesn't matter?\n",
    "x_train_removed = x_train.drop(columns = ['ICULOS','Hgb', 'SBP','DBP','Unit2', 'patient', 'Unit1','HospAdmTime'])\n",
    "x_val_removed = x_val.drop(columns = ['ICULOS','Hgb', 'SBP','DBP','Unit2','patient', 'Unit1','HospAdmTime'])\n",
    "test_removed = test_data.drop(columns = ['ICULOS','Hgb', 'SBP','DBP','Unit2','patient', 'Unit1','HospAdmTime'])"
   ]
  },
  {
   "cell_type": "code",
   "execution_count": 265,
   "metadata": {},
   "outputs": [
    {
     "data": {
      "text/html": [
       "<pre style=\"white-space:pre;overflow-x:auto;line-height:normal;font-family:Menlo,'DejaVu Sans Mono',consolas,'Courier New',monospace\"><span style=\"font-weight: bold\">Model: \"sequential_22\"</span>\n",
       "</pre>\n"
      ],
      "text/plain": [
       "\u001b[1mModel: \"sequential_22\"\u001b[0m\n"
      ]
     },
     "metadata": {},
     "output_type": "display_data"
    },
    {
     "data": {
      "text/html": [
       "<pre style=\"white-space:pre;overflow-x:auto;line-height:normal;font-family:Menlo,'DejaVu Sans Mono',consolas,'Courier New',monospace\">┏━━━━━━━━━━━━━━━━━━━━━━━━━━━━━━━━━┳━━━━━━━━━━━━━━━━━━━━━━━━┳━━━━━━━━━━━━━━━┓\n",
       "┃<span style=\"font-weight: bold\"> Layer (type)                    </span>┃<span style=\"font-weight: bold\"> Output Shape           </span>┃<span style=\"font-weight: bold\">       Param # </span>┃\n",
       "┡━━━━━━━━━━━━━━━━━━━━━━━━━━━━━━━━━╇━━━━━━━━━━━━━━━━━━━━━━━━╇━━━━━━━━━━━━━━━┩\n",
       "│ dense_119 (<span style=\"color: #0087ff; text-decoration-color: #0087ff\">Dense</span>)               │ (<span style=\"color: #00af00; text-decoration-color: #00af00\">128</span>, <span style=\"color: #00af00; text-decoration-color: #00af00\">30</span>)              │           <span style=\"color: #00af00; text-decoration-color: #00af00\">870</span> │\n",
       "├─────────────────────────────────┼────────────────────────┼───────────────┤\n",
       "│ batch_normalization_97          │ (<span style=\"color: #00af00; text-decoration-color: #00af00\">128</span>, <span style=\"color: #00af00; text-decoration-color: #00af00\">30</span>)              │           <span style=\"color: #00af00; text-decoration-color: #00af00\">120</span> │\n",
       "│ (<span style=\"color: #0087ff; text-decoration-color: #0087ff\">BatchNormalization</span>)            │                        │               │\n",
       "├─────────────────────────────────┼────────────────────────┼───────────────┤\n",
       "│ dropout_97 (<span style=\"color: #0087ff; text-decoration-color: #0087ff\">Dropout</span>)            │ (<span style=\"color: #00af00; text-decoration-color: #00af00\">128</span>, <span style=\"color: #00af00; text-decoration-color: #00af00\">30</span>)              │             <span style=\"color: #00af00; text-decoration-color: #00af00\">0</span> │\n",
       "├─────────────────────────────────┼────────────────────────┼───────────────┤\n",
       "│ dense_120 (<span style=\"color: #0087ff; text-decoration-color: #0087ff\">Dense</span>)               │ (<span style=\"color: #00af00; text-decoration-color: #00af00\">128</span>, <span style=\"color: #00af00; text-decoration-color: #00af00\">50</span>)              │         <span style=\"color: #00af00; text-decoration-color: #00af00\">1,550</span> │\n",
       "├─────────────────────────────────┼────────────────────────┼───────────────┤\n",
       "│ batch_normalization_98          │ (<span style=\"color: #00af00; text-decoration-color: #00af00\">128</span>, <span style=\"color: #00af00; text-decoration-color: #00af00\">50</span>)              │           <span style=\"color: #00af00; text-decoration-color: #00af00\">200</span> │\n",
       "│ (<span style=\"color: #0087ff; text-decoration-color: #0087ff\">BatchNormalization</span>)            │                        │               │\n",
       "├─────────────────────────────────┼────────────────────────┼───────────────┤\n",
       "│ dropout_98 (<span style=\"color: #0087ff; text-decoration-color: #0087ff\">Dropout</span>)            │ (<span style=\"color: #00af00; text-decoration-color: #00af00\">128</span>, <span style=\"color: #00af00; text-decoration-color: #00af00\">50</span>)              │             <span style=\"color: #00af00; text-decoration-color: #00af00\">0</span> │\n",
       "├─────────────────────────────────┼────────────────────────┼───────────────┤\n",
       "│ dense_121 (<span style=\"color: #0087ff; text-decoration-color: #0087ff\">Dense</span>)               │ (<span style=\"color: #00af00; text-decoration-color: #00af00\">128</span>, <span style=\"color: #00af00; text-decoration-color: #00af00\">40</span>)              │         <span style=\"color: #00af00; text-decoration-color: #00af00\">2,040</span> │\n",
       "├─────────────────────────────────┼────────────────────────┼───────────────┤\n",
       "│ batch_normalization_99          │ (<span style=\"color: #00af00; text-decoration-color: #00af00\">128</span>, <span style=\"color: #00af00; text-decoration-color: #00af00\">40</span>)              │           <span style=\"color: #00af00; text-decoration-color: #00af00\">160</span> │\n",
       "│ (<span style=\"color: #0087ff; text-decoration-color: #0087ff\">BatchNormalization</span>)            │                        │               │\n",
       "├─────────────────────────────────┼────────────────────────┼───────────────┤\n",
       "│ dropout_99 (<span style=\"color: #0087ff; text-decoration-color: #0087ff\">Dropout</span>)            │ (<span style=\"color: #00af00; text-decoration-color: #00af00\">128</span>, <span style=\"color: #00af00; text-decoration-color: #00af00\">40</span>)              │             <span style=\"color: #00af00; text-decoration-color: #00af00\">0</span> │\n",
       "├─────────────────────────────────┼────────────────────────┼───────────────┤\n",
       "│ dense_122 (<span style=\"color: #0087ff; text-decoration-color: #0087ff\">Dense</span>)               │ (<span style=\"color: #00af00; text-decoration-color: #00af00\">128</span>, <span style=\"color: #00af00; text-decoration-color: #00af00\">30</span>)              │         <span style=\"color: #00af00; text-decoration-color: #00af00\">1,230</span> │\n",
       "├─────────────────────────────────┼────────────────────────┼───────────────┤\n",
       "│ batch_normalization_100         │ (<span style=\"color: #00af00; text-decoration-color: #00af00\">128</span>, <span style=\"color: #00af00; text-decoration-color: #00af00\">30</span>)              │           <span style=\"color: #00af00; text-decoration-color: #00af00\">120</span> │\n",
       "│ (<span style=\"color: #0087ff; text-decoration-color: #0087ff\">BatchNormalization</span>)            │                        │               │\n",
       "├─────────────────────────────────┼────────────────────────┼───────────────┤\n",
       "│ dropout_100 (<span style=\"color: #0087ff; text-decoration-color: #0087ff\">Dropout</span>)           │ (<span style=\"color: #00af00; text-decoration-color: #00af00\">128</span>, <span style=\"color: #00af00; text-decoration-color: #00af00\">30</span>)              │             <span style=\"color: #00af00; text-decoration-color: #00af00\">0</span> │\n",
       "├─────────────────────────────────┼────────────────────────┼───────────────┤\n",
       "│ dense_123 (<span style=\"color: #0087ff; text-decoration-color: #0087ff\">Dense</span>)               │ (<span style=\"color: #00af00; text-decoration-color: #00af00\">128</span>, <span style=\"color: #00af00; text-decoration-color: #00af00\">20</span>)              │           <span style=\"color: #00af00; text-decoration-color: #00af00\">620</span> │\n",
       "├─────────────────────────────────┼────────────────────────┼───────────────┤\n",
       "│ batch_normalization_101         │ (<span style=\"color: #00af00; text-decoration-color: #00af00\">128</span>, <span style=\"color: #00af00; text-decoration-color: #00af00\">20</span>)              │            <span style=\"color: #00af00; text-decoration-color: #00af00\">80</span> │\n",
       "│ (<span style=\"color: #0087ff; text-decoration-color: #0087ff\">BatchNormalization</span>)            │                        │               │\n",
       "├─────────────────────────────────┼────────────────────────┼───────────────┤\n",
       "│ dropout_101 (<span style=\"color: #0087ff; text-decoration-color: #0087ff\">Dropout</span>)           │ (<span style=\"color: #00af00; text-decoration-color: #00af00\">128</span>, <span style=\"color: #00af00; text-decoration-color: #00af00\">20</span>)              │             <span style=\"color: #00af00; text-decoration-color: #00af00\">0</span> │\n",
       "├─────────────────────────────────┼────────────────────────┼───────────────┤\n",
       "│ dense_124 (<span style=\"color: #0087ff; text-decoration-color: #0087ff\">Dense</span>)               │ (<span style=\"color: #00af00; text-decoration-color: #00af00\">128</span>, <span style=\"color: #00af00; text-decoration-color: #00af00\">10</span>)              │           <span style=\"color: #00af00; text-decoration-color: #00af00\">210</span> │\n",
       "├─────────────────────────────────┼────────────────────────┼───────────────┤\n",
       "│ batch_normalization_102         │ (<span style=\"color: #00af00; text-decoration-color: #00af00\">128</span>, <span style=\"color: #00af00; text-decoration-color: #00af00\">10</span>)              │            <span style=\"color: #00af00; text-decoration-color: #00af00\">40</span> │\n",
       "│ (<span style=\"color: #0087ff; text-decoration-color: #0087ff\">BatchNormalization</span>)            │                        │               │\n",
       "├─────────────────────────────────┼────────────────────────┼───────────────┤\n",
       "│ dropout_102 (<span style=\"color: #0087ff; text-decoration-color: #0087ff\">Dropout</span>)           │ (<span style=\"color: #00af00; text-decoration-color: #00af00\">128</span>, <span style=\"color: #00af00; text-decoration-color: #00af00\">10</span>)              │             <span style=\"color: #00af00; text-decoration-color: #00af00\">0</span> │\n",
       "├─────────────────────────────────┼────────────────────────┼───────────────┤\n",
       "│ dense_125 (<span style=\"color: #0087ff; text-decoration-color: #0087ff\">Dense</span>)               │ (<span style=\"color: #00af00; text-decoration-color: #00af00\">128</span>, <span style=\"color: #00af00; text-decoration-color: #00af00\">1</span>)               │            <span style=\"color: #00af00; text-decoration-color: #00af00\">11</span> │\n",
       "└─────────────────────────────────┴────────────────────────┴───────────────┘\n",
       "</pre>\n"
      ],
      "text/plain": [
       "┏━━━━━━━━━━━━━━━━━━━━━━━━━━━━━━━━━┳━━━━━━━━━━━━━━━━━━━━━━━━┳━━━━━━━━━━━━━━━┓\n",
       "┃\u001b[1m \u001b[0m\u001b[1mLayer (type)                   \u001b[0m\u001b[1m \u001b[0m┃\u001b[1m \u001b[0m\u001b[1mOutput Shape          \u001b[0m\u001b[1m \u001b[0m┃\u001b[1m \u001b[0m\u001b[1m      Param #\u001b[0m\u001b[1m \u001b[0m┃\n",
       "┡━━━━━━━━━━━━━━━━━━━━━━━━━━━━━━━━━╇━━━━━━━━━━━━━━━━━━━━━━━━╇━━━━━━━━━━━━━━━┩\n",
       "│ dense_119 (\u001b[38;5;33mDense\u001b[0m)               │ (\u001b[38;5;34m128\u001b[0m, \u001b[38;5;34m30\u001b[0m)              │           \u001b[38;5;34m870\u001b[0m │\n",
       "├─────────────────────────────────┼────────────────────────┼───────────────┤\n",
       "│ batch_normalization_97          │ (\u001b[38;5;34m128\u001b[0m, \u001b[38;5;34m30\u001b[0m)              │           \u001b[38;5;34m120\u001b[0m │\n",
       "│ (\u001b[38;5;33mBatchNormalization\u001b[0m)            │                        │               │\n",
       "├─────────────────────────────────┼────────────────────────┼───────────────┤\n",
       "│ dropout_97 (\u001b[38;5;33mDropout\u001b[0m)            │ (\u001b[38;5;34m128\u001b[0m, \u001b[38;5;34m30\u001b[0m)              │             \u001b[38;5;34m0\u001b[0m │\n",
       "├─────────────────────────────────┼────────────────────────┼───────────────┤\n",
       "│ dense_120 (\u001b[38;5;33mDense\u001b[0m)               │ (\u001b[38;5;34m128\u001b[0m, \u001b[38;5;34m50\u001b[0m)              │         \u001b[38;5;34m1,550\u001b[0m │\n",
       "├─────────────────────────────────┼────────────────────────┼───────────────┤\n",
       "│ batch_normalization_98          │ (\u001b[38;5;34m128\u001b[0m, \u001b[38;5;34m50\u001b[0m)              │           \u001b[38;5;34m200\u001b[0m │\n",
       "│ (\u001b[38;5;33mBatchNormalization\u001b[0m)            │                        │               │\n",
       "├─────────────────────────────────┼────────────────────────┼───────────────┤\n",
       "│ dropout_98 (\u001b[38;5;33mDropout\u001b[0m)            │ (\u001b[38;5;34m128\u001b[0m, \u001b[38;5;34m50\u001b[0m)              │             \u001b[38;5;34m0\u001b[0m │\n",
       "├─────────────────────────────────┼────────────────────────┼───────────────┤\n",
       "│ dense_121 (\u001b[38;5;33mDense\u001b[0m)               │ (\u001b[38;5;34m128\u001b[0m, \u001b[38;5;34m40\u001b[0m)              │         \u001b[38;5;34m2,040\u001b[0m │\n",
       "├─────────────────────────────────┼────────────────────────┼───────────────┤\n",
       "│ batch_normalization_99          │ (\u001b[38;5;34m128\u001b[0m, \u001b[38;5;34m40\u001b[0m)              │           \u001b[38;5;34m160\u001b[0m │\n",
       "│ (\u001b[38;5;33mBatchNormalization\u001b[0m)            │                        │               │\n",
       "├─────────────────────────────────┼────────────────────────┼───────────────┤\n",
       "│ dropout_99 (\u001b[38;5;33mDropout\u001b[0m)            │ (\u001b[38;5;34m128\u001b[0m, \u001b[38;5;34m40\u001b[0m)              │             \u001b[38;5;34m0\u001b[0m │\n",
       "├─────────────────────────────────┼────────────────────────┼───────────────┤\n",
       "│ dense_122 (\u001b[38;5;33mDense\u001b[0m)               │ (\u001b[38;5;34m128\u001b[0m, \u001b[38;5;34m30\u001b[0m)              │         \u001b[38;5;34m1,230\u001b[0m │\n",
       "├─────────────────────────────────┼────────────────────────┼───────────────┤\n",
       "│ batch_normalization_100         │ (\u001b[38;5;34m128\u001b[0m, \u001b[38;5;34m30\u001b[0m)              │           \u001b[38;5;34m120\u001b[0m │\n",
       "│ (\u001b[38;5;33mBatchNormalization\u001b[0m)            │                        │               │\n",
       "├─────────────────────────────────┼────────────────────────┼───────────────┤\n",
       "│ dropout_100 (\u001b[38;5;33mDropout\u001b[0m)           │ (\u001b[38;5;34m128\u001b[0m, \u001b[38;5;34m30\u001b[0m)              │             \u001b[38;5;34m0\u001b[0m │\n",
       "├─────────────────────────────────┼────────────────────────┼───────────────┤\n",
       "│ dense_123 (\u001b[38;5;33mDense\u001b[0m)               │ (\u001b[38;5;34m128\u001b[0m, \u001b[38;5;34m20\u001b[0m)              │           \u001b[38;5;34m620\u001b[0m │\n",
       "├─────────────────────────────────┼────────────────────────┼───────────────┤\n",
       "│ batch_normalization_101         │ (\u001b[38;5;34m128\u001b[0m, \u001b[38;5;34m20\u001b[0m)              │            \u001b[38;5;34m80\u001b[0m │\n",
       "│ (\u001b[38;5;33mBatchNormalization\u001b[0m)            │                        │               │\n",
       "├─────────────────────────────────┼────────────────────────┼───────────────┤\n",
       "│ dropout_101 (\u001b[38;5;33mDropout\u001b[0m)           │ (\u001b[38;5;34m128\u001b[0m, \u001b[38;5;34m20\u001b[0m)              │             \u001b[38;5;34m0\u001b[0m │\n",
       "├─────────────────────────────────┼────────────────────────┼───────────────┤\n",
       "│ dense_124 (\u001b[38;5;33mDense\u001b[0m)               │ (\u001b[38;5;34m128\u001b[0m, \u001b[38;5;34m10\u001b[0m)              │           \u001b[38;5;34m210\u001b[0m │\n",
       "├─────────────────────────────────┼────────────────────────┼───────────────┤\n",
       "│ batch_normalization_102         │ (\u001b[38;5;34m128\u001b[0m, \u001b[38;5;34m10\u001b[0m)              │            \u001b[38;5;34m40\u001b[0m │\n",
       "│ (\u001b[38;5;33mBatchNormalization\u001b[0m)            │                        │               │\n",
       "├─────────────────────────────────┼────────────────────────┼───────────────┤\n",
       "│ dropout_102 (\u001b[38;5;33mDropout\u001b[0m)           │ (\u001b[38;5;34m128\u001b[0m, \u001b[38;5;34m10\u001b[0m)              │             \u001b[38;5;34m0\u001b[0m │\n",
       "├─────────────────────────────────┼────────────────────────┼───────────────┤\n",
       "│ dense_125 (\u001b[38;5;33mDense\u001b[0m)               │ (\u001b[38;5;34m128\u001b[0m, \u001b[38;5;34m1\u001b[0m)               │            \u001b[38;5;34m11\u001b[0m │\n",
       "└─────────────────────────────────┴────────────────────────┴───────────────┘\n"
      ]
     },
     "metadata": {},
     "output_type": "display_data"
    },
    {
     "data": {
      "text/html": [
       "<pre style=\"white-space:pre;overflow-x:auto;line-height:normal;font-family:Menlo,'DejaVu Sans Mono',consolas,'Courier New',monospace\"><span style=\"font-weight: bold\"> Total params: </span><span style=\"color: #00af00; text-decoration-color: #00af00\">7,251</span> (28.32 KB)\n",
       "</pre>\n"
      ],
      "text/plain": [
       "\u001b[1m Total params: \u001b[0m\u001b[38;5;34m7,251\u001b[0m (28.32 KB)\n"
      ]
     },
     "metadata": {},
     "output_type": "display_data"
    },
    {
     "data": {
      "text/html": [
       "<pre style=\"white-space:pre;overflow-x:auto;line-height:normal;font-family:Menlo,'DejaVu Sans Mono',consolas,'Courier New',monospace\"><span style=\"font-weight: bold\"> Trainable params: </span><span style=\"color: #00af00; text-decoration-color: #00af00\">6,891</span> (26.92 KB)\n",
       "</pre>\n"
      ],
      "text/plain": [
       "\u001b[1m Trainable params: \u001b[0m\u001b[38;5;34m6,891\u001b[0m (26.92 KB)\n"
      ]
     },
     "metadata": {},
     "output_type": "display_data"
    },
    {
     "data": {
      "text/html": [
       "<pre style=\"white-space:pre;overflow-x:auto;line-height:normal;font-family:Menlo,'DejaVu Sans Mono',consolas,'Courier New',monospace\"><span style=\"font-weight: bold\"> Non-trainable params: </span><span style=\"color: #00af00; text-decoration-color: #00af00\">360</span> (1.41 KB)\n",
       "</pre>\n"
      ],
      "text/plain": [
       "\u001b[1m Non-trainable params: \u001b[0m\u001b[38;5;34m360\u001b[0m (1.41 KB)\n"
      ]
     },
     "metadata": {},
     "output_type": "display_data"
    }
   ],
   "source": [
    "model.summary()"
   ]
  },
  {
   "cell_type": "code",
   "execution_count": 281,
   "metadata": {},
   "outputs": [
    {
     "name": "stdout",
     "output_type": "stream",
     "text": [
      "Epoch 1/20\n",
      "\u001b[1m9344/9344\u001b[0m \u001b[32m━━━━━━━━━━━━━━━━━━━━\u001b[0m\u001b[37m\u001b[0m \u001b[1m65s\u001b[0m 6ms/step - BinaryAccuracy: 0.7291 - Recall: 0.2849 - f1_score: 0.4451 - loss: 0.5672 - val_BinaryAccuracy: 0.9121 - val_Recall: 0.4253 - val_f1_score: 0.0352 - val_loss: 206.8809\n",
      "Epoch 2/20\n",
      "\u001b[1m9344/9344\u001b[0m \u001b[32m━━━━━━━━━━━━━━━━━━━━\u001b[0m\u001b[37m\u001b[0m \u001b[1m57s\u001b[0m 6ms/step - BinaryAccuracy: 0.7811 - Recall: 0.4782 - f1_score: 0.4452 - loss: 0.4697 - val_BinaryAccuracy: 0.9024 - val_Recall: 0.4488 - val_f1_score: 0.0352 - val_loss: 129.0020\n",
      "Epoch 3/20\n",
      "\u001b[1m9344/9344\u001b[0m \u001b[32m━━━━━━━━━━━━━━━━━━━━\u001b[0m\u001b[37m\u001b[0m \u001b[1m94s\u001b[0m 10ms/step - BinaryAccuracy: 0.7867 - Recall: 0.5045 - f1_score: 0.4444 - loss: 0.4581 - val_BinaryAccuracy: 0.9211 - val_Recall: 0.3890 - val_f1_score: 0.0352 - val_loss: 44.3414\n",
      "Epoch 4/20\n",
      "\u001b[1m9344/9344\u001b[0m \u001b[32m━━━━━━━━━━━━━━━━━━━━\u001b[0m\u001b[37m\u001b[0m \u001b[1m54s\u001b[0m 6ms/step - BinaryAccuracy: 0.7887 - Recall: 0.5116 - f1_score: 0.4444 - loss: 0.4540 - val_BinaryAccuracy: 0.9091 - val_Recall: 0.4297 - val_f1_score: 0.0352 - val_loss: 14.6905\n",
      "Epoch 5/20\n",
      "\u001b[1m9344/9344\u001b[0m \u001b[32m━━━━━━━━━━━━━━━━━━━━\u001b[0m\u001b[37m\u001b[0m \u001b[1m51s\u001b[0m 5ms/step - BinaryAccuracy: 0.7915 - Recall: 0.5153 - f1_score: 0.4440 - loss: 0.4499 - val_BinaryAccuracy: 0.9108 - val_Recall: 0.4240 - val_f1_score: 0.0352 - val_loss: 4.1847\n",
      "Epoch 6/20\n",
      "\u001b[1m9344/9344\u001b[0m \u001b[32m━━━━━━━━━━━━━━━━━━━━\u001b[0m\u001b[37m\u001b[0m \u001b[1m51s\u001b[0m 5ms/step - BinaryAccuracy: 0.7916 - Recall: 0.5224 - f1_score: 0.4449 - loss: 0.4488 - val_BinaryAccuracy: 0.9113 - val_Recall: 0.4120 - val_f1_score: 0.0352 - val_loss: 0.6070\n",
      "Epoch 7/20\n",
      "\u001b[1m9344/9344\u001b[0m \u001b[32m━━━━━━━━━━━━━━━━━━━━\u001b[0m\u001b[37m\u001b[0m \u001b[1m51s\u001b[0m 5ms/step - BinaryAccuracy: 0.7927 - Recall: 0.5194 - f1_score: 0.4440 - loss: 0.4459 - val_BinaryAccuracy: 0.9074 - val_Recall: 0.4279 - val_f1_score: 0.0352 - val_loss: 0.2503\n",
      "Epoch 8/20\n",
      "\u001b[1m9344/9344\u001b[0m \u001b[32m━━━━━━━━━━━━━━━━━━━━\u001b[0m\u001b[37m\u001b[0m \u001b[1m49s\u001b[0m 5ms/step - BinaryAccuracy: 0.7927 - Recall: 0.5240 - f1_score: 0.4438 - loss: 0.4454 - val_BinaryAccuracy: 0.9093 - val_Recall: 0.4159 - val_f1_score: 0.0352 - val_loss: 0.2414\n",
      "Epoch 9/20\n",
      "\u001b[1m9344/9344\u001b[0m \u001b[32m━━━━━━━━━━━━━━━━━━━━\u001b[0m\u001b[37m\u001b[0m \u001b[1m49s\u001b[0m 5ms/step - BinaryAccuracy: 0.7924 - Recall: 0.5304 - f1_score: 0.4451 - loss: 0.4458 - val_BinaryAccuracy: 0.9176 - val_Recall: 0.3831 - val_f1_score: 0.0352 - val_loss: 0.2474\n",
      "Epoch 10/20\n",
      "\u001b[1m9344/9344\u001b[0m \u001b[32m━━━━━━━━━━━━━━━━━━━━\u001b[0m\u001b[37m\u001b[0m \u001b[1m50s\u001b[0m 5ms/step - BinaryAccuracy: 0.7932 - Recall: 0.5295 - f1_score: 0.4437 - loss: 0.4447 - val_BinaryAccuracy: 0.9129 - val_Recall: 0.3900 - val_f1_score: 0.0352 - val_loss: 0.2481\n",
      "Epoch 11/20\n",
      "\u001b[1m9344/9344\u001b[0m \u001b[32m━━━━━━━━━━━━━━━━━━━━\u001b[0m\u001b[37m\u001b[0m \u001b[1m51s\u001b[0m 5ms/step - BinaryAccuracy: 0.7938 - Recall: 0.5350 - f1_score: 0.4448 - loss: 0.4435 - val_BinaryAccuracy: 0.9147 - val_Recall: 0.3890 - val_f1_score: 0.0352 - val_loss: 0.2351\n",
      "Epoch 12/20\n",
      "\u001b[1m9344/9344\u001b[0m \u001b[32m━━━━━━━━━━━━━━━━━━━━\u001b[0m\u001b[37m\u001b[0m \u001b[1m49s\u001b[0m 5ms/step - BinaryAccuracy: 0.7942 - Recall: 0.5329 - f1_score: 0.4442 - loss: 0.4423 - val_BinaryAccuracy: 0.9156 - val_Recall: 0.3880 - val_f1_score: 0.0352 - val_loss: 0.5433\n",
      "Epoch 13/20\n",
      "\u001b[1m9344/9344\u001b[0m \u001b[32m━━━━━━━━━━━━━━━━━━━━\u001b[0m\u001b[37m\u001b[0m \u001b[1m48s\u001b[0m 5ms/step - BinaryAccuracy: 0.7938 - Recall: 0.5295 - f1_score: 0.4441 - loss: 0.4428 - val_BinaryAccuracy: 0.9051 - val_Recall: 0.4090 - val_f1_score: 0.0352 - val_loss: 22.5370\n",
      "Epoch 14/20\n",
      "\u001b[1m9344/9344\u001b[0m \u001b[32m━━━━━━━━━━━━━━━━━━━━\u001b[0m\u001b[37m\u001b[0m \u001b[1m50s\u001b[0m 5ms/step - BinaryAccuracy: 0.7940 - Recall: 0.5313 - f1_score: 0.4438 - loss: 0.4420 - val_BinaryAccuracy: 0.9088 - val_Recall: 0.4049 - val_f1_score: 0.0352 - val_loss: 54.3951\n",
      "Epoch 15/20\n",
      "\u001b[1m9344/9344\u001b[0m \u001b[32m━━━━━━━━━━━━━━━━━━━━\u001b[0m\u001b[37m\u001b[0m \u001b[1m50s\u001b[0m 5ms/step - BinaryAccuracy: 0.7938 - Recall: 0.5325 - f1_score: 0.4448 - loss: 0.4422 - val_BinaryAccuracy: 0.9130 - val_Recall: 0.3903 - val_f1_score: 0.0352 - val_loss: 9.5242\n",
      "Epoch 16/20\n",
      "\u001b[1m9344/9344\u001b[0m \u001b[32m━━━━━━━━━━━━━━━━━━━━\u001b[0m\u001b[37m\u001b[0m \u001b[1m48s\u001b[0m 5ms/step - BinaryAccuracy: 0.7949 - Recall: 0.5302 - f1_score: 0.4438 - loss: 0.4416 - val_BinaryAccuracy: 0.8845 - val_Recall: 0.4289 - val_f1_score: 0.0352 - val_loss: 11.5755\n"
     ]
    },
    {
     "data": {
      "text/plain": [
       "<keras.src.callbacks.history.History at 0x13642d4acf0>"
      ]
     },
     "execution_count": 281,
     "metadata": {},
     "output_type": "execute_result"
    }
   ],
   "source": [
    "callback = tf.keras.callbacks.EarlyStopping(monitor='val_loss',\n",
    "                                              patience=5,\n",
    "                                              restore_best_weights = True)\n",
    "model.compile(loss = \"binary_crossentropy\", optimizer=\"adam\", metrics = ['BinaryAccuracy', 'f1_score', 'Recall'])\n",
    "model.fit(x_train_removed, y_train, batch_size=128, epochs = 20, callbacks = [callback], validation_data = (x_val_removed, y_val), class_weight= {'0.0':class_weight[0],'1.0':class_weight[1]})"
   ]
  },
  {
   "cell_type": "code",
   "execution_count": 282,
   "metadata": {},
   "outputs": [
    {
     "name": "stdout",
     "output_type": "stream",
     "text": [
      "\u001b[1m6819/6819\u001b[0m \u001b[32m━━━━━━━━━━━━━━━━━━━━\u001b[0m\u001b[37m\u001b[0m \u001b[1m14s\u001b[0m 2ms/step\n"
     ]
    },
    {
     "data": {
      "text/plain": [
       "<sklearn.metrics._plot.roc_curve.RocCurveDisplay at 0x13642f81e80>"
      ]
     },
     "execution_count": 282,
     "metadata": {},
     "output_type": "execute_result"
    },
    {
     "data": {
      "image/png": "[encoded data removed]",
      "text/plain": [
       "<Figure size 640x480 with 1 Axes>"
      ]
     },
     "metadata": {},
     "output_type": "display_data"
    }
   ],
   "source": [
    "#predictions = model.predict(test_data_reduced)\n",
    "val_predictions = model.predict(x_val_removed)\n",
    "\n",
    "\n",
    "fpr, tpr, thresholds = metrics.roc_curve(y_val, val_predictions)\n",
    "roc_auc = metrics.auc(fpr, tpr)\n",
    "display = metrics.RocCurveDisplay(fpr=fpr, tpr=tpr, roc_auc=roc_auc,\n",
    "                                  estimator_name='example estimator')\n",
    "display.plot()\n"
   ]
  },
  {
   "cell_type": "code",
   "execution_count": 283,
   "metadata": {},
   "outputs": [],
   "source": [
    "thresh = np.arange(0,1,0.01)\n",
    "\n",
    "f1_list = []\n",
    "for t in thresh:\n",
    "    val_binary_predictions = np.where(val_predictions > t, 1, 0)\n",
    "    f1 = metrics.f1_score(y_val, val_binary_predictions )\n",
    "    f1_list.append(f1)\n",
    "    \n",
    "dict = {\"thresh\":thresh, \"f1\":f1_list}\n",
    "\n",
    "\n",
    "df_f1 = pd.DataFrame(dict)"
   ]
  },
  {
   "cell_type": "code",
   "execution_count": 284,
   "metadata": {},
   "outputs": [
    {
     "data": {
      "text/plain": [
       "<Axes: xlabel='thresh'>"
      ]
     },
     "execution_count": 284,
     "metadata": {},
     "output_type": "execute_result"
    },
    {
     "data": {
      "image/png": "[encoded data removed]",
      "text/plain": [
       "<Figure size 640x480 with 1 Axes>"
      ]
     },
     "metadata": {},
     "output_type": "display_data"
    }
   ],
   "source": [
    "df_f1.plot(x = 'thresh', y = 'f1')"
   ]
  },
  {
   "cell_type": "code",
   "execution_count": 285,
   "metadata": {},
   "outputs": [
    {
     "data": {
      "text/plain": [
       "thresh    0.690000\n",
       "f1        0.170309\n",
       "Name: 69, dtype: float64"
      ]
     },
     "execution_count": 285,
     "metadata": {},
     "output_type": "execute_result"
    }
   ],
   "source": [
    "max_index = df_f1['f1'].idxmax()\n",
    "\n",
    "df_f1.iloc[max_index]"
   ]
  },
  {
   "cell_type": "code",
   "execution_count": 292,
   "metadata": {},
   "outputs": [
    {
     "name": "stdout",
     "output_type": "stream",
     "text": [
      "\n",
      "Classification Report (Training):\n",
      "               precision    recall  f1-score   support\n",
      "\n",
      "         0.0       0.99      0.98      0.98    214293\n",
      "         1.0       0.14      0.21      0.17      3910\n",
      "\n",
      "    accuracy                           0.96    218203\n",
      "   macro avg       0.56      0.59      0.58    218203\n",
      "weighted avg       0.97      0.96      0.97    218203\n",
      "\n",
      "F1 Score (Training): 0.17030881296809275\n"
     ]
    }
   ],
   "source": [
    "val_binary_predictions = np.where(val_predictions >= 0.69, 1, 0)\n",
    "print(\"\\nClassification Report (Training):\\n\", metrics.classification_report(y_val, val_binary_predictions))\n",
    "f1 = metrics.f1_score(y_val, val_binary_predictions )\n",
    "print(\"F1 Score (Training):\", f1)"
   ]
  },
  {
   "cell_type": "code",
   "execution_count": 293,
   "metadata": {},
   "outputs": [
    {
     "data": {
      "text/plain": [
       "<sklearn.metrics._plot.confusion_matrix.ConfusionMatrixDisplay at 0x13640454a40>"
      ]
     },
     "execution_count": 293,
     "metadata": {},
     "output_type": "execute_result"
    },
    {
     "data": {
      "image/png": "[encoded data removed]",
      "text/plain": [
       "<Figure size 640x480 with 2 Axes>"
      ]
     },
     "metadata": {},
     "output_type": "display_data"
    }
   ],
   "source": [
    "cm = metrics.confusion_matrix(y_val, val_binary_predictions)\n",
    "disp = metrics.ConfusionMatrixDisplay(cm)\n",
    "disp.plot()\n"
   ]
  },
  {
   "cell_type": "code",
   "execution_count": 294,
   "metadata": {},
   "outputs": [],
   "source": [
    "model.save('model_outputs/highf1-nn_1.keras')"
   ]
  },
  {
   "cell_type": "code",
   "execution_count": 255,
   "metadata": {},
   "outputs": [
    {
     "data": {
      "text/html": [
       "<div>\n",
       "<style scoped>\n",
       "    .dataframe tbody tr th:only-of-type {\n",
       "        vertical-align: middle;\n",
       "    }\n",
       "\n",
       "    .dataframe tbody tr th {\n",
       "        vertical-align: top;\n",
       "    }\n",
       "\n",
       "    .dataframe thead th {\n",
       "        text-align: right;\n",
       "    }\n",
       "</style>\n",
       "<table border=\"1\" class=\"dataframe\">\n",
       "  <thead>\n",
       "    <tr style=\"text-align: right;\">\n",
       "      <th></th>\n",
       "      <th>time</th>\n",
       "      <th>HR</th>\n",
       "      <th>O2Sat</th>\n",
       "      <th>Temp</th>\n",
       "      <th>MAP</th>\n",
       "      <th>Resp</th>\n",
       "      <th>BaseExcess</th>\n",
       "      <th>FiO2</th>\n",
       "      <th>pH</th>\n",
       "      <th>PaCO2</th>\n",
       "      <th>...</th>\n",
       "      <th>Platelets</th>\n",
       "      <th>Age</th>\n",
       "      <th>HospAdmTime</th>\n",
       "      <th>Shock</th>\n",
       "      <th>Gender</th>\n",
       "      <th>Unit1</th>\n",
       "      <th>Fever</th>\n",
       "      <th>TCP</th>\n",
       "      <th>TCA</th>\n",
       "      <th>LEU</th>\n",
       "    </tr>\n",
       "  </thead>\n",
       "  <tbody>\n",
       "    <tr>\n",
       "      <th>0</th>\n",
       "      <td>-0.799514</td>\n",
       "      <td>0.217097</td>\n",
       "      <td>-1.277278</td>\n",
       "      <td>-0.048235</td>\n",
       "      <td>0.186847</td>\n",
       "      <td>-0.196406</td>\n",
       "      <td>0.046509</td>\n",
       "      <td>0.002929</td>\n",
       "      <td>-0.031332</td>\n",
       "      <td>-0.033990</td>\n",
       "      <td>...</td>\n",
       "      <td>0.092937</td>\n",
       "      <td>0.311809</td>\n",
       "      <td>0.116787</td>\n",
       "      <td>0.099802</td>\n",
       "      <td>1.0</td>\n",
       "      <td>0</td>\n",
       "      <td>0</td>\n",
       "      <td>0</td>\n",
       "      <td>0</td>\n",
       "      <td>0</td>\n",
       "    </tr>\n",
       "    <tr>\n",
       "      <th>1</th>\n",
       "      <td>-0.775449</td>\n",
       "      <td>0.217097</td>\n",
       "      <td>-1.277278</td>\n",
       "      <td>-0.048235</td>\n",
       "      <td>0.186847</td>\n",
       "      <td>-0.196406</td>\n",
       "      <td>0.046509</td>\n",
       "      <td>0.002929</td>\n",
       "      <td>-0.031332</td>\n",
       "      <td>-0.033990</td>\n",
       "      <td>...</td>\n",
       "      <td>0.092937</td>\n",
       "      <td>0.311809</td>\n",
       "      <td>0.116787</td>\n",
       "      <td>0.099802</td>\n",
       "      <td>1.0</td>\n",
       "      <td>0</td>\n",
       "      <td>0</td>\n",
       "      <td>0</td>\n",
       "      <td>0</td>\n",
       "      <td>0</td>\n",
       "    </tr>\n",
       "    <tr>\n",
       "      <th>2</th>\n",
       "      <td>-0.751383</td>\n",
       "      <td>0.494756</td>\n",
       "      <td>-0.966415</td>\n",
       "      <td>-0.048235</td>\n",
       "      <td>-0.213537</td>\n",
       "      <td>-0.288120</td>\n",
       "      <td>0.046509</td>\n",
       "      <td>0.002929</td>\n",
       "      <td>-0.031332</td>\n",
       "      <td>-0.033990</td>\n",
       "      <td>...</td>\n",
       "      <td>0.092937</td>\n",
       "      <td>0.311809</td>\n",
       "      <td>0.116787</td>\n",
       "      <td>0.676121</td>\n",
       "      <td>1.0</td>\n",
       "      <td>0</td>\n",
       "      <td>0</td>\n",
       "      <td>0</td>\n",
       "      <td>1</td>\n",
       "      <td>0</td>\n",
       "    </tr>\n",
       "    <tr>\n",
       "      <th>3</th>\n",
       "      <td>-0.727317</td>\n",
       "      <td>0.550288</td>\n",
       "      <td>-0.344688</td>\n",
       "      <td>-0.048235</td>\n",
       "      <td>0.063652</td>\n",
       "      <td>-0.471547</td>\n",
       "      <td>0.046509</td>\n",
       "      <td>0.002558</td>\n",
       "      <td>-0.031332</td>\n",
       "      <td>-0.033990</td>\n",
       "      <td>...</td>\n",
       "      <td>0.092937</td>\n",
       "      <td>0.311809</td>\n",
       "      <td>0.116787</td>\n",
       "      <td>0.423414</td>\n",
       "      <td>1.0</td>\n",
       "      <td>0</td>\n",
       "      <td>0</td>\n",
       "      <td>0</td>\n",
       "      <td>1</td>\n",
       "      <td>0</td>\n",
       "    </tr>\n",
       "    <tr>\n",
       "      <th>4</th>\n",
       "      <td>-0.703251</td>\n",
       "      <td>0.605819</td>\n",
       "      <td>-0.655551</td>\n",
       "      <td>-0.048235</td>\n",
       "      <td>-0.059543</td>\n",
       "      <td>-0.746688</td>\n",
       "      <td>0.046509</td>\n",
       "      <td>-0.002144</td>\n",
       "      <td>-0.029907</td>\n",
       "      <td>-0.037327</td>\n",
       "      <td>...</td>\n",
       "      <td>0.092937</td>\n",
       "      <td>0.311809</td>\n",
       "      <td>0.116787</td>\n",
       "      <td>0.430395</td>\n",
       "      <td>1.0</td>\n",
       "      <td>0</td>\n",
       "      <td>0</td>\n",
       "      <td>0</td>\n",
       "      <td>1</td>\n",
       "      <td>0</td>\n",
       "    </tr>\n",
       "    <tr>\n",
       "      <th>...</th>\n",
       "      <td>...</td>\n",
       "      <td>...</td>\n",
       "      <td>...</td>\n",
       "      <td>...</td>\n",
       "      <td>...</td>\n",
       "      <td>...</td>\n",
       "      <td>...</td>\n",
       "      <td>...</td>\n",
       "      <td>...</td>\n",
       "      <td>...</td>\n",
       "      <td>...</td>\n",
       "      <td>...</td>\n",
       "      <td>...</td>\n",
       "      <td>...</td>\n",
       "      <td>...</td>\n",
       "      <td>...</td>\n",
       "      <td>...</td>\n",
       "      <td>...</td>\n",
       "      <td>...</td>\n",
       "      <td>...</td>\n",
       "      <td>...</td>\n",
       "    </tr>\n",
       "    <tr>\n",
       "      <th>218198</th>\n",
       "      <td>0.066850</td>\n",
       "      <td>0.106034</td>\n",
       "      <td>0.277039</td>\n",
       "      <td>-0.048235</td>\n",
       "      <td>0.002055</td>\n",
       "      <td>-1.847252</td>\n",
       "      <td>0.041224</td>\n",
       "      <td>-0.003650</td>\n",
       "      <td>0.009195</td>\n",
       "      <td>-0.033721</td>\n",
       "      <td>...</td>\n",
       "      <td>-0.866382</td>\n",
       "      <td>0.494168</td>\n",
       "      <td>0.276896</td>\n",
       "      <td>-0.031861</td>\n",
       "      <td>1.0</td>\n",
       "      <td>0</td>\n",
       "      <td>1</td>\n",
       "      <td>1</td>\n",
       "      <td>1</td>\n",
       "      <td>0</td>\n",
       "    </tr>\n",
       "    <tr>\n",
       "      <th>218199</th>\n",
       "      <td>0.090916</td>\n",
       "      <td>0.439224</td>\n",
       "      <td>0.277039</td>\n",
       "      <td>-0.048235</td>\n",
       "      <td>0.125250</td>\n",
       "      <td>-1.847252</td>\n",
       "      <td>0.041224</td>\n",
       "      <td>-0.003650</td>\n",
       "      <td>0.009195</td>\n",
       "      <td>-0.033721</td>\n",
       "      <td>...</td>\n",
       "      <td>-0.866382</td>\n",
       "      <td>0.494168</td>\n",
       "      <td>0.276896</td>\n",
       "      <td>-0.049091</td>\n",
       "      <td>1.0</td>\n",
       "      <td>0</td>\n",
       "      <td>1</td>\n",
       "      <td>1</td>\n",
       "      <td>1</td>\n",
       "      <td>0</td>\n",
       "    </tr>\n",
       "    <tr>\n",
       "      <th>218200</th>\n",
       "      <td>0.114981</td>\n",
       "      <td>0.217097</td>\n",
       "      <td>-1.277278</td>\n",
       "      <td>-0.678726</td>\n",
       "      <td>0.186847</td>\n",
       "      <td>-1.113542</td>\n",
       "      <td>0.039242</td>\n",
       "      <td>-0.003650</td>\n",
       "      <td>0.013450</td>\n",
       "      <td>-0.031176</td>\n",
       "      <td>...</td>\n",
       "      <td>-0.866382</td>\n",
       "      <td>0.494168</td>\n",
       "      <td>0.276896</td>\n",
       "      <td>0.313027</td>\n",
       "      <td>1.0</td>\n",
       "      <td>0</td>\n",
       "      <td>1</td>\n",
       "      <td>1</td>\n",
       "      <td>1</td>\n",
       "      <td>0</td>\n",
       "    </tr>\n",
       "    <tr>\n",
       "      <th>218201</th>\n",
       "      <td>0.139047</td>\n",
       "      <td>-0.005029</td>\n",
       "      <td>0.277039</td>\n",
       "      <td>-0.678726</td>\n",
       "      <td>-0.429128</td>\n",
       "      <td>-2.214106</td>\n",
       "      <td>0.034908</td>\n",
       "      <td>-0.002274</td>\n",
       "      <td>0.012310</td>\n",
       "      <td>0.056433</td>\n",
       "      <td>...</td>\n",
       "      <td>-0.866382</td>\n",
       "      <td>0.494168</td>\n",
       "      <td>0.276896</td>\n",
       "      <td>0.060238</td>\n",
       "      <td>1.0</td>\n",
       "      <td>0</td>\n",
       "      <td>1</td>\n",
       "      <td>1</td>\n",
       "      <td>1</td>\n",
       "      <td>0</td>\n",
       "    </tr>\n",
       "    <tr>\n",
       "      <th>218202</th>\n",
       "      <td>0.163113</td>\n",
       "      <td>0.106034</td>\n",
       "      <td>0.587902</td>\n",
       "      <td>-0.678726</td>\n",
       "      <td>0.741226</td>\n",
       "      <td>-1.296970</td>\n",
       "      <td>0.041675</td>\n",
       "      <td>-0.003650</td>\n",
       "      <td>0.007645</td>\n",
       "      <td>-0.033241</td>\n",
       "      <td>...</td>\n",
       "      <td>-0.866382</td>\n",
       "      <td>0.494168</td>\n",
       "      <td>0.276896</td>\n",
       "      <td>-0.457483</td>\n",
       "      <td>1.0</td>\n",
       "      <td>0</td>\n",
       "      <td>1</td>\n",
       "      <td>1</td>\n",
       "      <td>1</td>\n",
       "      <td>0</td>\n",
       "    </tr>\n",
       "  </tbody>\n",
       "</table>\n",
       "<p>218203 rows × 28 columns</p>\n",
       "</div>"
      ],
      "text/plain": [
       "            time        HR     O2Sat      Temp       MAP      Resp  \\\n",
       "0      -0.799514  0.217097 -1.277278 -0.048235  0.186847 -0.196406   \n",
       "1      -0.775449  0.217097 -1.277278 -0.048235  0.186847 -0.196406   \n",
       "2      -0.751383  0.494756 -0.966415 -0.048235 -0.213537 -0.288120   \n",
       "3      -0.727317  0.550288 -0.344688 -0.048235  0.063652 -0.471547   \n",
       "4      -0.703251  0.605819 -0.655551 -0.048235 -0.059543 -0.746688   \n",
       "...          ...       ...       ...       ...       ...       ...   \n",
       "218198  0.066850  0.106034  0.277039 -0.048235  0.002055 -1.847252   \n",
       "218199  0.090916  0.439224  0.277039 -0.048235  0.125250 -1.847252   \n",
       "218200  0.114981  0.217097 -1.277278 -0.678726  0.186847 -1.113542   \n",
       "218201  0.139047 -0.005029  0.277039 -0.678726 -0.429128 -2.214106   \n",
       "218202  0.163113  0.106034  0.587902 -0.678726  0.741226 -1.296970   \n",
       "\n",
       "        BaseExcess      FiO2        pH     PaCO2  ...  Platelets       Age  \\\n",
       "0         0.046509  0.002929 -0.031332 -0.033990  ...   0.092937  0.311809   \n",
       "1         0.046509  0.002929 -0.031332 -0.033990  ...   0.092937  0.311809   \n",
       "2         0.046509  0.002929 -0.031332 -0.033990  ...   0.092937  0.311809   \n",
       "3         0.046509  0.002558 -0.031332 -0.033990  ...   0.092937  0.311809   \n",
       "4         0.046509 -0.002144 -0.029907 -0.037327  ...   0.092937  0.311809   \n",
       "...            ...       ...       ...       ...  ...        ...       ...   \n",
       "218198    0.041224 -0.003650  0.009195 -0.033721  ...  -0.866382  0.494168   \n",
       "218199    0.041224 -0.003650  0.009195 -0.033721  ...  -0.866382  0.494168   \n",
       "218200    0.039242 -0.003650  0.013450 -0.031176  ...  -0.866382  0.494168   \n",
       "218201    0.034908 -0.002274  0.012310  0.056433  ...  -0.866382  0.494168   \n",
       "218202    0.041675 -0.003650  0.007645 -0.033241  ...  -0.866382  0.494168   \n",
       "\n",
       "        HospAdmTime     Shock  Gender  Unit1  Fever  TCP  TCA  LEU  \n",
       "0          0.116787  0.099802     1.0      0      0    0    0    0  \n",
       "1          0.116787  0.099802     1.0      0      0    0    0    0  \n",
       "2          0.116787  0.676121     1.0      0      0    0    1    0  \n",
       "3          0.116787  0.423414     1.0      0      0    0    1    0  \n",
       "4          0.116787  0.430395     1.0      0      0    0    1    0  \n",
       "...             ...       ...     ...    ...    ...  ...  ...  ...  \n",
       "218198     0.276896 -0.031861     1.0      0      1    1    1    0  \n",
       "218199     0.276896 -0.049091     1.0      0      1    1    1    0  \n",
       "218200     0.276896  0.313027     1.0      0      1    1    1    0  \n",
       "218201     0.276896  0.060238     1.0      0      1    1    1    0  \n",
       "218202     0.276896 -0.457483     1.0      0      1    1    1    0  \n",
       "\n",
       "[218203 rows x 28 columns]"
      ]
     },
     "execution_count": 255,
     "metadata": {},
     "output_type": "execute_result"
    }
   ],
   "source": [
    "x_val_removed"
   ]
  },
  {
   "cell_type": "code",
   "execution_count": 226,
   "metadata": {},
   "outputs": [],
   "source": [
    "complete_trainx = pd.concat([x_train_removed, x_val_removed])\n",
    "complete_trainy = pd.concat([y_train, y_val])"
   ]
  },
  {
   "cell_type": "code",
   "execution_count": null,
   "metadata": {},
   "outputs": [
    {
     "ename": "TypeError",
     "evalue": "cannot convert the series to <class 'int'>",
     "output_type": "error",
     "traceback": [
      "\u001b[1;31m---------------------------------------------------------------------------\u001b[0m",
      "\u001b[1;31mTypeError\u001b[0m                                 Traceback (most recent call last)",
      "Cell \u001b[1;32mIn[227], line 1\u001b[0m\n\u001b[1;32m----> 1\u001b[0m \u001b[43mmodel\u001b[49m\u001b[38;5;241;43m.\u001b[39;49m\u001b[43mfit\u001b[49m\u001b[43m(\u001b[49m\u001b[43mcomplete_trainx\u001b[49m\u001b[43m,\u001b[49m\u001b[43m \u001b[49m\u001b[43mcomplete_trainy\u001b[49m\u001b[43m,\u001b[49m\u001b[43m \u001b[49m\u001b[43mbatch_size\u001b[49m\u001b[38;5;241;43m=\u001b[39;49m\u001b[38;5;241;43m1028\u001b[39;49m\u001b[43m,\u001b[49m\u001b[43m \u001b[49m\u001b[43mepochs\u001b[49m\u001b[43m \u001b[49m\u001b[38;5;241;43m=\u001b[39;49m\u001b[43m \u001b[49m\u001b[38;5;241;43m200\u001b[39;49m\u001b[43m,\u001b[49m\u001b[43m \u001b[49m\u001b[43mcallbacks\u001b[49m\u001b[43m \u001b[49m\u001b[38;5;241;43m=\u001b[39;49m\u001b[43m \u001b[49m\u001b[43m[\u001b[49m\u001b[43mcallback\u001b[49m\u001b[43m]\u001b[49m\u001b[43m,\u001b[49m\u001b[43m \u001b[49m\u001b[43mclass_weight\u001b[49m\u001b[38;5;241;43m=\u001b[39;49m\u001b[43m \u001b[49m\u001b[43m{\u001b[49m\u001b[38;5;124;43m'\u001b[39;49m\u001b[38;5;124;43m0.0\u001b[39;49m\u001b[38;5;124;43m'\u001b[39;49m\u001b[43m:\u001b[49m\u001b[38;5;241;43m69999953\u001b[39;49m\u001b[43m,\u001b[49m\u001b[38;5;124;43m'\u001b[39;49m\u001b[38;5;124;43m1.0\u001b[39;49m\u001b[38;5;124;43m'\u001b[39;49m\u001b[43m:\u001b[49m\u001b[38;5;241;43m1.7500029264409795\u001b[39;49m\u001b[43m}\u001b[49m\u001b[43m)\u001b[49m\n",
      "File \u001b[1;32mc:\\App\\Anaconda3\\envs\\CaseComp\\Lib\\site-packages\\keras\\src\\utils\\traceback_utils.py:122\u001b[0m, in \u001b[0;36mfilter_traceback.<locals>.error_handler\u001b[1;34m(*args, **kwargs)\u001b[0m\n\u001b[0;32m    119\u001b[0m     filtered_tb \u001b[38;5;241m=\u001b[39m _process_traceback_frames(e\u001b[38;5;241m.\u001b[39m__traceback__)\n\u001b[0;32m    120\u001b[0m     \u001b[38;5;66;03m# To get the full stack trace, call:\u001b[39;00m\n\u001b[0;32m    121\u001b[0m     \u001b[38;5;66;03m# `keras.config.disable_traceback_filtering()`\u001b[39;00m\n\u001b[1;32m--> 122\u001b[0m     \u001b[38;5;28;01mraise\u001b[39;00m e\u001b[38;5;241m.\u001b[39mwith_traceback(filtered_tb) \u001b[38;5;28;01mfrom\u001b[39;00m \u001b[38;5;28;01mNone\u001b[39;00m\n\u001b[0;32m    123\u001b[0m \u001b[38;5;28;01mfinally\u001b[39;00m:\n\u001b[0;32m    124\u001b[0m     \u001b[38;5;28;01mdel\u001b[39;00m filtered_tb\n",
      "File \u001b[1;32mc:\\App\\Anaconda3\\envs\\CaseComp\\Lib\\site-packages\\pandas\\core\\series.py:248\u001b[0m, in \u001b[0;36m_coerce_method.<locals>.wrapper\u001b[1;34m(self)\u001b[0m\n\u001b[0;32m    240\u001b[0m     warnings\u001b[38;5;241m.\u001b[39mwarn(\n\u001b[0;32m    241\u001b[0m         \u001b[38;5;124mf\u001b[39m\u001b[38;5;124m\"\u001b[39m\u001b[38;5;124mCalling \u001b[39m\u001b[38;5;132;01m{\u001b[39;00mconverter\u001b[38;5;241m.\u001b[39m\u001b[38;5;18m__name__\u001b[39m\u001b[38;5;132;01m}\u001b[39;00m\u001b[38;5;124m on a single element Series is \u001b[39m\u001b[38;5;124m\"\u001b[39m\n\u001b[0;32m    242\u001b[0m         \u001b[38;5;124m\"\u001b[39m\u001b[38;5;124mdeprecated and will raise a TypeError in the future. \u001b[39m\u001b[38;5;124m\"\u001b[39m\n\u001b[1;32m   (...)\u001b[0m\n\u001b[0;32m    245\u001b[0m         stacklevel\u001b[38;5;241m=\u001b[39mfind_stack_level(),\n\u001b[0;32m    246\u001b[0m     )\n\u001b[0;32m    247\u001b[0m     \u001b[38;5;28;01mreturn\u001b[39;00m converter(\u001b[38;5;28mself\u001b[39m\u001b[38;5;241m.\u001b[39miloc[\u001b[38;5;241m0\u001b[39m])\n\u001b[1;32m--> 248\u001b[0m \u001b[38;5;28;01mraise\u001b[39;00m \u001b[38;5;167;01mTypeError\u001b[39;00m(\u001b[38;5;124mf\u001b[39m\u001b[38;5;124m\"\u001b[39m\u001b[38;5;124mcannot convert the series to \u001b[39m\u001b[38;5;132;01m{\u001b[39;00mconverter\u001b[38;5;132;01m}\u001b[39;00m\u001b[38;5;124m\"\u001b[39m)\n",
      "\u001b[1;31mTypeError\u001b[0m: cannot convert the series to <class 'int'>"
     ]
    }
   ],
   "source": [
    "model.fit(complete_trainx, complete_trainy, batch_size=256, epochs = 200, callbacks = [callback], class_weight= {'0.0':69999953,'1.0':1.7500029264409795})"
   ]
  },
  {
   "cell_type": "code",
   "execution_count": 129,
   "metadata": {},
   "outputs": [
    {
     "name": "stdout",
     "output_type": "stream",
     "text": [
      "\u001b[1m6819/6819\u001b[0m \u001b[32m━━━━━━━━━━━━━━━━━━━━\u001b[0m\u001b[37m\u001b[0m \u001b[1m15s\u001b[0m 2ms/step\n"
     ]
    },
    {
     "data": {
      "text/plain": [
       "<sklearn.metrics._plot.roc_curve.RocCurveDisplay at 0x135af3ba510>"
      ]
     },
     "execution_count": 129,
     "metadata": {},
     "output_type": "execute_result"
    },
    {
     "data": {
      "image/png": "[encoded data removed]",
      "text/plain": [
       "<Figure size 640x480 with 1 Axes>"
      ]
     },
     "metadata": {},
     "output_type": "display_data"
    }
   ],
   "source": [
    "val_predictions = model.predict(x_val_removed)\n",
    "\n",
    "\n",
    "fpr, tpr, thresholds = metrics.roc_curve(y_val, val_predictions)\n",
    "roc_auc = metrics.auc(fpr, tpr)\n",
    "display = metrics.RocCurveDisplay(fpr=fpr, tpr=tpr, roc_auc=roc_auc,\n",
    "                                  estimator_name='example estimator')\n",
    "display.plot()"
   ]
  },
  {
   "cell_type": "code",
   "execution_count": 130,
   "metadata": {},
   "outputs": [],
   "source": [
    "thresh = np.arange(0,1,0.01)\n",
    "\n",
    "f1_list = []\n",
    "for t in thresh:\n",
    "    val_binary_predictions = np.where(val_predictions > t, 1, 0)\n",
    "    f1 = metrics.f1_score(y_val, val_binary_predictions )\n",
    "    f1_list.append(f1)\n",
    "    \n",
    "dict = {\"thresh\":thresh, \"f1\":f1_list}\n",
    "\n",
    "\n",
    "df_f1 = pd.DataFrame(dict)"
   ]
  },
  {
   "cell_type": "code",
   "execution_count": 131,
   "metadata": {},
   "outputs": [
    {
     "data": {
      "text/plain": [
       "<Axes: xlabel='thresh'>"
      ]
     },
     "execution_count": 131,
     "metadata": {},
     "output_type": "execute_result"
    },
    {
     "data": {
      "image/png": "[encoded data removed]",
      "text/plain": [
       "<Figure size 640x480 with 1 Axes>"
      ]
     },
     "metadata": {},
     "output_type": "display_data"
    }
   ],
   "source": [
    "df_f1.plot(x = 'thresh', y = 'f1')"
   ]
  },
  {
   "cell_type": "code",
   "execution_count": 132,
   "metadata": {},
   "outputs": [
    {
     "data": {
      "text/plain": [
       "thresh    0.570000\n",
       "f1        0.127533\n",
       "Name: 57, dtype: float64"
      ]
     },
     "execution_count": 132,
     "metadata": {},
     "output_type": "execute_result"
    }
   ],
   "source": [
    "max_index = df_f1['f1'].idxmax()\n",
    "\n",
    "df_f1.iloc[max_index]"
   ]
  },
  {
   "cell_type": "code",
   "execution_count": 137,
   "metadata": {},
   "outputs": [
    {
     "name": "stdout",
     "output_type": "stream",
     "text": [
      "\n",
      "Classification Report (Training):\n",
      "               precision    recall  f1-score   support\n",
      "\n",
      "         0.0       0.99      0.95      0.97    214293\n",
      "         1.0       0.09      0.25      0.13      3910\n",
      "\n",
      "    accuracy                           0.94    218203\n",
      "   macro avg       0.54      0.60      0.55    218203\n",
      "weighted avg       0.97      0.94      0.95    218203\n",
      "\n",
      "F1 Score (Training): 0.12753323867303473\n"
     ]
    }
   ],
   "source": [
    "val_binary_predictions = np.where(val_predictions > .57, 1, 0)\n",
    "print(\"\\nClassification Report (Training):\\n\", metrics.classification_report(y_val, val_binary_predictions))\n",
    "f1 = metrics.f1_score(y_val, val_binary_predictions )\n",
    "print(\"F1 Score (Training):\", f1)"
   ]
  },
  {
   "cell_type": "code",
   "execution_count": 202,
   "metadata": {},
   "outputs": [
    {
     "data": {
      "text/plain": [
       "<sklearn.metrics._plot.confusion_matrix.ConfusionMatrixDisplay at 0x1360bec7fb0>"
      ]
     },
     "execution_count": 202,
     "metadata": {},
     "output_type": "execute_result"
    },
    {
     "data": {
      "image/png": "[encoded data removed]",
      "text/plain": [
       "<Figure size 640x480 with 2 Axes>"
      ]
     },
     "metadata": {},
     "output_type": "display_data"
    }
   ],
   "source": [
    "cm = metrics.confusion_matrix(y_val, val_binary_predictions)\n",
    "disp = metrics.ConfusionMatrixDisplay(cm)\n",
    "disp.plot()\n",
    "\n",
    "\n"
   ]
  },
  {
   "cell_type": "code",
   "execution_count": 256,
   "metadata": {},
   "outputs": [
    {
     "name": "stderr",
     "output_type": "stream",
     "text": [
      "C:\\Users\\super\\AppData\\Local\\Temp\\ipykernel_37552\\3687365271.py:4: SettingWithCopyWarning: \n",
      "A value is trying to be set on a copy of a slice from a DataFrame.\n",
      "Try using .loc[row_indexer,col_indexer] = value instead\n",
      "\n",
      "See the caveats in the documentation: https://pandas.pydata.org/pandas-docs/stable/user_guide/indexing.html#returning-a-view-versus-a-copy\n",
      "  ids['Unique_ID'] = ids.groupby('patient').cumcount()+1\n",
      "C:\\Users\\super\\AppData\\Local\\Temp\\ipykernel_37552\\3687365271.py:5: SettingWithCopyWarning: \n",
      "A value is trying to be set on a copy of a slice from a DataFrame.\n",
      "Try using .loc[row_indexer,col_indexer] = value instead\n",
      "\n",
      "See the caveats in the documentation: https://pandas.pydata.org/pandas-docs/stable/user_guide/indexing.html#returning-a-view-versus-a-copy\n",
      "  ids['ID'] = ids['patient'].astype(str) + '_' + ids['Unique_ID'].astype(str)\n"
     ]
    },
    {
     "data": {
      "text/plain": [
       "<sklearn.metrics._plot.confusion_matrix.ConfusionMatrixDisplay at 0x1359ac61490>"
      ]
     },
     "execution_count": 256,
     "metadata": {},
     "output_type": "execute_result"
    },
    {
     "data": {
      "image/png": "[encoded data removed]",
      "text/plain": [
       "<Figure size 640x480 with 2 Axes>"
      ]
     },
     "metadata": {},
     "output_type": "display_data"
    }
   ],
   "source": [
    "import itertools\n",
    "from data_functions import subsequent\n",
    "ids = x_val[['patient']]\n",
    "ids['Unique_ID'] = ids.groupby('patient').cumcount()+1\n",
    "ids['ID'] = ids['patient'].astype(str) + '_' + ids['Unique_ID'].astype(str)\n",
    "\n",
    "ids = ids['ID']\n",
    "\n",
    "d = {'ID': ids, \"SepsisLabel\" : list(itertools.chain(*val_binary_predictions))}\n",
    "t = pd.DataFrame(data = d)\n",
    "\n",
    "\n",
    "testing = subsequent(t)\n",
    "\n",
    "cm = metrics.confusion_matrix(y_val, testing['SepsisLabel'])\n",
    "disp = metrics.ConfusionMatrixDisplay(cm)\n",
    "disp.plot()\n",
    "\n"
   ]
  },
  {
   "cell_type": "code",
   "execution_count": 257,
   "metadata": {},
   "outputs": [
    {
     "name": "stdout",
     "output_type": "stream",
     "text": [
      "\n",
      "Classification Report (Training):\n",
      "               precision    recall  f1-score   support\n",
      "\n",
      "         0.0       0.99      0.88      0.93    214293\n",
      "         1.0       0.06      0.43      0.11      3910\n",
      "\n",
      "    accuracy                           0.87    218203\n",
      "   macro avg       0.52      0.65      0.52    218203\n",
      "weighted avg       0.97      0.87      0.92    218203\n",
      "\n",
      "F1 Score (Training): 0.10718085963950601\n"
     ]
    }
   ],
   "source": [
    "\n",
    "print(\"\\nClassification Report (Training):\\n\", metrics.classification_report(y_val, testing['SepsisLabel']))\n",
    "f1 = metrics.f1_score(y_val, testing['SepsisLabel'] )\n",
    "print(\"F1 Score (Training):\", f1)"
   ]
  },
  {
   "cell_type": "code",
   "execution_count": 258,
   "metadata": {},
   "outputs": [
    {
     "name": "stdout",
     "output_type": "stream",
     "text": [
      "\u001b[1m14512/14512\u001b[0m \u001b[32m━━━━━━━━━━━━━━━━━━━━\u001b[0m\u001b[37m\u001b[0m \u001b[1m36s\u001b[0m 2ms/step\n"
     ]
    }
   ],
   "source": [
    "predictions = model.predict(test_removed)\n",
    "binary_predictions = np.where(predictions > 0.59, 1, 0)\n",
    "submission_file = pd.read_csv(rawSubmissionFile)\n",
    "submission_file['SepsisLabel'] = binary_predictions\n",
    "\n",
    "#submission_file = subsequent(submission_file)\n",
    "submission_file.to_csv('model_outputs/neural_submission_test.csv', index = False)"
   ]
  },
  {
   "cell_type": "code",
   "execution_count": 237,
   "metadata": {},
   "outputs": [],
   "source": [
    "model.save('model_outputs/best_model_1.keras')"
   ]
  },
  {
   "cell_type": "markdown",
   "metadata": {},
   "source": [
    "# Trying out different dropout rates"
   ]
  },
  {
   "cell_type": "code",
   "execution_count": null,
   "metadata": {},
   "outputs": [],
   "source": [
    "submission_file"
   ]
  },
  {
   "cell_type": "code",
   "execution_count": null,
   "metadata": {},
   "outputs": [],
   "source": [
    "submission_file[['patient_id', 'time']] = submission_file['ID'].str.split('_', expand=True)\n",
    "submission_file['time'] = submission_file['time'].astype(int)\n",
    "\n",
    "\n",
    "# Apply the rule: if there's a 1 at any time point, set all later values to 1 for that patient\n",
    "submission_file['SepsisLabel'] = submission_file.groupby('patient_id')['SepsisLabel'].transform(lambda x: x.cumsum().clip(upper=1))\n",
    "\n",
    "# Combine patient ID and time back into a single column if needed\n",
    "submission_file['patient_time'] = submission_file['patient_id'] + '_' + submission_file['time'].astype(str)\n",
    "submission_file = submission_file[['ID','SepsisLabel']]\n"
   ]
  },
  {
   "cell_type": "code",
   "execution_count": null,
   "metadata": {},
   "outputs": [],
   "source": [
    "submission_file.iloc[6381:6391]"
   ]
  },
  {
   "cell_type": "code",
   "execution_count": null,
   "metadata": {},
   "outputs": [],
   "source": [
    "def create_model(dropout):\n",
    "    model = Sequential()\n",
    "    model.add(Dense(30, activation = \"relu\" ))\n",
    "    model.add(tf.keras.layers.BatchNormalization())\n",
    "    model.add(tf.keras.layers.Dropout(dropout))\n",
    "    model.add(Dense(25, activation = \"relu\"))\n",
    "    model.add(tf.keras.layers.BatchNormalization())\n",
    "    model.add(tf.keras.layers.Dropout(dropout))\n",
    "    model.add(Dense(20, activation = \"relu\"))\n",
    "    model.add(tf.keras.layers.BatchNormalization())\n",
    "    model.add(tf.keras.layers.Dropout(dropout))\n",
    "    model.add(Dense(4, activation = \"relu\"))\n",
    "    model.add(tf.keras.layers.BatchNormalization())\n",
    "    model.add(tf.keras.layers.Dropout(dropout))\n",
    "    model.add(Dense(1, activation = \"sigmoid\"))\n",
    "\n",
    "    model.compile(optimizer='adam',\n",
    "                  loss='binary_crossentropy',\n",
    "                  metrics=['accuracy'])\n",
    "    return model\n"
   ]
  },
  {
   "cell_type": "code",
   "execution_count": null,
   "metadata": {},
   "outputs": [],
   "source": [
    "callback = tf.keras.callbacks.EarlyStopping(monitor='loss',\n",
    "                                              patience=10)\n",
    "\n",
    "model = create_model(0.1)\n",
    "model.fit(x_train, y_train, batch_size=1028, epochs = 100, callbacks = [callback])\n",
    "train_predictions = model.predict(x_train)\n",
    "fpr, tpr, thresholds = metrics.roc_curve(y_train, train_predictions)\n",
    "roc_auc = metrics.auc(fpr, tpr)\n",
    "display = metrics.RocCurveDisplay(fpr=fpr, tpr=tpr, roc_auc=roc_auc,\n",
    "                                  estimator_name='example estimator')\n",
    "display.plot()\n",
    "train_binary_predictions = np.where(train_predictions > 0.5, 1, 0)\n",
    "print(\"\\nClassification Report (Training):\\n\", metrics.classification_report(y_train, train_binary_predictions))\n",
    "f1 = metrics.f1_score(y_train, train_binary_predictions )\n",
    "print(\"F1 Score (Training):\", f1)\n",
    "\n"
   ]
  },
  {
   "cell_type": "code",
   "execution_count": null,
   "metadata": {},
   "outputs": [],
   "source": [
    "model.save('model_outputs/nn_dropout_01.keras')"
   ]
  },
  {
   "cell_type": "code",
   "execution_count": null,
   "metadata": {},
   "outputs": [],
   "source": [
    "callback = tf.keras.callbacks.EarlyStopping(monitor='loss',\n",
    "                                              patience=10)\n",
    "\n",
    "model = create_model(0.2)\n",
    "model.fit(x_train, y_train, batch_size=1028, epochs = 100, callbacks = [callback])\n",
    "train_predictions = model.predict(x_train)\n",
    "fpr, tpr, thresholds = metrics.roc_curve(y_train, train_predictions)\n",
    "roc_auc = metrics.auc(fpr, tpr)\n",
    "display = metrics.RocCurveDisplay(fpr=fpr, tpr=tpr, roc_auc=roc_auc,\n",
    "                                  estimator_name='example estimator')\n",
    "display.plot()\n",
    "train_binary_predictions = np.where(train_predictions > 0.5, 1, 0)\n",
    "print(\"\\nClassification Report (Training):\\n\", metrics.classification_report(y_train, train_binary_predictions))\n",
    "f1 = metrics.f1_score(y_train, train_binary_predictions )\n",
    "print(\"F1 Score (Training):\", f1)\n"
   ]
  },
  {
   "cell_type": "code",
   "execution_count": null,
   "metadata": {},
   "outputs": [],
   "source": [
    "model.save('model_outputs/nn_dropout_02.keras')"
   ]
  },
  {
   "cell_type": "code",
   "execution_count": null,
   "metadata": {},
   "outputs": [],
   "source": [
    "model = create_model(0.3)\n",
    "model.fit(x_train, y_train, batch_size=1028, epochs = 100, callbacks = [callback])\n",
    "train_predictions = model.predict(x_train)\n",
    "fpr, tpr, thresholds = metrics.roc_curve(y_train, train_predictions)\n",
    "roc_auc = metrics.auc(fpr, tpr)\n",
    "display = metrics.RocCurveDisplay(fpr=fpr, tpr=tpr, roc_auc=roc_auc,\n",
    "                                  estimator_name='example estimator')\n",
    "display.plot()\n",
    "train_binary_predictions = np.where(train_predictions > 0.5, 1, 0)\n",
    "print(\"\\nClassification Report (Training):\\n\", metrics.classification_report(y_train, train_binary_predictions))\n",
    "f1 = metrics.f1_score(y_train, train_binary_predictions )\n",
    "print(\"F1 Score (Training):\", f1)"
   ]
  },
  {
   "cell_type": "code",
   "execution_count": null,
   "metadata": {},
   "outputs": [],
   "source": [
    "model.save('model_outputs/nn_dropout_03.keras')"
   ]
  },
  {
   "cell_type": "markdown",
   "metadata": {},
   "source": [
    "Looks like dropout rate of 0.1 seems to do best? Let's look at other hyperparameters."
   ]
  },
  {
   "cell_type": "code",
   "execution_count": null,
   "metadata": {},
   "outputs": [],
   "source": [
    "def create_model_():\n",
    "    model = Sequential()\n",
    "    model.add(Dense(30, activation = \"relu\", ))\n",
    "    model.add(tf.keras.layers.BatchNormalization())\n",
    "    model.add(tf.keras.layers.Dropout(0.1))\n",
    "    model.add(Dense(25, activation = \"relu\"))\n",
    "    model.add(tf.keras.layers.BatchNormalization())\n",
    "    model.add(tf.keras.layers.Dropout(0.1))\n",
    "    model.add(Dense(20, activation = \"relu\"))\n",
    "    model.add(tf.keras.layers.BatchNormalization())\n",
    "    model.add(tf.keras.layers.Dropout(0.1))\n",
    "    model.add(Dense(4, activation = \"relu\"))\n",
    "    model.add(tf.keras.layers.BatchNormalization())\n",
    "    model.add(tf.keras.layers.Dropout(0.1))\n",
    "    model.add(Dense(1, activation = \"sigmoid\"))\n",
    "\n",
    "    model.compile(optimizer='adam',\n",
    "                  loss='binary_crossentropy',\n",
    "                  metrics=['accuracy'])\n",
    "    return model"
   ]
  },
  {
   "cell_type": "code",
   "execution_count": null,
   "metadata": {},
   "outputs": [],
   "source": [
    "from sklearn.model_selection import GridSearchCV\n",
    "from tensorflow.keras.models import Sequential\n",
    "from tensorflow.keras.layers import Dense\n",
    "from tensorflow.keras.layers import Dropout\n",
    "from scikeras.wrappers import KerasClassifier\n"
   ]
  },
  {
   "cell_type": "markdown",
   "metadata": {},
   "source": [
    "This one will target batch size and epochs."
   ]
  },
  {
   "cell_type": "code",
   "execution_count": null,
   "metadata": {},
   "outputs": [],
   "source": [
    "def create_model():\n",
    "\tmodel = Sequential()\n",
    "\tmodel.add(Dense(30, activation = \"relu\"))\n",
    "\tmodel.add(Dense(20, activation = \"relu\"))\n",
    "\tmodel.add(Dense(10, activation = \"relu\"))\n",
    "\tmodel.add(Dense(4, activation = \"relu\"))\n",
    "\tmodel.add(Dense(1, activation = \"sigmoid\"))\n",
    "\t# Compile model\n",
    "\tmodel.compile(loss='binary_crossentropy', optimizer='adam', metrics=['accuracy'])\n",
    "\treturn model"
   ]
  },
  {
   "cell_type": "code",
   "execution_count": null,
   "metadata": {},
   "outputs": [],
   "source": [
    "seed = 5\n",
    "tf.random.set_seed(seed)\n",
    "model= KerasClassifier(model = create_model, n_outputs_expected_ = 1, verbose = 0)\n",
    "\n",
    "batch_size = [10,20,40,60,80,100]\n",
    "epochs = [25,50,75]\n",
    "\n",
    "param_grid = dict(batch_size= batch_size, epochs=epochs)\n",
    "\n",
    "grid = GridSearchCV(estimator = model, param_grid = param_grid, n_jobs= -1, cv=5)\n",
    "grid_result= grid.fit(x_train, y_train)\n",
    "\n",
    "print(\"Best: %f using %s\" % (grid_result.best_score_, grid_result.best_params_))\n",
    "means = grid_result.cv_results_['mean_test_score']\n",
    "stds = grid_result.cv_results_['std_test_score']\n",
    "params = grid_result.cv_results_['params']\n",
    "for mean, stdev, param in zip(means, stds, params):\n",
    "    print(\"%f (%f) with: %r\" % (mean, stdev, param))"
   ]
  },
  {
   "cell_type": "code",
   "execution_count": null,
   "metadata": {},
   "outputs": [],
   "source": [
    "dill.dump_session('saved_notebook_env/neural_network.db')"
   ]
  }
 ],
 "metadata": {
  "kernelspec": {
   "display_name": "CaseComp",
   "language": "python",
   "name": "python3"
  },
  "language_info": {
   "codemirror_mode": {
    "name": "ipython",
    "version": 3
   },
   "file_extension": ".py",
   "mimetype": "text/x-python",
   "name": "python",
   "nbconvert_exporter": "python",
   "pygments_lexer": "ipython3",
   "version": "3.12.7"
  }
 },
 "nbformat": 4,
 "nbformat_minor": 2
}
